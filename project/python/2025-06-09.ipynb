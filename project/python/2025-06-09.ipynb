{
 "cells": [
  {
   "cell_type": "markdown",
   "id": "78a71944",
   "metadata": {},
   "source": [
    "## 파이썬 기본 문법 정리 1"
   ]
  },
  {
   "cell_type": "markdown",
   "id": "f5986c20",
   "metadata": {},
   "source": [
    "### 1. 주석\n",
    "- 코드 내부에 사용하여 실행에 영향을 주지 않는 메모\n",
    "- `#`을 사용해 작성"
   ]
  },
  {
   "cell_type": "markdown",
   "id": "6203824e",
   "metadata": {},
   "source": [
    "### 2. 변수 (Variable)\n",
    "- 데이터를 메모리에 저장하는 방식\n",
    "- 변수에는 데이터가 아닌 메모리 주소가 저장됨\n",
    "- 형식: 변수이름 = 값"
   ]
  },
  {
   "cell_type": "code",
   "execution_count": 1,
   "id": "4f72acfb",
   "metadata": {},
   "outputs": [
    {
     "name": "stdout",
     "output_type": "stream",
     "text": [
      "10\n",
      "140721251042504\n",
      "110\n"
     ]
    }
   ],
   "source": [
    "num = 10\n",
    "print(num)\n",
    "print(id(num))  # 메모리 주소 확인\n",
    "print(num + 100)"
   ]
  },
  {
   "cell_type": "markdown",
   "id": "72382a6a",
   "metadata": {},
   "source": [
    "### 3. 자료형 (Data Types)\n",
    "- 파이썬은 동적 타이핑 언어 → 실행 시 자료형이 결정됨\n",
    "- 주요 자료형: int, float, str, bool"
   ]
  },
  {
   "cell_type": "code",
   "execution_count": 2,
   "id": "db2f0f9c",
   "metadata": {},
   "outputs": [
    {
     "name": "stdout",
     "output_type": "stream",
     "text": [
      "<class 'int'> <class 'float'>\n",
      "hello <class 'str'>\n",
      "True <class 'bool'>\n"
     ]
    }
   ],
   "source": [
    "num1 = 10       # 정수\n",
    "num2 = 3.14     # 실수\n",
    "print(type(num1), type(num2))\n",
    "\n",
    "num3 = 'hello'  # 문자열\n",
    "print(num3, type(num3))\n",
    "\n",
    "check1 = True   # 불린\n",
    "check2 = False\n",
    "print(check1, type(check1))"
   ]
  },
  {
   "cell_type": "markdown",
   "id": "5d32c54d",
   "metadata": {},
   "source": [
    "### 4. 문자열 (String)\n",
    "\n",
    "#### 문자열 생성\n",
    "- 작은 따옴표, 큰 따옴표, 삼중 따옴표 모두 사용 가능"
   ]
  },
  {
   "cell_type": "code",
   "execution_count": 3,
   "id": "b5008fe5",
   "metadata": {},
   "outputs": [
    {
     "name": "stdout",
     "output_type": "stream",
     "text": [
      "hello! <class 'str'>\n",
      "안녕하세요 <class 'str'>\n",
      "첫 번째\n",
      "안녕하세요\n",
      "반갑습니다.\n",
      "\n",
      "SELECT *\n",
      "FROM emp\n",
      "WHERE empno=10\n",
      "\n"
     ]
    }
   ],
   "source": [
    "str_1 = 'hello!'\n",
    "str_2 = \"안녕하세요\"\n",
    "str_3 = '''첫 번째\n",
    "안녕하세요\n",
    "반갑습니다.'''\n",
    "str_4 = \"\"\"\n",
    "SELECT *\n",
    "FROM emp\n",
    "WHERE empno=10\n",
    "\"\"\"\n",
    "\n",
    "print(str_1, type(str_1))\n",
    "print(str_2, type(str_2))\n",
    "print(str_3)\n",
    "print(str_4)"
   ]
  },
  {
   "cell_type": "markdown",
   "id": "624bdef9",
   "metadata": {},
   "source": [
    "#### 문자열 연산 및 관련 함수\n",
    "- `+`: 연결\n",
    "- `*`: 반복\n",
    "- `len()`: 길이 확인\n",
    "- 문자열은 시퀀스 → 인덱싱, 슬라이싱 가능"
   ]
  },
  {
   "cell_type": "code",
   "execution_count": 4,
   "id": "08a08650",
   "metadata": {},
   "outputs": [
    {
     "name": "stdout",
     "output_type": "stream",
     "text": [
      "hello python\n",
      "==========\n",
      "6\n",
      "hello~ python!!\n",
      "~\n",
      "hello\n"
     ]
    }
   ],
   "source": [
    "print('hello' + ' python')\n",
    "print('=' * 10)\n",
    "print(len(str_1))\n",
    "print(str_5 := 'hello~ python!!')\n",
    "print(str_5[5])        # 인덱싱\n",
    "print(str_5[0:5])      # 슬라이싱"
   ]
  },
  {
   "cell_type": "markdown",
   "id": "63f72693",
   "metadata": {},
   "source": [
    "#### 문자열 포맷팅\n",
    "- f-string 방식 사용 (Python 3.6+)"
   ]
  },
  {
   "cell_type": "code",
   "execution_count": 5,
   "id": "f0dc338b",
   "metadata": {},
   "outputs": [
    {
     "name": "stdout",
     "output_type": "stream",
     "text": [
      "안녕하세요! 저는 하이입니다. 나이는 30살 입니다.\n",
      "내년에는 나이가 31살이 됩니다.\n"
     ]
    }
   ],
   "source": [
    "user_name = '하이'\n",
    "user_age = 30\n",
    "print(f'안녕하세요! 저는 {user_name}입니다. 나이는 {user_age}살 입니다.')\n",
    "print(f'내년에는 나이가 {user_age + 1}살이 됩니다.')"
   ]
  },
  {
   "cell_type": "markdown",
   "id": "81a29ff9",
   "metadata": {},
   "source": [
    "### 5. 대입 연산자\n",
    "- `=`, `+=`, `-=`, `*=`, ..."
   ]
  },
  {
   "cell_type": "code",
   "execution_count": 6,
   "id": "732bb803",
   "metadata": {},
   "outputs": [
    {
     "name": "stdout",
     "output_type": "stream",
     "text": [
      "2\n",
      "3\n"
     ]
    }
   ],
   "source": [
    "num = 1\n",
    "num = num + 1\n",
    "print(num)\n",
    "num += 1\n",
    "print(num)"
   ]
  },
  {
   "cell_type": "markdown",
   "id": "354cbc53",
   "metadata": {},
   "source": [
    "### 연습 문제 1\n",
    "- 국어, 영어, 수학 점수의 총합과 평균을 구하고 출력하기"
   ]
  },
  {
   "cell_type": "code",
   "execution_count": 7,
   "id": "87eaacad",
   "metadata": {},
   "outputs": [
    {
     "name": "stdout",
     "output_type": "stream",
     "text": [
      "국어 : 90점, 영어 : 80점, 수학 : 70점\n",
      "총합 : 240점, 평균 : 80.0점\n"
     ]
    }
   ],
   "source": [
    "korean = 90\n",
    "english = 80\n",
    "math = 70\n",
    "\n",
    "sum = (korean + english + math)\n",
    "avg = sum / 3\n",
    "\n",
    "print(f\"국어 : {korean}점, 영어 : {english}점, 수학 : {math}점\")\n",
    "print(f\"총합 : {sum}점, 평균 : {avg}점\")"
   ]
  },
  {
   "cell_type": "markdown",
   "id": "a0821de9",
   "metadata": {},
   "source": [
    "#### 모범 답안"
   ]
  },
  {
   "cell_type": "code",
   "execution_count": 8,
   "id": "ea3f7b84",
   "metadata": {},
   "outputs": [
    {
     "name": "stdout",
     "output_type": "stream",
     "text": [
      "국어점수:100, 영어점수:70, 수학점수:80 \n",
      "총점:250 \n",
      "평균점수:83.33333333333333\n"
     ]
    }
   ],
   "source": [
    "kor_score = 100\n",
    "eng_score = 70\n",
    "math_score = 80\n",
    "\n",
    "sum_score = kor_score + eng_score + math_score\n",
    "avg_score = sum_score / 3\n",
    "\n",
    "print(f'국어점수:{kor_score}, 영어점수:{eng_score}, 수학점수:{math_score} \\n총점:{sum_score} \\n평균점수:{avg_score}')"
   ]
  },
  {
   "cell_type": "markdown",
   "id": "ff225dee",
   "metadata": {},
   "source": [
    "### 연습 문제 2\n",
    "- 성별이 남성이고 18세 이상인지 판단하는 조건문 작성"
   ]
  },
  {
   "cell_type": "code",
   "execution_count": 9,
   "id": "e7479f39",
   "metadata": {},
   "outputs": [
    {
     "name": "stdout",
     "output_type": "stream",
     "text": [
      "True\n"
     ]
    }
   ],
   "source": [
    "gender = \"male\"\n",
    "age = 20\n",
    "\n",
    "if (gender == \"male\") and (age >= 18):\n",
    "    print(\"True\")\n",
    "else:\n",
    "    print(\"False\")"
   ]
  },
  {
   "cell_type": "markdown",
   "id": "371792e6",
   "metadata": {},
   "source": [
    "#### 모범 답안"
   ]
  },
  {
   "cell_type": "code",
   "execution_count": 10,
   "id": "21c0f054",
   "metadata": {},
   "outputs": [
    {
     "name": "stdout",
     "output_type": "stream",
     "text": [
      "성인 남성 체크 : True\n"
     ]
    }
   ],
   "source": [
    "gender = 'M'\n",
    "age = 18\n",
    "check = gender == 'M' and age >= 18\n",
    "print('성인 남성 체크 :', check)"
   ]
  },
  {
   "cell_type": "markdown",
   "id": "16656048",
   "metadata": {},
   "source": [
    "### 6. 리스트 (List)\n",
    "- 순서를 가지는 데이터의 묶음\n",
    "- 인덱스로 각 요소 접근 가능"
   ]
  },
  {
   "cell_type": "code",
   "execution_count": 11,
   "id": "1aea7344",
   "metadata": {},
   "outputs": [
    {
     "name": "stdout",
     "output_type": "stream",
     "text": [
      "[1, 2, 3] <class 'list'>\n",
      "1\n",
      "2\n",
      "3\n",
      "[1, 2, 4]\n"
     ]
    }
   ],
   "source": [
    "list_a = [1, 2, 3]\n",
    "print(list_a, type(list_a))\n",
    "print(list_a[0])\n",
    "print(list_a[1])\n",
    "print(list_a[2])\n",
    "\n",
    "list_a[2] = 4\n",
    "print(list_a)"
   ]
  }
 ],
 "metadata": {
  "kernelspec": {
   "display_name": ".venv",
   "language": "python",
   "name": "python3"
  },
  "language_info": {
   "codemirror_mode": {
    "name": "ipython",
    "version": 3
   },
   "file_extension": ".py",
   "mimetype": "text/x-python",
   "name": "python",
   "nbconvert_exporter": "python",
   "pygments_lexer": "ipython3",
   "version": "3.13.4"
  }
 },
 "nbformat": 4,
 "nbformat_minor": 5
}
