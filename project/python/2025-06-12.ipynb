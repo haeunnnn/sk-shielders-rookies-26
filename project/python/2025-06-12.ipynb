{
 "cells": [
  {
   "cell_type": "markdown",
   "id": "21c6d262",
   "metadata": {},
   "source": [
    "## 파이썬 기본 문법 정리 4"
   ]
  },
  {
   "cell_type": "markdown",
   "id": "dab23070",
   "metadata": {},
   "source": [
    "### 1. 객체지향 프로그래밍"
   ]
  },
  {
   "cell_type": "markdown",
   "id": "c18e0a6f",
   "metadata": {},
   "source": [
    "#### 객체\n",
    "- 변수들, 함수들로 구성. 메모리에 올라가 있는 상태\n",
    "\n",
    "#### 클래스\n",
    "- 변수들과 함수들이 어떻게 구성된느지의 설계도, 도면, 틀\n",
    "- 변수 정의, 함수 정의\n",
    "- 클래스를 정의한 후 객체로 만들어야 사용 가능\n",
    "- 클래스의 정의 → 새로운 사용자 정의 타입을 만드는 것"
   ]
  },
  {
   "cell_type": "markdown",
   "id": "9dd3123f",
   "metadata": {},
   "source": [
    "#### 클래스 정의 및 객체 생성"
   ]
  },
  {
   "cell_type": "code",
   "execution_count": 1,
   "id": "c536def2",
   "metadata": {},
   "outputs": [
    {
     "name": "stdout",
     "output_type": "stream",
     "text": [
      "2354142936576 <class '__main__.Cookie'>\n"
     ]
    }
   ],
   "source": [
    "class Cookie:\n",
    "    pass\n",
    "\n",
    "c1 = Cookie()\n",
    "\n",
    "print(id(c1), type(c1))"
   ]
  },
  {
   "cell_type": "code",
   "execution_count": 2,
   "id": "50239031",
   "metadata": {},
   "outputs": [
    {
     "name": "stdout",
     "output_type": "stream",
     "text": [
      "2354142603024 <class '__main__.Cookie'>\n",
      "2354142602704 <class '__main__.Cookie'>\n"
     ]
    }
   ],
   "source": [
    "# 객체 새로 생성 시 새로운 주소 지정\n",
    "c1 = Cookie()\n",
    "c2 = Cookie()\n",
    "\n",
    "print(id(c1), type(c1))\n",
    "print(id(c2), type(c2))"
   ]
  },
  {
   "cell_type": "code",
   "execution_count": 3,
   "id": "22e5fbb6",
   "metadata": {},
   "outputs": [
    {
     "name": "stdout",
     "output_type": "stream",
     "text": [
      "<class '__main__.FourCal'>\n"
     ]
    }
   ],
   "source": [
    "#사칙 연산을 하는 클래스 정의\n",
    "# 변수 2개, 함수(메서드) 4개\n",
    "\n",
    "class FourCal:\n",
    "    # 클래스에서 함수를 정의할 때에는 반드시 self 매개변수를 받아야 함\n",
    "    # self : 객체 자신을 가리키는 변수(객체의 주소) → 호출 시 생략\n",
    "    def setData(self, first, second):\n",
    "        self.first = first\n",
    "        self.second = second\n",
    "\n",
    "cal_1 = FourCal()\n",
    "print(type(cal_1))"
   ]
  },
  {
   "cell_type": "code",
   "execution_count": 4,
   "id": "8ea81c94",
   "metadata": {},
   "outputs": [
    {
     "name": "stdout",
     "output_type": "stream",
     "text": [
      "10 20\n"
     ]
    }
   ],
   "source": [
    "cal_1.setData(10, 20)\n",
    "print(cal_1.first, cal_1.second)"
   ]
  },
  {
   "cell_type": "code",
   "execution_count": 5,
   "id": "e1df6066",
   "metadata": {},
   "outputs": [
    {
     "ename": "AttributeError",
     "evalue": "'FourCal' object has no attribute 'first'",
     "output_type": "error",
     "traceback": [
      "\u001b[31m---------------------------------------------------------------------------\u001b[39m",
      "\u001b[31mAttributeError\u001b[39m                            Traceback (most recent call last)",
      "\u001b[36mCell\u001b[39m\u001b[36m \u001b[39m\u001b[32mIn[5]\u001b[39m\u001b[32m, line 2\u001b[39m\n\u001b[32m      1\u001b[39m cal_2 = FourCal()\n\u001b[32m----> \u001b[39m\u001b[32m2\u001b[39m \u001b[38;5;28mprint\u001b[39m(\u001b[43mcal_2\u001b[49m\u001b[43m.\u001b[49m\u001b[43mfirst\u001b[49m)\n",
      "\u001b[31mAttributeError\u001b[39m: 'FourCal' object has no attribute 'first'"
     ]
    }
   ],
   "source": [
    "cal_2 = FourCal()\n",
    "print(cal_2.first)"
   ]
  },
  {
   "cell_type": "markdown",
   "id": "f305c15b",
   "metadata": {},
   "source": [
    "#### 생성자\n",
    "- 생성자(초기화 메서드) : 변수 선언 후 최초 데이터를 할당\n",
    "- 필요한 변수들의 생성, 값을 초기화해야 함"
   ]
  },
  {
   "cell_type": "code",
   "execution_count": 6,
   "id": "264c62c4",
   "metadata": {},
   "outputs": [
    {
     "ename": "TypeError",
     "evalue": "FourCal.__init__() missing 2 required positional arguments: 'first' and 'second'",
     "output_type": "error",
     "traceback": [
      "\u001b[31m---------------------------------------------------------------------------\u001b[39m",
      "\u001b[31mTypeError\u001b[39m                                 Traceback (most recent call last)",
      "\u001b[36mCell\u001b[39m\u001b[36m \u001b[39m\u001b[32mIn[6]\u001b[39m\u001b[32m, line 12\u001b[39m\n\u001b[32m      9\u001b[39m         \u001b[38;5;28mself\u001b[39m.first = first\n\u001b[32m     10\u001b[39m         \u001b[38;5;28mself\u001b[39m.second = second\n\u001b[32m---> \u001b[39m\u001b[32m12\u001b[39m cal_3 = \u001b[43mFourCal\u001b[49m\u001b[43m(\u001b[49m\u001b[43m)\u001b[49m\n",
      "\u001b[31mTypeError\u001b[39m: FourCal.__init__() missing 2 required positional arguments: 'first' and 'second'"
     ]
    }
   ],
   "source": [
    "# 초기화 메서드 추가\n",
    "class FourCal:\n",
    "    # 초기화 메서드\n",
    "    def __init__(self, first, second):\n",
    "        self.first = first\n",
    "        self.second = second\n",
    "\n",
    "    def setData(self, first, second):\n",
    "        self.first = first\n",
    "        self.second = second\n",
    "\n",
    "cal_3 = FourCal()"
   ]
  },
  {
   "cell_type": "markdown",
   "id": "a5007b39",
   "metadata": {},
   "source": [
    "#### 객체 생성 실행 흐름\n",
    "1. FourCal 객체 생성\n",
    "2. FourCal() 호출 → `__init__()` 호출 → 정의된 매개변수 반드시 정의"
   ]
  },
  {
   "cell_type": "code",
   "execution_count": 7,
   "id": "30e26768",
   "metadata": {},
   "outputs": [
    {
     "name": "stdout",
     "output_type": "stream",
     "text": [
      "100 200\n"
     ]
    }
   ],
   "source": [
    "cal_3 = FourCal(100, 200)\n",
    "print(cal_3.first, cal_3.second)"
   ]
  },
  {
   "cell_type": "code",
   "execution_count": 8,
   "id": "804c1031",
   "metadata": {},
   "outputs": [],
   "source": [
    "# 사칙 연산 함수 추가\n",
    "\n",
    "class FourCal:\n",
    "    # 초기화 메서드\n",
    "    def __init__(self, first, second):\n",
    "        self.first = first\n",
    "        self.second = second\n",
    "\n",
    "    def setData(self, first, second):\n",
    "        self.first = first\n",
    "        self.second = second\n",
    "    \n",
    "    # 사칙 연산 함수\n",
    "    def add(self):\n",
    "        return self.first + self.second\n",
    "    \n",
    "    def sub(self):\n",
    "        return self.first - self.second\n",
    "    \n",
    "    def mul(self):\n",
    "        return self.first * self.second\n",
    "    \n",
    "    def div(self):\n",
    "        return self.first / self.second"
   ]
  },
  {
   "cell_type": "code",
   "execution_count": 9,
   "id": "e0626a0e",
   "metadata": {},
   "outputs": [
    {
     "name": "stdout",
     "output_type": "stream",
     "text": [
      "add: 17, sub: 3, mul: 70, div: 1.4285714285714286\n"
     ]
    }
   ],
   "source": [
    "cal_5 = FourCal(10, 7)\n",
    "print(f\"add: {cal_5.add()}, sub: {cal_5.sub()}, mul: {cal_5.mul()}, div: {cal_5.div()}\")"
   ]
  },
  {
   "cell_type": "markdown",
   "id": "e6798264",
   "metadata": {},
   "source": [
    "#### 연습 문제"
   ]
  },
  {
   "cell_type": "code",
   "execution_count": 10,
   "id": "f6f5e4ff",
   "metadata": {},
   "outputs": [],
   "source": [
    "# 학생 클래스 생성 후 객체 생성\n",
    "# 변수: 학번, 이름, 국어점수, 영어점수, 수학점수\n",
    "# 기능: 전체 데이터(이름, 학번, 총점, 평균) 출력 메서드, 총점 계산 메서드, 평균 계산 메서드\n",
    "# 시뮬레이션: 테스트 학생 데이터 생성 후 결과 출력\n",
    "\n",
    "class Student:\n",
    "    student_sum = 0\n",
    "    student_avg = 0\n",
    "\n",
    "    def __init__(self, student_id, student_name, student_kor, student_eng, student_math):\n",
    "        self.student_id = student_id\n",
    "        self.student_name = student_name\n",
    "        self.student_kor = student_kor\n",
    "        self.student_eng = student_eng\n",
    "        self.student_math = student_math\n",
    "    \n",
    "    def setSum(self):\n",
    "        self.student_sum = self.student_kor + self.student_eng + self.student_math\n",
    "\n",
    "    def setAvg(self):\n",
    "        self.student_avg = (self.student_kor + self.student_eng + self.student_math) / 3\n",
    "    \n",
    "    def print_result(self):\n",
    "        print(f\"name: {self.student_name}, id: {self.student_id}, sum: {self.student_sum}, avg: {self.student_avg}\")"
   ]
  },
  {
   "cell_type": "code",
   "execution_count": 11,
   "id": "1b9eb337",
   "metadata": {},
   "outputs": [
    {
     "name": "stdout",
     "output_type": "stream",
     "text": [
      "name: 하이, id: 22, sum: 240, avg: 80.0\n"
     ]
    }
   ],
   "source": [
    "s1 = Student(22, \"하이\", 80, 90, 70)\n",
    "s1.setSum()\n",
    "s1.setAvg()\n",
    "s1.print_result()"
   ]
  },
  {
   "cell_type": "markdown",
   "id": "34d76cd1",
   "metadata": {},
   "source": [
    "##### 모범 답안"
   ]
  },
  {
   "cell_type": "code",
   "execution_count": 12,
   "id": "a25a3e8f",
   "metadata": {},
   "outputs": [],
   "source": [
    "class Student:\n",
    "    \n",
    "    # 데이터 초기화\n",
    "    def __init__(self, name, sno, k_score, e_score, m_score):\n",
    "        self.s_name = name\n",
    "        self.s_no = sno\n",
    "        self.k_score = k_score\n",
    "        self.e_score = e_score\n",
    "        self.m_score = m_score\n",
    "\n",
    "    def sum(self):\n",
    "        return self.k_score + self.e_score + self.m_score\n",
    "    \n",
    "    def avg(self):\n",
    "        return self.sum()/3\n",
    "\n",
    "    def print_result(self):\n",
    "        print('성적표', '-'*20)\n",
    "        print(f'이름: {self.s_name} ({self.s_no})')\n",
    "        print('국어 :', self.k_score)\n",
    "        print('영어 :', self.e_score)\n",
    "        print('수학 :', self.m_score)\n",
    "        print('총점 :', self.sum())\n",
    "        print('평균 :', self.avg())"
   ]
  },
  {
   "cell_type": "code",
   "execution_count": 13,
   "id": "a67c5539",
   "metadata": {},
   "outputs": [],
   "source": [
    "students = [\n",
    "    Student(\"하이1\", 22, 80, 90, 70),\n",
    "    Student(\"하이2\", 23, 80, 90, 70),\n",
    "    Student(\"하이3\", 24, 80, 90, 70),\n",
    "    Student(\"하이4\", 25, 80, 90, 70),\n",
    "    Student(\"하이5\", 26, 80, 90, 70),\n",
    "]"
   ]
  },
  {
   "cell_type": "code",
   "execution_count": 14,
   "id": "58f3c567",
   "metadata": {},
   "outputs": [
    {
     "name": "stdout",
     "output_type": "stream",
     "text": [
      "성적표 --------------------\n",
      "이름: 하이1 (22)\n",
      "국어 : 80\n",
      "영어 : 90\n",
      "수학 : 70\n",
      "총점 : 240\n",
      "평균 : 80.0\n",
      "성적표 --------------------\n",
      "이름: 하이2 (23)\n",
      "국어 : 80\n",
      "영어 : 90\n",
      "수학 : 70\n",
      "총점 : 240\n",
      "평균 : 80.0\n",
      "성적표 --------------------\n",
      "이름: 하이3 (24)\n",
      "국어 : 80\n",
      "영어 : 90\n",
      "수학 : 70\n",
      "총점 : 240\n",
      "평균 : 80.0\n",
      "성적표 --------------------\n",
      "이름: 하이4 (25)\n",
      "국어 : 80\n",
      "영어 : 90\n",
      "수학 : 70\n",
      "총점 : 240\n",
      "평균 : 80.0\n",
      "성적표 --------------------\n",
      "이름: 하이5 (26)\n",
      "국어 : 80\n",
      "영어 : 90\n",
      "수학 : 70\n",
      "총점 : 240\n",
      "평균 : 80.0\n"
     ]
    }
   ],
   "source": [
    "for s in students:\n",
    "    s.print_result()"
   ]
  },
  {
   "cell_type": "markdown",
   "id": "9d7f0fc1",
   "metadata": {},
   "source": [
    "#### 클래스 상속과 오버라이딩"
   ]
  },
  {
   "cell_type": "code",
   "execution_count": 15,
   "id": "11e1c3ee",
   "metadata": {},
   "outputs": [
    {
     "name": "stdout",
     "output_type": "stream",
     "text": [
      "108 92 800 12.5\n"
     ]
    }
   ],
   "source": [
    "class MoreFourCal(FourCal):\n",
    "    pass\n",
    "\n",
    "mcal_1 = MoreFourCal(100, 8)\n",
    "print(mcal_1.add(), mcal_1.sub(), mcal_1.mul(), mcal_1.div())"
   ]
  },
  {
   "cell_type": "code",
   "execution_count": 16,
   "id": "78f31ab9",
   "metadata": {},
   "outputs": [],
   "source": [
    "class MoreFourCal(FourCal):\n",
    "    # 새로운 함수 추가\n",
    "    def pow(self):\n",
    "        return self.first**self.second\n",
    "    \n",
    "    # 메서드 오버라이딩 : 기존의 함수 기능 수정\n",
    "    def div(self):\n",
    "        if self.second == 0:\n",
    "            return 0\n",
    "        else:\n",
    "            return self.first / self.second"
   ]
  },
  {
   "cell_type": "code",
   "execution_count": 17,
   "id": "eb659594",
   "metadata": {},
   "outputs": [
    {
     "name": "stdout",
     "output_type": "stream",
     "text": [
      "1 0\n"
     ]
    }
   ],
   "source": [
    "mcal_2 = MoreFourCal(4, 0)\n",
    "print(mcal_2.pow(), mcal_2.div())"
   ]
  },
  {
   "cell_type": "markdown",
   "id": "29af21ac",
   "metadata": {},
   "source": [
    "### 2. 모듈과 패키지"
   ]
  },
  {
   "cell_type": "markdown",
   "id": "2a7f7a14",
   "metadata": {},
   "source": [
    "#### 모듈"
   ]
  },
  {
   "cell_type": "markdown",
   "id": "f830cbe2",
   "metadata": {},
   "source": [
    "##### 모듈 생성"
   ]
  },
  {
   "cell_type": "code",
   "execution_count": 18,
   "id": "94ecdda2",
   "metadata": {},
   "outputs": [
    {
     "name": "stdout",
     "output_type": "stream",
     "text": [
      "mod1.py 시작\n",
      "mod1.py 끝\n"
     ]
    }
   ],
   "source": [
    "# mod1.py 파일\n",
    "print(\"mod1.py 시작\")\n",
    "\n",
    "PI = 3.14\n",
    "\n",
    "def add(n1, n2):\n",
    "    return n1 + n2\n",
    "\n",
    "def sub(n1, n2):\n",
    "    return n1 - n2\n",
    "\n",
    "print('mod1.py 끝')"
   ]
  },
  {
   "cell_type": "markdown",
   "id": "71651e7c",
   "metadata": {},
   "source": [
    "##### 모듈 불러오기"
   ]
  },
  {
   "cell_type": "code",
   "execution_count": null,
   "id": "69d800f5",
   "metadata": {},
   "outputs": [],
   "source": [
    "# app.py 파일\n",
    "import mod1\n",
    "\n",
    "print(mod1.PI)\n",
    "print(mod1.add(10, 20))\n",
    "print(mod1.sub(10, 3))\n",
    "\n",
    "# 출력 결과:\n",
    "# mod1.py 시작\n",
    "# mod1.py 끝\n",
    "# 3.14\n",
    "# 30\n",
    "# 7"
   ]
  },
  {
   "cell_type": "markdown",
   "id": "226efd34",
   "metadata": {},
   "source": [
    "##### 모듈 이름 없이 함수 이름만으로 불러오기"
   ]
  },
  {
   "cell_type": "code",
   "execution_count": null,
   "id": "ea9f3895",
   "metadata": {},
   "outputs": [],
   "source": [
    "from mod1 import PI, add, sub\n",
    "\n",
    "print(PI)\n",
    "print(add(100, 20))\n",
    "print(sub(10, 3))\n",
    "\n",
    "# 출력 결과:\n",
    "# mod1.py 시작\n",
    "# mod1.py 끝\n",
    "# 3.14\n",
    "# 120\n",
    "# 7"
   ]
  },
  {
   "cell_type": "markdown",
   "id": "59197816",
   "metadata": {},
   "source": [
    "##### 모듈 내 모든 함수 불러오기"
   ]
  },
  {
   "cell_type": "code",
   "execution_count": null,
   "id": "74b14a7e",
   "metadata": {},
   "outputs": [],
   "source": [
    "from mod1 import *\n",
    "\n",
    "print(PI)\n",
    "print(add(100, 20))\n",
    "print(sub(10, 3))\n",
    "\n",
    "# 출력 결과:\n",
    "# mod1.py 시작\n",
    "# mod1.py 끝\n",
    "# 3.14\n",
    "# 120\n",
    "# 7"
   ]
  },
  {
   "cell_type": "markdown",
   "id": "27959af3",
   "metadata": {},
   "source": [
    "##### 모듈 별칭 만들기"
   ]
  },
  {
   "cell_type": "code",
   "execution_count": null,
   "id": "048c8492",
   "metadata": {},
   "outputs": [],
   "source": [
    "import mod1 as mo"
   ]
  },
  {
   "cell_type": "markdown",
   "id": "daaf37db",
   "metadata": {},
   "source": [
    "### 3. 표준 라이브러리"
   ]
  },
  {
   "cell_type": "markdown",
   "id": "cd460c59",
   "metadata": {},
   "source": [
    "- 따로 설치하지 않아도 파이썬에서 기본 제공"
   ]
  },
  {
   "cell_type": "markdown",
   "id": "d8338b2b",
   "metadata": {},
   "source": [
    "#### datetime"
   ]
  },
  {
   "cell_type": "code",
   "execution_count": 20,
   "id": "8ad87a28",
   "metadata": {},
   "outputs": [
    {
     "name": "stdout",
     "output_type": "stream",
     "text": [
      "2025-06-12\n",
      "162 days, 0:00:00\n"
     ]
    }
   ],
   "source": [
    "import datetime\n",
    "\n",
    "day1 = datetime.date(2025, 6, 12)\n",
    "day2 = datetime.date(2025, 1, 1)\n",
    "\n",
    "print(day1)\n",
    "print(day1 - day2)"
   ]
  },
  {
   "cell_type": "markdown",
   "id": "bd149c25",
   "metadata": {},
   "source": [
    "#### time"
   ]
  },
  {
   "cell_type": "code",
   "execution_count": 21,
   "id": "53a5d985",
   "metadata": {},
   "outputs": [
    {
     "name": "stdout",
     "output_type": "stream",
     "text": [
      "1749717177.1589074\n",
      "time.struct_time(tm_year=2025, tm_mon=6, tm_mday=12, tm_hour=17, tm_min=32, tm_sec=57, tm_wday=3, tm_yday=163, tm_isdst=0)\n",
      "2025년 6월 12일\n",
      "Thu Jun 12 17:32:57 2025\n"
     ]
    }
   ],
   "source": [
    "import time\n",
    "\n",
    "print(time.time())\n",
    "print(time.localtime())\n",
    "print(f\"{time.localtime().tm_year}년 {time.localtime().tm_mon}월 {time.localtime().tm_mday}일\")\n",
    "print(time.ctime())"
   ]
  },
  {
   "cell_type": "markdown",
   "id": "c6c74d20",
   "metadata": {},
   "source": [
    "#### random"
   ]
  },
  {
   "cell_type": "code",
   "execution_count": 22,
   "id": "e9d3d70a",
   "metadata": {},
   "outputs": [
    {
     "name": "stdout",
     "output_type": "stream",
     "text": [
      "0.35211829932086014\n",
      "2\n",
      "[83, 68, 69, 94, 81, 79, 84, 64, 76, 70]\n",
      "1\n",
      "[4, 6, 5]\n"
     ]
    }
   ],
   "source": [
    "import random\n",
    "\n",
    "# 0 ~ 1 사이의 실수값(1은 X)을 랜덤으로 \n",
    "print(random.random())\n",
    "\n",
    "# 0 ~ 10 사이의 정수값을 랜덤으로\n",
    "print(random.randint(0, 10))\n",
    "\n",
    "list_score = []\n",
    "for s in range(0, 10):\n",
    "    list_score.append(random.randint(60, 100))\n",
    "\n",
    "print(list_score)\n",
    "\n",
    "# 주어진 시퀀스의 요소들 중 하나를 랜덤으로 뽑아줌\n",
    "print(random.choice([1, 2, 3, 4, 5]))\n",
    "\n",
    "# 주어진 시퀀스의 요소들 중 k개를 랜덤으로 뽑아줌\n",
    "print(random.sample([1, 2, 3, 4, 5, 6, 7, 8, 9], 3))"
   ]
  },
  {
   "cell_type": "markdown",
   "id": "32dd5f9d",
   "metadata": {},
   "source": [
    "#### os\n",
    "- 특정 디렉토리의 내용을 모니터링할 때 사용"
   ]
  },
  {
   "cell_type": "code",
   "execution_count": 28,
   "id": "73b70da2",
   "metadata": {},
   "outputs": [
    {
     "name": "stdout",
     "output_type": "stream",
     "text": [
      "environ({'ALLUSERSPROFILE': 'C:\\\\ProgramData', 'APPDATA': 'C:\\\\Users\\\\ez\\\\AppData\\\\Roaming', 'CHROME_CRASHPAD_PIPE_NAME': '\\\\\\\\.\\\\pipe\\\\crashpad_10876_ESWAIMOANJSJWYJZ', 'COMMONPROGRAMFILES': 'C:\\\\Program Files\\\\Common Files', 'COMMONPROGRAMFILES(X86)': 'C:\\\\Program Files (x86)\\\\Common Files', 'COMMONPROGRAMW6432': 'C:\\\\Program Files\\\\Common Files', 'COMPUTERNAME': 'DESKTOP-3M6FEIA', 'COMSPEC': 'C:\\\\Windows\\\\system32\\\\cmd.exe', 'DRIVERDATA': 'C:\\\\Windows\\\\System32\\\\Drivers\\\\DriverData', 'EFC_6900': '1', 'ELECTRON_RUN_AS_NODE': '1', 'HOMEDRIVE': 'C:', 'HOMEPATH': '\\\\Users\\\\ez', 'JPY_INTERRUPT_EVENT': '2740', 'LOCALAPPDATA': 'C:\\\\Users\\\\ez\\\\AppData\\\\Local', 'LOGONSERVER': '\\\\\\\\DESKTOP-3M6FEIA', 'NUMBER_OF_PROCESSORS': '12', 'ONEDRIVE': 'C:\\\\Users\\\\ez\\\\OneDrive', 'ORIGINAL_XDG_CURRENT_DESKTOP': 'undefined', 'OS': 'Windows_NT', 'PATH': 'c:\\\\Users\\\\ez\\\\Desktop\\\\sk-shielders-rookies-26\\\\project\\\\python\\\\.venv\\\\Scripts;C:\\\\Windows\\\\system32;C:\\\\Windows;C:\\\\Windows\\\\System32\\\\Wbem;C:\\\\Windows\\\\System32\\\\WindowsPowerShell\\\\v1.0\\\\;C:\\\\Windows\\\\System32\\\\OpenSSH\\\\;C:\\\\Program Files\\\\Git\\\\cmd;C:\\\\Users\\\\ez\\\\AppData\\\\Local\\\\Programs\\\\Python\\\\Python313\\\\Scripts\\\\;C:\\\\Users\\\\ez\\\\AppData\\\\Local\\\\Programs\\\\Python\\\\Python313\\\\;C:\\\\Users\\\\ez\\\\AppData\\\\Local\\\\Microsoft\\\\WindowsApps;C:\\\\Users\\\\ez\\\\AppData\\\\Local\\\\Programs\\\\Microsoft VS Code\\\\bin', 'PATHEXT': '.COM;.EXE;.BAT;.CMD;.VBS;.VBE;.JS;.JSE;.WSF;.WSH;.MSC', 'PROCESSOR_ARCHITECTURE': 'AMD64', 'PROCESSOR_IDENTIFIER': 'Intel64 Family 6 Model 186 Stepping 3, GenuineIntel', 'PROCESSOR_LEVEL': '6', 'PROCESSOR_REVISION': 'ba03', 'PROGRAMDATA': 'C:\\\\ProgramData', 'PROGRAMFILES': 'C:\\\\Program Files', 'PROGRAMFILES(X86)': 'C:\\\\Program Files (x86)', 'PROGRAMW6432': 'C:\\\\Program Files', 'PROMPT': '(.venv) $P$G', 'PSMODULEPATH': 'C:\\\\Program Files\\\\WindowsPowerShell\\\\Modules;C:\\\\Windows\\\\system32\\\\WindowsPowerShell\\\\v1.0\\\\Modules', 'PUBLIC': 'C:\\\\Users\\\\Public', 'PYDEVD_IPYTHON_COMPATIBLE_DEBUGGING': '1', 'PYTHONIOENCODING': 'utf-8', 'PYTHONUNBUFFERED': '1', 'PYTHON_FROZEN_MODULES': 'on', 'SESSIONNAME': 'Console', 'SYSTEMDRIVE': 'C:', 'SYSTEMROOT': 'C:\\\\Windows', 'TEMP': 'C:\\\\Users\\\\ez\\\\AppData\\\\Local\\\\Temp', 'TMP': 'C:\\\\Users\\\\ez\\\\AppData\\\\Local\\\\Temp', 'USERDOMAIN': 'DESKTOP-3M6FEIA', 'USERDOMAIN_ROAMINGPROFILE': 'DESKTOP-3M6FEIA', 'USERNAME': 'ez', 'USERPROFILE': 'C:\\\\Users\\\\ez', 'VIRTUAL_ENV': 'c:\\\\Users\\\\ez\\\\Desktop\\\\sk-shielders-rookies-26\\\\project\\\\python\\\\.venv', 'VIRTUAL_ENV_PROMPT': '.venv', 'VSCODE_CODE_CACHE_PATH': 'C:\\\\Users\\\\ez\\\\AppData\\\\Roaming\\\\Code\\\\CachedData\\\\258e40fedc6cb8edf399a463ce3a9d32e7e1f6f3', 'VSCODE_CRASH_REPORTER_PROCESS_TYPE': 'extensionHost', 'VSCODE_CWD': 'C:\\\\Users\\\\ez\\\\AppData\\\\Local\\\\Programs\\\\Microsoft VS Code', 'VSCODE_ESM_ENTRYPOINT': 'vs/workbench/api/node/extensionHostProcess', 'VSCODE_HANDLES_UNCAUGHT_ERRORS': 'true', 'VSCODE_IPC_HOOK': '\\\\\\\\.\\\\pipe\\\\416ae083-1.100.3-main-sock', 'VSCODE_L10N_BUNDLE_LOCATION': '', 'VSCODE_NLS_CONFIG': '{\"userLocale\":\"en-us\",\"osLocale\":\"ko\",\"resolvedLanguage\":\"en\",\"defaultMessagesFile\":\"C:\\\\\\\\Users\\\\\\\\ez\\\\\\\\AppData\\\\\\\\Local\\\\\\\\Programs\\\\\\\\Microsoft VS Code\\\\\\\\resources\\\\\\\\app\\\\\\\\out\\\\\\\\nls.messages.json\",\"locale\":\"en-us\",\"availableLanguages\":{}}', 'VSCODE_PID': '10876', 'WINDIR': 'C:\\\\Windows', 'ZES_ENABLE_SYSMAN': '1', '_OLD_VIRTUAL_PATH': 'C:\\\\Windows\\\\system32;C:\\\\Windows;C:\\\\Windows\\\\System32\\\\Wbem;C:\\\\Windows\\\\System32\\\\WindowsPowerShell\\\\v1.0\\\\;C:\\\\Windows\\\\System32\\\\OpenSSH\\\\;C:\\\\Program Files\\\\Git\\\\cmd;C:\\\\Users\\\\ez\\\\AppData\\\\Local\\\\Programs\\\\Python\\\\Python313\\\\Scripts\\\\;C:\\\\Users\\\\ez\\\\AppData\\\\Local\\\\Programs\\\\Python\\\\Python313\\\\;C:\\\\Users\\\\ez\\\\AppData\\\\Local\\\\Microsoft\\\\WindowsApps;C:\\\\Users\\\\ez\\\\AppData\\\\Local\\\\Programs\\\\Microsoft VS Code\\\\bin', '_OLD_VIRTUAL_PROMPT': '$P$G', 'PYDEVD_USE_FRAME_EVAL': 'NO', 'TERM': 'xterm-color', 'CLICOLOR': '1', 'FORCE_COLOR': '1', 'CLICOLOR_FORCE': '1', 'PAGER': 'cat', 'GIT_PAGER': 'cat', 'MPLBACKEND': 'module://matplotlib_inline.backend_inline'})\n",
      "C:\\Users\\ez\\Desktop\\sk-shielders-rookies-26\\project\\python\n"
     ]
    }
   ],
   "source": [
    "import os\n",
    "\n",
    "print(os.environ)\n",
    "\n",
    "# 현재 디렉토리 이동\n",
    "os.chdir('c:\\\\windows')\n",
    "\n",
    "# 현재 디렉토리 출력\n",
    "# print(os.getcwd())\n",
    "\n",
    "os.chdir('C:\\\\Users\\\\ez\\\\Desktop\\\\sk-shielders-rookies-26\\\\project\\\\python')\n",
    "print(os.getcwd())\n",
    "\n",
    "# 디렉토리 생성\n",
    "os.mkdir('test')\n",
    "\n",
    "# 디렉토리 삭제\n",
    "os.rmdir('test')"
   ]
  },
  {
   "cell_type": "markdown",
   "id": "42078a72",
   "metadata": {},
   "source": [
    "#### json"
   ]
  },
  {
   "cell_type": "code",
   "execution_count": 24,
   "id": "aab6b1ee",
   "metadata": {},
   "outputs": [
    {
     "name": "stdout",
     "output_type": "stream",
     "text": [
      "{'name': '하이', 'age': 30, 'number': 7} -> <class 'dict'>\n",
      "{\"name\": \"\\ud558\\uc774\", \"age\": 30, \"number\": 7} -> <class 'str'>\n"
     ]
    }
   ],
   "source": [
    "import json\n",
    "\n",
    "with open('data.json', 'r', encoding='utf-8') as f:\n",
    "    data = json.load(f)\n",
    "    print(f\"{data} -> {type(data)}\")\n",
    "\n",
    "json_str_data = json.dumps(data)\n",
    "print(f\"{json_str_data} -> {type(json_str_data)}\")"
   ]
  },
  {
   "cell_type": "markdown",
   "id": "af2c7b6e",
   "metadata": {},
   "source": [
    "### 4. 외부 라이브러리"
   ]
  },
  {
   "cell_type": "markdown",
   "id": "6ebd66c6",
   "metadata": {},
   "source": [
    "#### Numpy"
   ]
  },
  {
   "cell_type": "markdown",
   "id": "a93daaf7",
   "metadata": {},
   "source": [
    "- pip install numpy 로 설치하기"
   ]
  },
  {
   "cell_type": "code",
   "execution_count": 25,
   "id": "1f47dec2",
   "metadata": {},
   "outputs": [
    {
     "name": "stdout",
     "output_type": "stream",
     "text": [
      "[1 2 3 4 5] <class 'numpy.ndarray'>\n",
      "[11 12 13 14 15]\n"
     ]
    }
   ],
   "source": [
    "import numpy as np\n",
    "\n",
    "arr = np.array([1, 2, 3, 4, 5])\n",
    "print(arr, type(arr))\n",
    "\n",
    "print(arr + 10)"
   ]
  },
  {
   "cell_type": "markdown",
   "id": "13dcc284",
   "metadata": {},
   "source": [
    "##### 배열 생성\n"
   ]
  },
  {
   "cell_type": "code",
   "execution_count": 26,
   "id": "0d0b9bfb",
   "metadata": {},
   "outputs": [
    {
     "name": "stdout",
     "output_type": "stream",
     "text": [
      "[[0. 0. 0.]\n",
      " [0. 0. 0.]\n",
      " [0. 0. 0.]]\n",
      "[[1. 1.]\n",
      " [1. 1.]\n",
      " [1. 1.]]\n",
      "[0 2 4 6 8]\n",
      "[0.   0.25 0.5  0.75 1.  ]\n"
     ]
    }
   ],
   "source": [
    "# 0으로 채워지는 배열 생성\n",
    "zeros = np.zeros((3, 3))\n",
    "print(zeros)\n",
    "\n",
    "# 1로 채우는 배열 생성\n",
    "ones = np.ones((3, 2))\n",
    "print(ones)\n",
    "\n",
    "# 일련번호 생성되는 배열 생성\n",
    "# 0 ~ 10 사이의 숫자를 2씩 간격으로\n",
    "seq_1 = np.arange(0, 10, 2)\n",
    "print(seq_1)\n",
    "\n",
    "# 지정된 범위 안에서 동일한 간격으로 숫자를 생성\n",
    "# 0 ~ 1사이의 5개로 구분\n",
    "linspace = np.linspace(0, 1, 5)\n",
    "print(linspace)"
   ]
  },
  {
   "cell_type": "markdown",
   "id": "d8cd2435",
   "metadata": {},
   "source": [
    "##### 배열의 속성 확인"
   ]
  },
  {
   "cell_type": "code",
   "execution_count": 27,
   "id": "e315f46c",
   "metadata": {},
   "outputs": [
    {
     "name": "stdout",
     "output_type": "stream",
     "text": [
      "<class 'numpy.ndarray'>\n",
      "(3, 3)\n",
      "2\n",
      "9\n",
      "int64\n"
     ]
    }
   ],
   "source": [
    "arr1 = np.array([[1, 2, 3], [4, 5, 6], [7, 8, 9]])\n",
    "print(type(arr1))\n",
    "\n",
    "# 배열의 크기 (행, 열)\n",
    "print(arr1.shape)\n",
    "\n",
    "# 배열의 차원\n",
    "print(arr1.ndim)\n",
    "\n",
    "# 배열 요소의 개수\n",
    "print(arr1.size)\n",
    "\n",
    "# 데이터의 타입\n",
    "print(arr1.dtype)"
   ]
  }
 ],
 "metadata": {
  "kernelspec": {
   "display_name": ".venv",
   "language": "python",
   "name": "python3"
  },
  "language_info": {
   "codemirror_mode": {
    "name": "ipython",
    "version": 3
   },
   "file_extension": ".py",
   "mimetype": "text/x-python",
   "name": "python",
   "nbconvert_exporter": "python",
   "pygments_lexer": "ipython3",
   "version": "3.13.4"
  }
 },
 "nbformat": 4,
 "nbformat_minor": 5
}
