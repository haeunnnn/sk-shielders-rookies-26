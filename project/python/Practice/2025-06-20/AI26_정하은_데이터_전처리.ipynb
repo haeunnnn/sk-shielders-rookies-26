{
 "cells": [
  {
   "cell_type": "markdown",
   "id": "2b1dfd74",
   "metadata": {},
   "source": [
    "### 데이터 전처리 EX-1\n",
    "\n",
    "#### 문제 1: 결측치 처리\n",
    "- Kaggle의 [\"Titanic - Machine Learning from Disaster\"](https://www.kaggle.com/competitions/titanic) 데이터셋을 사용하여 결측치를 처리하세요.\n",
    "- 데이터셋을 불러온 후, 다음과 같이 결측치를 처리하세요.\n",
    "- Age 열의 결측치는 평균값으로 대체합니다.\n",
    "    - Embarked 열의 결측치는 최빈값(Mode)으로 대체합니다.\n",
    "    - Cabin 열은 결측치가 너무 많아서 삭제합니다.\n",
    "    - 결측치 처리 후, 결측치가 모두 제거되었는지 확인하는 코드를 작성하세요."
   ]
  },
  {
   "cell_type": "code",
   "execution_count": 1,
   "id": "cb90e7ea",
   "metadata": {},
   "outputs": [
    {
     "name": "stdout",
     "output_type": "stream",
     "text": [
      "\n",
      "------------ 결측치 확인 ------------\n",
      "\n",
      "PassengerId      0\n",
      "Survived         0\n",
      "Pclass           0\n",
      "Name             0\n",
      "Sex              0\n",
      "Age            177\n",
      "SibSp            0\n",
      "Parch            0\n",
      "Ticket           0\n",
      "Fare             0\n",
      "Cabin          687\n",
      "Embarked         2\n",
      "dtype: int64\n",
      "\n",
      "--------- 결측치 처리 후 확인 ---------\n",
      "\n",
      "PassengerId    0\n",
      "Survived       0\n",
      "Pclass         0\n",
      "Name           0\n",
      "Sex            0\n",
      "Age            0\n",
      "SibSp          0\n",
      "Parch          0\n",
      "Ticket         0\n",
      "Fare           0\n",
      "Embarked       0\n",
      "dtype: int64\n"
     ]
    }
   ],
   "source": [
    "import pandas as pd\n",
    "\n",
    "# 데이터 프레임 생성\n",
    "data = pd.read_csv('train.csv')\n",
    "df = pd.DataFrame(data)\n",
    "\n",
    "# 결측치 확인\n",
    "print(\"\\n------------ 결측치 확인 ------------\\n\")\n",
    "print(df.isnull().sum())\n",
    "\n",
    "# Age 열의 결측값을 평균값으로 대체\n",
    "df['Age'] = df['Age'].fillna(df['Age'].mean())\n",
    "\n",
    "# Embarked 열의 결측치는 최빈값(mode)으로 대체\n",
    "df['Embarked'] = df['Embarked'].fillna(df['Embarked'].mode()[0])\n",
    "\n",
    "# Cabin 열 삭제\n",
    "df = df.drop(columns='Cabin')\n",
    "\n",
    "# 결측치 처리 확인\n",
    "print(\"\\n--------- 결측치 처리 후 확인 ---------\\n\")\n",
    "print(df.isnull().sum())"
   ]
  },
  {
   "cell_type": "markdown",
   "id": "4e457e94",
   "metadata": {},
   "source": [
    "### 데이터 전처리 EX-2\n",
    "\n",
    "#### 문제 2: 중복 데이터 제거\n",
    "임의의 데이터셋을 사용하여 중복 데이터를 제거하는 작업을 수행하세요.\n",
    "다음은 인공지능 수업에서 사용할 전처리 문제입니다.\n",
    "중복 데이터를 포함하는 생성된 파일 데이터셋을 사용하여 중복 데이터를 제거하는 작업을 수행하세요.\n",
    "\n",
    "##### 문제 요구 사항\n",
    "- sales.csv 파일을 불러옵니다. 이 파일에는 중복된 행이 일부 포함되어 있습니다.\n",
    "- 중복된 데이터의 개수를 출력하세요.\n",
    "- 중복된 행을 모두 제거한 후, 남은 데이터의 개수를 확인하세요."
   ]
  },
  {
   "cell_type": "code",
   "execution_count": 2,
   "id": "e2e71b8e",
   "metadata": {},
   "outputs": [
    {
     "name": "stdout",
     "output_type": "stream",
     "text": [
      "sales.csv 파일이 생성되었습니다.\n"
     ]
    }
   ],
   "source": [
    "#샘플 데이터 만들기\n",
    "\n",
    "import pandas as pd\n",
    "\n",
    "# 1. 가짜 데이터 생성\n",
    "data = {\n",
    "    'ProductID': [101, 102, 103, 104, 101, 102, 103, 105, 106, 101],\n",
    "    'ProductName': ['A', 'B', 'C', 'D', 'A', 'B', 'C', 'E', 'F', 'A'],\n",
    "    'Price': [100, 200, 300, 400, 100, 200, 300, 500, 600, 100],\n",
    "    'Quantity': [1, 2, 3, 4, 1, 2, 3, 5, 6, 1]\n",
    "}\n",
    "\n",
    "# 2. DataFrame 생성\n",
    "df = pd.DataFrame(data)\n",
    "\n",
    "# 3. 중복된 데이터를 일부 추가 (중복된 행 4개 추가)\n",
    "df.loc[len(df.index)] = [101, 'A', 100, 1]  # 중복 행 추가\n",
    "df.loc[len(df.index)] = [102, 'B', 200, 2]  # 중복 행 추가\n",
    "df.loc[len(df.index)] = [103, 'C', 300, 3]  # 중복 행 추가\n",
    "df.loc[len(df.index)] = [104, 'D', 400, 4]  # 중복 행 추가\n",
    "\n",
    "# 4. CSV 파일로 내보내기\n",
    "df.to_csv('sales.csv', index=False)\n",
    "\n",
    "print(\"sales.csv 파일이 생성되었습니다.\")"
   ]
  },
  {
   "cell_type": "code",
   "execution_count": 3,
   "id": "9dfd6171",
   "metadata": {},
   "outputs": [
    {
     "name": "stdout",
     "output_type": "stream",
     "text": [
      "\n",
      "------------ 중복된 행 확인 ------------\n",
      "\n",
      "    ProductID ProductName  Price  Quantity\n",
      "0         101           A    100         1\n",
      "1         102           B    200         2\n",
      "2         103           C    300         3\n",
      "3         104           D    400         4\n",
      "4         101           A    100         1\n",
      "5         102           B    200         2\n",
      "6         103           C    300         3\n",
      "7         105           E    500         5\n",
      "8         106           F    600         6\n",
      "9         101           A    100         1\n",
      "10        101           A    100         1\n",
      "11        102           B    200         2\n",
      "12        103           C    300         3\n",
      "13        104           D    400         4\n",
      "\n",
      "중복된 데이터의 개수: 8\n",
      "\n",
      "중복 제거 후 남은 데이터의 개수: 6\n",
      "\n"
     ]
    }
   ],
   "source": [
    "# 데이터 프레임 생성\n",
    "df = pd.read_csv('sales.csv')\n",
    "\n",
    "# 중복된 행 확인\n",
    "print(\"\\n------------ 중복된 행 확인 ------------\\n\")\n",
    "print(df)\n",
    "\n",
    "# 중복된 데이터의 개수 출력\n",
    "duplicate_count = df.duplicated().sum()\n",
    "print(f\"\\n중복된 데이터의 개수: {duplicate_count}\\n\")\n",
    "\n",
    "# 중복된 행을 제거\n",
    "df_no_duplicates_by_ProductID = df.drop_duplicates(subset=['ProductID'], keep='first')\n",
    "\n",
    "# 남은 데이터의 개수를 확인\n",
    "df_no_duplicates_by_ProductID_count = df_no_duplicates_by_ProductID.shape[0]\n",
    "print(f\"중복 제거 후 남은 데이터의 개수: {df_no_duplicates_by_ProductID_count}\\n\")"
   ]
  },
  {
   "cell_type": "markdown",
   "id": "bd7547dc",
   "metadata": {},
   "source": [
    "### 데이터 전처리 EX-3\n",
    "\n",
    "#### 문제 3: 이상치 제거 (IQR 이용)\n",
    "- Kaggle의 [\"Diamonds\"](https://www.kaggle.com/datasets/shivam2503/diamonds) 데이터셋을 사용하여 이상치 제거 문제를 해결하세요.\n",
    "- 이 데이터셋은 다이아몬드의 가격과 관련된 다양한 특징(캐럿, 컷, 색상, 투명도 등)을 포함하고 있습니다.\n",
    "- carat 열에서 IQR 방식을 사용하여 이상치를 제거하세요.\n",
    "- 이상치를 제거한 후 데이터의 개수를 출력하세요.\n",
    "- 이상치의 경계를 계산하여 하한(lower bound)과 상한(upper bound) 값을 출력하세요."
   ]
  },
  {
   "cell_type": "code",
   "execution_count": 4,
   "id": "de491fbd",
   "metadata": {},
   "outputs": [
    {
     "name": "stdout",
     "output_type": "stream",
     "text": [
      "\n",
      "이상치 제거 전 데이터 개수: 53940\n",
      "\n",
      "\n",
      "------------ 이상치 확인 ------------\n",
      "\n",
      "       Unnamed: 0  carat      cut color clarity  depth  table  price     x  \\\n",
      "12246       12247   2.06  Premium     J      I1   61.2   58.0   5203  8.10   \n",
      "13002       13003   2.14     Fair     J      I1   69.4   57.0   5405  7.74   \n",
      "13118       13119   2.15     Fair     J      I1   65.5   57.0   5430  8.01   \n",
      "13757       13758   2.22     Fair     J      I1   66.7   56.0   5607  8.04   \n",
      "13991       13992   2.01     Fair     I      I1   67.4   58.0   5696  7.71   \n",
      "\n",
      "          y     z  \n",
      "12246  8.07  4.95  \n",
      "13002  7.70  5.36  \n",
      "13118  7.95  5.23  \n",
      "13757  8.02  5.36  \n",
      "13991  7.64  5.17  \n",
      "\n",
      "이상치 제거 후 데이터 개수: 52051\n",
      "\n",
      "하한치: -0.5599999999999999, 상한치: 2.0\n",
      "\n"
     ]
    }
   ],
   "source": [
    "import numpy as np\n",
    "import pandas as pd\n",
    "\n",
    "# 데이터 프레임 생성\n",
    "data = pd.read_csv('diamonds.csv')\n",
    "df = pd.DataFrame(data)\n",
    "\n",
    "# 이상치 제거 전 데이터 개수 확인\n",
    "print(f\"\\n이상치 제거 전 데이터 개수: {df.shape[0]}\\n\")\n",
    "\n",
    "# IQR을 이용한 이상치 제거\n",
    "Q1 = df['carat'].quantile(0.25)\n",
    "Q3 = df['carat'].quantile(0.75)\n",
    "IQR = Q3 - Q1\n",
    "\n",
    "# 이상치 기준\n",
    "lower_bound = Q1 - 1.5 * IQR\n",
    "upper_bound = Q3 + 1.5 * IQR\n",
    "\n",
    "# 이상치 확인\n",
    "outliers = df[(df['carat'] < lower_bound) | (df['carat'] > upper_bound)]\n",
    "print(\"\\n------------ 이상치 확인 ------------\\n\")\n",
    "print(outliers.head())\n",
    "\n",
    "# 이상치 제거\n",
    "df_no_outliers = df[(df['carat'] >= lower_bound) & (df['carat'] <= upper_bound)]\n",
    "\n",
    "# 이상치 제거 후 데이터 개수 확인\n",
    "print(f\"\\n이상치 제거 후 데이터 개수: {df_no_outliers.shape[0]}\\n\")\n",
    "\n",
    "# 하한치와 상한치 출력\n",
    "print(f\"하한치: {lower_bound}, 상한치: {upper_bound}\\n\")"
   ]
  },
  {
   "cell_type": "markdown",
   "id": "28e3679f",
   "metadata": {},
   "source": [
    "### 데이터 전처리 EX-4\n",
    "\n",
    "#### 문제 4: 범주형 데이터 인코딩\n",
    "- Kaggle의 [\"Adult Income\"](https://www.kaggle.com/wenruliu/adult-income-dataset) 데이터셋을 사용하여 범주형 데이터를 인코딩하세요.\n",
    "- workclass, education, marital-status, occupation, relationship, race, gender, native-country 열을 Label Encoding으로 변환하세요."
   ]
  },
  {
   "cell_type": "code",
   "execution_count": 5,
   "id": "e8bbafd5",
   "metadata": {},
   "outputs": [
    {
     "name": "stdout",
     "output_type": "stream",
     "text": [
      "\n",
      "------------ 레이블 인코딩 결과 ------------\n",
      "\n",
      "   age  workclass  fnlwgt  education  educational-num  marital-status  \\\n",
      "0   25          4  226802          1                7               4   \n",
      "1   38          4   89814         11                9               2   \n",
      "2   28          2  336951          7               12               2   \n",
      "3   44          4  160323         15               10               2   \n",
      "4   18          0  103497         15               10               4   \n",
      "\n",
      "   occupation  relationship  race  gender  capital-gain  capital-loss  \\\n",
      "0           7             3     2       1             0             0   \n",
      "1           5             0     4       1             0             0   \n",
      "2          11             0     4       1             0             0   \n",
      "3           7             0     2       1          7688             0   \n",
      "4           0             3     4       0             0             0   \n",
      "\n",
      "   hours-per-week  native-country income  \n",
      "0              40              39  <=50K  \n",
      "1              50              39  <=50K  \n",
      "2              40              39   >50K  \n",
      "3              40              39   >50K  \n",
      "4              30              39  <=50K  \n"
     ]
    }
   ],
   "source": [
    "import pandas as pd\n",
    "from sklearn.preprocessing import LabelEncoder\n",
    "\n",
    "# 데이터 프레임 생성\n",
    "data = pd.read_csv('adult.csv')\n",
    "df = pd.DataFrame(data)\n",
    "\n",
    "# 레이블 인코딩을 위한 LabelEncoder 객체 생성\n",
    "label_encoder = LabelEncoder()\n",
    "\n",
    "# 범주형 데이터를 갖는 열 지정\n",
    "categorical_columns = ['workclass', 'education', 'marital-status', 'occupation', 'relationship', 'race', 'gender', 'native-country']\n",
    "\n",
    "# 각 범주형 열에 대해 레이블 인코딩 수행\n",
    "for column in categorical_columns:\n",
    "    df[column] = label_encoder.fit_transform(df[column])\n",
    "\n",
    "# 인코딩된 데이터 확인\n",
    "print(\"\\n------------ 레이블 인코딩 결과 ------------\\n\")\n",
    "print(df.head())"
   ]
  },
  {
   "cell_type": "markdown",
   "id": "67d3e63e",
   "metadata": {},
   "source": [
    "### 데이터 전처리 EX-5\n",
    "\n",
    "#### 문제 5: 데이터 스케일링\n",
    "- Kaggle의 [\"Wine Quality\"](https://www.kaggle.com/uciml/red-wine-quality-cortez-et-al-2009) 데이터셋을 사용하여 데이터를 스케일링하세요.\n",
    "- fixed acidity, volatile acidity, citric acid, residual sugar, chlorides 열의 값을 StandardScaler로 표준화하세요.\n",
    "- 표준화된 결과를 출력하세요."
   ]
  },
  {
   "cell_type": "code",
   "execution_count": 7,
   "id": "e21d3f4d",
   "metadata": {},
   "outputs": [
    {
     "name": "stdout",
     "output_type": "stream",
     "text": [
      "\n",
      "------------ 표준화된 데이터 ------------\n",
      "\n",
      "   fixed acidity  volatile acidity  citric acid  residual sugar  chlorides  \\\n",
      "0      -0.528360          0.961877    -1.391472       -0.453218  -0.243707   \n",
      "1      -0.298547          1.967442    -1.391472        0.043416   0.223875   \n",
      "2      -0.298547          1.297065    -1.186070       -0.169427   0.096353   \n",
      "3       1.654856         -1.384443     1.484154       -0.453218  -0.264960   \n",
      "4      -0.528360          0.961877    -1.391472       -0.453218  -0.243707   \n",
      "\n",
      "   free sulfur dioxide  total sulfur dioxide  density    pH  sulphates  \\\n",
      "0                 11.0                  34.0   0.9978  3.51       0.56   \n",
      "1                 25.0                  67.0   0.9968  3.20       0.68   \n",
      "2                 15.0                  54.0   0.9970  3.26       0.65   \n",
      "3                 17.0                  60.0   0.9980  3.16       0.58   \n",
      "4                 11.0                  34.0   0.9978  3.51       0.56   \n",
      "\n",
      "   alcohol  quality  \n",
      "0      9.4        5  \n",
      "1      9.8        5  \n",
      "2      9.8        5  \n",
      "3      9.8        6  \n",
      "4      9.4        5  \n"
     ]
    }
   ],
   "source": [
    "import numpy as np\n",
    "import pandas as pd\n",
    "from sklearn.preprocessing import StandardScaler, MinMaxScaler\n",
    "import matplotlib.pyplot as plt\n",
    "\n",
    "# 데이터 프레임 생성\n",
    "data = pd.read_csv('winequality-red.csv')\n",
    "df = pd.DataFrame(data)\n",
    "\n",
    "# 표준화를 위한 스케일러 객체 생성\n",
    "scaler = StandardScaler()\n",
    "\n",
    "# 표준화할 열 지정\n",
    "columns_to_standardize =  ['fixed acidity', 'volatile acidity', 'citric acid', 'residual sugar', 'chlorides']\n",
    "\n",
    "# 각 열에 대해 표준화 수행\n",
    "df[columns_to_standardize] = scaler.fit_transform(df[columns_to_standardize])\n",
    "\n",
    "# 표준화된 데이터 확인\n",
    "print(\"\\n------------ 표준화된 데이터 ------------\\n\")\n",
    "print(df.head())"
   ]
  }
 ],
 "metadata": {
  "kernelspec": {
   "display_name": ".venv",
   "language": "python",
   "name": "python3"
  },
  "language_info": {
   "codemirror_mode": {
    "name": "ipython",
    "version": 3
   },
   "file_extension": ".py",
   "mimetype": "text/x-python",
   "name": "python",
   "nbconvert_exporter": "python",
   "pygments_lexer": "ipython3",
   "version": "3.13.4"
  }
 },
 "nbformat": 4,
 "nbformat_minor": 5
}
