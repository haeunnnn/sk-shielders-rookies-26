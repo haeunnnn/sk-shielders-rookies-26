{
 "cells": [
  {
   "cell_type": "markdown",
   "id": "d2ed6043",
   "metadata": {},
   "source": [
    "## 파이썬 기본 문법 정리 2"
   ]
  },
  {
   "cell_type": "markdown",
   "id": "bbd8495a",
   "metadata": {},
   "source": [
    "### 1. 리스트 (List)\n",
    "- `[]`로 선언하며 순서를 가지는 데이터 묶음\n",
    "- 인덱싱, 슬라이싱, 리스트 연산 가능 (`+`, `*`)\n",
    "- 리스트는 변경 가능 (mutable)"
   ]
  },
  {
   "cell_type": "code",
   "execution_count": 1,
   "id": "0a59ed94",
   "metadata": {},
   "outputs": [
    {
     "name": "stdout",
     "output_type": "stream",
     "text": [
      "[1, 2, 3] <class 'list'>\n",
      "3\n",
      "2\n"
     ]
    }
   ],
   "source": [
    "list_a = [1, 2, 3]\n",
    "print(list_a, type(list_a))\n",
    "print(list_a[0] + list_a[1])\n",
    "list_a[2] = 4\n",
    "print(list_a[-2])"
   ]
  },
  {
   "cell_type": "markdown",
   "id": "9027be39",
   "metadata": {},
   "source": [
    "#### 리스트 안에 리스트 (중첩 리스트)\n",
    "- 리스트 안에 또 다른 리스트를 포함할 수 있음"
   ]
  },
  {
   "cell_type": "code",
   "execution_count": 2,
   "id": "de7a7729",
   "metadata": {},
   "outputs": [
    {
     "name": "stdout",
     "output_type": "stream",
     "text": [
      "['a', 'b', 'c']\n",
      "a\n"
     ]
    }
   ],
   "source": [
    "list_b = [1, 2, 3, ['a', 'b', 'c']]\n",
    "print(list_b[3])           # 내부 리스트\n",
    "print(list_b[3][0])        # 중첩 인덱싱"
   ]
  },
  {
   "cell_type": "markdown",
   "id": "f242fa7b",
   "metadata": {},
   "source": [
    "#### 리스트 슬라이싱과 연산\n",
    "- `list[start:end]`\n",
    "- `+` 연산으로 리스트 결합\n",
    "- `*` 연산으로 반복"
   ]
  },
  {
   "cell_type": "code",
   "execution_count": 3,
   "id": "c97c4ee8",
   "metadata": {},
   "outputs": [
    {
     "name": "stdout",
     "output_type": "stream",
     "text": [
      "[2, 3, 4]\n",
      "[1, 2, 3, 4, 5, 100, 200, 300]\n",
      "[100, 200, 300, 100, 200, 300, 100, 200, 300]\n"
     ]
    }
   ],
   "source": [
    "list_c = [1, 2, 3, 4, 5]\n",
    "print(list_c[1:4])\n",
    "list_d = [100, 200, 300]\n",
    "print(list_c + list_d)\n",
    "print(list_d * 3)"
   ]
  },
  {
   "cell_type": "markdown",
   "id": "6e79ae46",
   "metadata": {},
   "source": [
    "#### 리스트 관련 메서드\n",
    "- `append`, `pop`, `sort`, `reverse`, `index`, `insert`, `extend`"
   ]
  },
  {
   "cell_type": "code",
   "execution_count": 4,
   "id": "ddf3f341",
   "metadata": {},
   "outputs": [
    {
     "name": "stdout",
     "output_type": "stream",
     "text": [
      "[500, 100, 3, 2, 100, 200, 300]\n"
     ]
    }
   ],
   "source": [
    "list_a = [1, 2, 3]\n",
    "list_a.append(500)\n",
    "list_a.pop(0)\n",
    "list_a.sort()\n",
    "list_a.reverse()\n",
    "list_a.insert(1, 100)\n",
    "list_a.extend(list_d)\n",
    "print(list_a)"
   ]
  },
  {
   "cell_type": "markdown",
   "id": "c22100c4",
   "metadata": {},
   "source": [
    "### 2. 튜플 (Tuple)\n",
    "- `()`로 선언, 불변(immutable) 자료형\n",
    "- 소괄호 생략 가능, 1개짜리는 쉼표 필수"
   ]
  },
  {
   "cell_type": "code",
   "execution_count": 5,
   "id": "e15a4799",
   "metadata": {},
   "outputs": [
    {
     "name": "stdout",
     "output_type": "stream",
     "text": [
      "(20, 30)\n",
      "(1, 2, 3, 10, 20, 30)\n",
      "(1, 2, 3, 1, 2, 3, 1, 2, 3)\n"
     ]
    }
   ],
   "source": [
    "t_2 = (1, 2, 3)\n",
    "t_3 = 10, 20, 30\n",
    "print(t_3[1:3])\n",
    "print(t_2 + t_3)\n",
    "print(t_2 * 3)"
   ]
  },
  {
   "cell_type": "markdown",
   "id": "75a1c76e",
   "metadata": {},
   "source": [
    "### 3. 딕셔너리 (Dictionary)\n",
    "- `{key: value}` 구조\n",
    "- key로 value를 참조\n",
    "- 관련 함수: `keys()`, `values()`, `items()`, `get()`"
   ]
  },
  {
   "cell_type": "code",
   "execution_count": 6,
   "id": "a1eb8b07",
   "metadata": {},
   "outputs": [
    {
     "name": "stdout",
     "output_type": "stream",
     "text": [
      "SON\n",
      "no pos\n",
      "False\n",
      "[('team', 'TO'), ('name', 'SON'), ('number', 7)]\n"
     ]
    }
   ],
   "source": [
    "player = {'team': 'TO', 'name': 'SON', 'number': 7}\n",
    "print(player['name'])\n",
    "print(player.get('pos', 'no pos'))\n",
    "print('age' in player)\n",
    "print(list(player.items()))"
   ]
  },
  {
   "cell_type": "markdown",
   "id": "cf270e7b",
   "metadata": {},
   "source": [
    "### 4. 집합 (Set)\n",
    "- 중복 제거, 순서 없음\n",
    "- 집합 연산 지원: `&`, `|`, `-`"
   ]
  },
  {
   "cell_type": "code",
   "execution_count": 7,
   "id": "74641e21",
   "metadata": {},
   "outputs": [
    {
     "name": "stdout",
     "output_type": "stream",
     "text": [
      "{4, 5, 6}\n",
      "{1, 2, 3, 4, 5, 6, 7, 8, 9}\n",
      "{1, 2, 3}\n"
     ]
    }
   ],
   "source": [
    "set_2 = set([1,2,3,4,5,6])\n",
    "set_3 = set([4,5,6,7,8,9])\n",
    "print(set_2 & set_3)\n",
    "print(set_2 | set_3)\n",
    "print(set_2 - set_3)"
   ]
  },
  {
   "cell_type": "markdown",
   "id": "88035204",
   "metadata": {},
   "source": [
    "### 조건문 if\n",
    "- if, elif, else 구문\n",
    "- 삼항 연산자: `x if 조건 else y`"
   ]
  },
  {
   "cell_type": "code",
   "execution_count": 8,
   "id": "cca78734",
   "metadata": {},
   "outputs": [
    {
     "name": "stdout",
     "output_type": "stream",
     "text": [
      "성인입니다\n"
     ]
    }
   ],
   "source": [
    "age = 25\n",
    "if age >= 18:\n",
    "    print('성인입니다')\n",
    "else:\n",
    "    print('미성년입니다')\n",
    "\n",
    "check_msg = 'PASS' if age >= 80 else 'FAIL'"
   ]
  },
  {
   "cell_type": "markdown",
   "id": "4932e858",
   "metadata": {},
   "source": [
    "#### 입력 input()과 형 변환"
   ]
  },
  {
   "cell_type": "code",
   "execution_count": 9,
   "id": "0409da36",
   "metadata": {},
   "outputs": [
    {
     "name": "stdout",
     "output_type": "stream",
     "text": [
      "2015\n"
     ]
    }
   ],
   "source": [
    "user_age = input(\"나이를 입력하세요: \")\n",
    "print(2025 - int(user_age))"
   ]
  },
  {
   "cell_type": "markdown",
   "id": "59d7f930",
   "metadata": {},
   "source": [
    "### 반복문 while\n",
    "- 조건이 참인 동안 반복\n",
    "- `break`, `continue`로 흐름 제어"
   ]
  },
  {
   "cell_type": "code",
   "execution_count": 10,
   "id": "fdd68b5a",
   "metadata": {},
   "outputs": [
    {
     "name": "stdout",
     "output_type": "stream",
     "text": [
      "1\n",
      "2\n",
      "3\n",
      "4\n",
      "5\n"
     ]
    }
   ],
   "source": [
    "cnt = 0\n",
    "while cnt < 5:\n",
    "    cnt += 1\n",
    "    print(cnt)"
   ]
  },
  {
   "cell_type": "markdown",
   "id": "49566462",
   "metadata": {},
   "source": [
    "### 반복문 for\n",
    "- 리스트, 튜플, 문자열 순회\n",
    "- `range()` 함수 활용"
   ]
  },
  {
   "cell_type": "code",
   "execution_count": 11,
   "id": "ca656e92",
   "metadata": {},
   "outputs": [
    {
     "name": "stdout",
     "output_type": "stream",
     "text": [
      "0\n",
      "1\n",
      "2\n",
      "3\n",
      "4\n",
      "1 80 PASS\n",
      "2 50 FAIL\n",
      "3 70 PASS\n",
      "4 100 PASS\n",
      "5 55 FAIL\n"
     ]
    }
   ],
   "source": [
    "for i in range(5):\n",
    "    print(i)\n",
    "\n",
    "scores = [80, 50, 70, 100, 55]\n",
    "for idx, score in enumerate(scores, start=1):\n",
    "    print(idx, score, 'PASS' if score >= 60 else 'FAIL')"
   ]
  },
  {
   "cell_type": "markdown",
   "id": "7c44beef",
   "metadata": {},
   "source": [
    "### 리스트 컴프리헨션\n",
    "- `[표현식 for 변수 in iterable if 조건]`"
   ]
  },
  {
   "cell_type": "code",
   "execution_count": 12,
   "id": "1ec19000",
   "metadata": {},
   "outputs": [
    {
     "name": "stdout",
     "output_type": "stream",
     "text": [
      "[3, 9]\n"
     ]
    }
   ],
   "source": [
    "list_2 = [1,2,3,4]\n",
    "result = [num * 3 for num in list_2 if num % 2 == 1]\n",
    "print(result)"
   ]
  },
  {
   "cell_type": "markdown",
   "id": "bf9b700e",
   "metadata": {},
   "source": [
    "### 연습 문제 1\n",
    "- 독감예감 접종이 가능한지 여부를 확인하는 프로그램\n",
    "- 15세 미만 혹은 65세 이상의 경우 무료예방접종 가능 메시지 출력력"
   ]
  },
  {
   "cell_type": "code",
   "execution_count": 13,
   "id": "10cb906d",
   "metadata": {},
   "outputs": [
    {
     "name": "stdout",
     "output_type": "stream",
     "text": [
      "무료 예방접종 대상자가 아닙니다.\n"
     ]
    }
   ],
   "source": [
    "age = int(input())\n",
    "\n",
    "if (age < 15 or age >= 65):\n",
    "    print(\"무료 예방접종 대상자입니다!\")\n",
    "else:\n",
    "    print(\"무료 예방접종 대상자가 아닙니다.\")"
   ]
  },
  {
   "cell_type": "markdown",
   "id": "fe48f791",
   "metadata": {},
   "source": [
    "### 연습 문제 2 \n",
    "- 특정 연도 건강검진 대상 여부 판별 및 검진 종류 확인\n",
    "- 매개변수로 올해 연도와 태어난 해(연도)를 전달받음\n",
    "- 대한민국 성인(20세)의 경우 무료로 2년마다 건강검진을 받을 수 있음\n",
    "- 짝수 해에 태어난 사람은 올해가 짝수 년이라면 검사 대상이 됨\n",
    "- 40 이상의 경우는 안 검사도 무료로 검사할 수 잇음"
   ]
  },
  {
   "cell_type": "code",
   "execution_count": 19,
   "id": "149ba709",
   "metadata": {},
   "outputs": [
    {
     "name": "stdout",
     "output_type": "stream",
     "text": [
      "검사 대상자 입니다.\n",
      "무료 건강검진 대상자 입니다!\n"
     ]
    }
   ],
   "source": [
    "this_year = int(input())\n",
    "birth_year = int(input())\n",
    "your_age = this_year - birth_year\n",
    "\n",
    "if (birth_year % 2) == (this_year % 2):\n",
    "    print(\"검사 대상자 입니다.\")\n",
    "\n",
    "    if (your_age >= 20) and ((your_age % 20) % 2 == 0):\n",
    "        print(\"무료 건강검진 대상자 입니다!\")\n",
    "    if your_age >= 40:\n",
    "        print(\"암 검사도 무료로 검사받으실 수 있습니다!\")\n",
    "else:\n",
    "    print(\"검사 대상자가 아닙니다.\")"
   ]
  },
  {
   "cell_type": "markdown",
   "id": "09131d52",
   "metadata": {},
   "source": [
    "#### 모범 답안"
   ]
  },
  {
   "cell_type": "code",
   "execution_count": 1,
   "id": "017760f5",
   "metadata": {},
   "outputs": [
    {
     "name": "stdout",
     "output_type": "stream",
     "text": [
      "40\n",
      "검진 대상자입니다.\n",
      "암검진 대상자입니다.\n"
     ]
    }
   ],
   "source": [
    "year = 2025\n",
    "birth_year = 1985\n",
    "age = year-birth_year\n",
    "print(age)\n",
    "\n",
    "if age>=20 and birth_year%2==year%2 :\n",
    "    print('검진 대상자입니다.')\n",
    "    if age >= 40:\n",
    "        print('암검진 대상자입니다.')\n",
    "else :\n",
    "    print('검진대상자가 아닙니다.')"
   ]
  },
  {
   "cell_type": "markdown",
   "id": "404e22a2",
   "metadata": {},
   "source": [
    "### 연습 문제 3-1\n",
    "- 1부터 100 까지의 합을 구하는 프로그램"
   ]
  },
  {
   "cell_type": "code",
   "execution_count": 2,
   "id": "904b16d1",
   "metadata": {},
   "outputs": [
    {
     "name": "stdout",
     "output_type": "stream",
     "text": [
      "sum :  5050\n"
     ]
    }
   ],
   "source": [
    "sum = 0\n",
    "for i in range(1, 101):\n",
    "    #print(i, end=\",\")\n",
    "    sum += i\n",
    "\n",
    "print('sum : ', sum)"
   ]
  },
  {
   "cell_type": "markdown",
   "id": "ec4bea78",
   "metadata": {},
   "source": [
    "### 연습 문제 3-2\n",
    "- 1부터 10 까지의 곱을 구하는 프로그램"
   ]
  },
  {
   "cell_type": "code",
   "execution_count": 3,
   "id": "72a68b37",
   "metadata": {},
   "outputs": [
    {
     "name": "stdout",
     "output_type": "stream",
     "text": [
      "result :  3628800\n"
     ]
    }
   ],
   "source": [
    "result = 1\n",
    "for i in range(1, 11):\n",
    "    #print(i, end=\",\")\n",
    "    result *= i\n",
    "\n",
    "print('result : ', result)"
   ]
  },
  {
   "cell_type": "markdown",
   "id": "4fc9f2ab",
   "metadata": {},
   "source": [
    "### 연습 문제 3 \n",
    "- 구구단의 짝수 단(2,4,5,8)만 출력하는 프로그램 작성\n",
    "- 단 2단은 2x2까지, 4단은 4x4까지, 6단은 6x6까지, 8단은 8x8까지 출력"
   ]
  },
  {
   "cell_type": "code",
   "execution_count": 15,
   "id": "fcb794ab",
   "metadata": {},
   "outputs": [
    {
     "name": "stdout",
     "output_type": "stream",
     "text": [
      "---2단---\n",
      "2 x 1 = 2 \n",
      "2 x 2 = 4 \n",
      "---4단---\n",
      "4 x 1 = 4 \n",
      "4 x 2 = 8 \n",
      "4 x 3 = 12 \n",
      "4 x 4 = 16 \n",
      "---6단---\n",
      "6 x 1 = 6 \n",
      "6 x 2 = 12 \n",
      "6 x 3 = 18 \n",
      "6 x 4 = 24 \n",
      "6 x 5 = 30 \n",
      "6 x 6 = 36 \n",
      "---8단---\n",
      "8 x 1 = 8 \n",
      "8 x 2 = 16 \n",
      "8 x 3 = 24 \n",
      "8 x 4 = 32 \n",
      "8 x 5 = 40 \n",
      "8 x 6 = 48 \n",
      "8 x 7 = 56 \n",
      "8 x 8 = 64 \n"
     ]
    }
   ],
   "source": [
    "for i in range(2,9,2):\n",
    "    print(f\"---{i}단---\")\n",
    "    for j in range(1,i+1):\n",
    "        print(f\"{i} x {j} = {i * j} \")\n",
    "        "
   ]
  },
  {
   "cell_type": "markdown",
   "id": "f0d8d7ab",
   "metadata": {},
   "source": [
    "#### 모범 답안"
   ]
  },
  {
   "cell_type": "code",
   "execution_count": 4,
   "id": "43829d28",
   "metadata": {},
   "outputs": [
    {
     "name": "stdout",
     "output_type": "stream",
     "text": [
      "2 단\n",
      "2 x 1 = 2 2 x 2 = 4 \n",
      "4 단\n",
      "4 x 1 = 4 4 x 2 = 8 4 x 3 = 12 4 x 4 = 16 \n",
      "6 단\n",
      "6 x 1 = 6 6 x 2 = 12 6 x 3 = 18 6 x 4 = 24 6 x 5 = 30 6 x 6 = 36 \n",
      "8 단\n",
      "8 x 1 = 8 8 x 2 = 16 8 x 3 = 24 8 x 4 = 32 8 x 5 = 40 8 x 6 = 48 8 x 7 = 56 8 x 8 = 64 \n"
     ]
    }
   ],
   "source": [
    "for dan in range(2, 9, 2):\n",
    "    print(dan, '단')\n",
    "    for num in range(1, dan+1):\n",
    "        print(dan , 'x', num, '=', dan*num, end=' ')\n",
    "    print()"
   ]
  },
  {
   "cell_type": "markdown",
   "id": "eafb1412",
   "metadata": {},
   "source": [
    "### 연습 문제 4\n",
    "- while문을 무한 루프로 구성하여 작성하는 예제\n",
    "- 1부터 시작해서 모든 짝수와 3의 배수를 더해서 그 합이 언제 1000이 넘어서는지, 그리고 1000이 넘어선 값은 얼마가 되는지 계산하여 출력"
   ]
  },
  {
   "cell_type": "code",
   "execution_count": 16,
   "id": "9e981cb0",
   "metadata": {},
   "outputs": [
    {
     "name": "stdout",
     "output_type": "stream",
     "text": [
      "sum : 1055\n"
     ]
    }
   ],
   "source": [
    "i = 1\n",
    "sum = 0\n",
    "\n",
    "while True:\n",
    "    if i % 2 == 0:\n",
    "        sum += i\n",
    "    elif i % 3 == 0:\n",
    "        sum += i\n",
    "    \n",
    "    if sum > 1000:\n",
    "        print(f'sum : {sum}')\n",
    "        break\n",
    "\n",
    "    i += 1"
   ]
  },
  {
   "cell_type": "markdown",
   "id": "48c1387b",
   "metadata": {},
   "source": [
    "#### 모범 답안"
   ]
  },
  {
   "cell_type": "code",
   "execution_count": 5,
   "id": "1b310ab7",
   "metadata": {},
   "outputs": [
    {
     "name": "stdout",
     "output_type": "stream",
     "text": [
      "56이 추가되었을 때 1000을 넘어갑니다. 1000을 넘긴 최초 의 값은 1055입니다.\n"
     ]
    }
   ],
   "source": [
    "num = 1\n",
    "sum = 0\n",
    "\n",
    "while True :\n",
    "    # 합의 조건식\n",
    "    if num%2==0 or num%3==0 :\n",
    "        sum += num\n",
    "    # 탈출 조건\n",
    "    if sum > 1000:\n",
    "        break\n",
    "    # 증가식\n",
    "    num += 1\n",
    "\n",
    "print(f'{num}이 추가되었을 때 1000을 넘어갑니다. 1000을 넘긴 최초 의 값은 {sum}입니다.')"
   ]
  }
 ],
 "metadata": {
  "kernelspec": {
   "display_name": ".venv",
   "language": "python",
   "name": "python3"
  },
  "language_info": {
   "codemirror_mode": {
    "name": "ipython",
    "version": 3
   },
   "file_extension": ".py",
   "mimetype": "text/x-python",
   "name": "python",
   "nbconvert_exporter": "python",
   "pygments_lexer": "ipython3",
   "version": "3.13.4"
  }
 },
 "nbformat": 4,
 "nbformat_minor": 5
}
