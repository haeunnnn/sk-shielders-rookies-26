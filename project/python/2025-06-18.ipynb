{
 "cells": [
  {
   "cell_type": "markdown",
   "id": "8ca60a2d",
   "metadata": {},
   "source": [
    "## 생성형 AI 활용을 위한 파이썬 정리 3"
   ]
  }
 ],
 "metadata": {
  "language_info": {
   "name": "python"
  }
 },
 "nbformat": 4,
 "nbformat_minor": 5
}
