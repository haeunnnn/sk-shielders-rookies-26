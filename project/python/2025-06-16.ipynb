{
 "cells": [
  {
   "cell_type": "markdown",
   "id": "67abe014",
   "metadata": {},
   "source": [
    "## 파이썬 기본 문법 정리 5"
   ]
  },
  {
   "cell_type": "markdown",
   "id": "7fe958b8",
   "metadata": {},
   "source": [
    "### 1. 데이터 수집"
   ]
  },
  {
   "cell_type": "markdown",
   "id": "719667e4",
   "metadata": {},
   "source": [
    "#### requests"
   ]
  },
  {
   "cell_type": "code",
   "execution_count": 1,
   "id": "2e1f129f",
   "metadata": {},
   "outputs": [],
   "source": [
    "import requests"
   ]
  },
  {
   "cell_type": "markdown",
   "id": "f64ab878",
   "metadata": {},
   "source": [
    "#### BeautifulSoup4\n",
    "- beautifulsoup4를 활용한 웹 스크래핑"
   ]
  },
  {
   "cell_type": "code",
   "execution_count": 2,
   "id": "c7526c89",
   "metadata": {},
   "outputs": [],
   "source": [
    "from bs4 import BeautifulSoup"
   ]
  },
  {
   "cell_type": "code",
   "execution_count": 3,
   "id": "4e436075",
   "metadata": {},
   "outputs": [],
   "source": [
    "html_doc = \"\"\"\n",
    "<html>\n",
    "    <head>\n",
    "        <title>Example Page</title>\n",
    "    </head>\n",
    "    <body>\n",
    "        <h1>Welcome to Web Scraping</h1>\n",
    "        <p class=\"description\">This is an example paragraph.</p>\n",
    "        <a href=\"https://example.com1\">Visit Example1</a>\n",
    "        <a href=\"https://example.com2\">Visit Example2</a>\n",
    "        <a href=\"https://example.com3\">Visit Example3</a>\n",
    "        <a href=\"https://example.com4\">Visit Example4</a>\n",
    "    </body>\n",
    "</html>\n",
    "\"\"\""
   ]
  },
  {
   "cell_type": "markdown",
   "id": "eb5bedfc",
   "metadata": {},
   "source": [
    "##### BeautifulSoup 객체를 생성"
   ]
  },
  {
   "cell_type": "code",
   "execution_count": 4,
   "id": "cb0ded16",
   "metadata": {},
   "outputs": [
    {
     "name": "stdout",
     "output_type": "stream",
     "text": [
      "Example Page\n",
      "Welcome to Web Scraping\n",
      "<a href=\"https://example.com1\">Visit Example1</a>\n",
      "https://example.com1\n",
      "<p class=\"description\">This is an example paragraph.</p>\n",
      "['description']\n"
     ]
    }
   ],
   "source": [
    "soup = BeautifulSoup(html_doc, 'html.parser')\n",
    "# a 태그 안 텍스트 추출\n",
    "print(soup.title.string)\n",
    "print(soup.h1.string)\n",
    "\n",
    "# a 태그 안 속성 추출\n",
    "print(soup.a)\n",
    "print(soup.a['href'])\n",
    "\n",
    "# p 태그 안 속성 추출\n",
    "print(soup.p)\n",
    "# class 속성은 리스트 형태로 반환\n",
    "print(soup.p['class'])"
   ]
  },
  {
   "cell_type": "markdown",
   "id": "affde1cd",
   "metadata": {},
   "source": [
    "##### find(), find_all()"
   ]
  },
  {
   "cell_type": "code",
   "execution_count": 5,
   "id": "a01bcf9d",
   "metadata": {},
   "outputs": [
    {
     "name": "stdout",
     "output_type": "stream",
     "text": [
      "<a href=\"https://example.com1\">Visit Example1</a>\n",
      "<class 'bs4.element.ResultSet'> [<a href=\"https://example.com1\">Visit Example1</a>, <a href=\"https://example.com2\">Visit Example2</a>, <a href=\"https://example.com3\">Visit Example3</a>, <a href=\"https://example.com4\">Visit Example4</a>]\n"
     ]
    }
   ],
   "source": [
    "# find() : 가장 처음 값을 반환\n",
    "a_tag = soup.find('a')\n",
    "print(a_tag)\n",
    "\n",
    "# find_all() : 만족하는 모든 값을 반환\n",
    "a_tags = soup.find_all('a')\n",
    "print(type(a_tags), a_tags)"
   ]
  },
  {
   "cell_type": "code",
   "execution_count": 6,
   "id": "1adf1ca1",
   "metadata": {},
   "outputs": [
    {
     "name": "stdout",
     "output_type": "stream",
     "text": [
      "['https://example.com1', 'https://example.com2', 'https://example.com3', 'https://example.com4']\n"
     ]
    }
   ],
   "source": [
    "links = []\n",
    "for a_tag in a_tags:\n",
    "    links.append(a_tag['href'])\n",
    "print(links)"
   ]
  },
  {
   "cell_type": "code",
   "execution_count": 7,
   "id": "addb8294",
   "metadata": {},
   "outputs": [],
   "source": [
    "html_doc = \"\"\"\n",
    "<html>\n",
    "    <head><title>Example Page</title></head>\n",
    "<body>\n",
    "    <h1>Welcome to Web Scraping</h1>\n",
    "    <p class=\"description\">This is an example paragraph.</p>\n",
    "    <a href=\"https://example.com\">Visit Example</a>\n",
    "</body>\n",
    "</html>\n",
    "\"\"\""
   ]
  },
  {
   "cell_type": "markdown",
   "id": "7d27b5ff",
   "metadata": {},
   "source": [
    "##### select_one()\n",
    "- class 속성 값으로 찾기"
   ]
  },
  {
   "cell_type": "code",
   "execution_count": 8,
   "id": "097e6aea",
   "metadata": {},
   "outputs": [
    {
     "name": "stdout",
     "output_type": "stream",
     "text": [
      "<p class=\"description\">This is an example paragraph.</p>\n",
      "This is an example paragraph.\n"
     ]
    }
   ],
   "source": [
    "soup = BeautifulSoup(html_doc, 'html.parser')\n",
    "\n",
    "description = soup.select_one('.description')   # .(class 선택자)\n",
    "print(description)\n",
    "print(description.string)"
   ]
  },
  {
   "cell_type": "markdown",
   "id": "ee9fd079",
   "metadata": {},
   "source": [
    "##### 웹 페이지 스크래핑"
   ]
  },
  {
   "cell_type": "code",
   "execution_count": 9,
   "id": "6a47d4f1",
   "metadata": {},
   "outputs": [
    {
     "name": "stdout",
     "output_type": "stream",
     "text": [
      "<html lang=\"en\" op=\"news\"><head><meta name=\"referrer\" content=\"origin\"><meta name=\"viewport\" content=\"width=device-width, initial-scale=1.0\"><link rel=\"stylesheet\" type=\"text/css\" href=\"news.css?kc7ZUPIx10J1yMolRDy2\">\n",
      "        <link rel=\"icon\" href=\"y18.svg\">\n",
      "                  <link rel=\"alternate\" type=\"application/rss+xml\" title=\"RSS\" href=\"rss\">\n",
      "        <title>Hacker News</title></head><body><center><table id=\"hnmain\" border=\"0\" cellpadding=\"0\" cellspacing=\"0\" width=\"85%\" bgcolor=\"#f6f6ef\">\n",
      "  \n"
     ]
    }
   ],
   "source": [
    "url = \"https://news.ycombinator.com/\"\n",
    "response = requests.get(url)\n",
    "\n",
    "print(response.text[:500])"
   ]
  },
  {
   "cell_type": "code",
   "execution_count": 10,
   "id": "287b1d43",
   "metadata": {},
   "outputs": [
    {
     "name": "stdout",
     "output_type": "stream",
     "text": [
      "[<a href=\"https://news.ycombinator.com\"><img height=\"18\" src=\"y18.svg\" style=\"border:1px white solid; display:block\" width=\"18\"/></a>, <a href=\"news\">Hacker News</a>, <a href=\"newest\">new</a>, <a href=\"front\">past</a>, <a href=\"newcomments\">comments</a>, <a href=\"ask\">ask</a>, <a href=\"show\">show</a>, <a href=\"jobs\">jobs</a>, <a href=\"submit\" rel=\"nofollow\">submit</a>, <a href=\"login?goto=news\">login</a>, <a href=\"vote?id=44287395&amp;how=up&amp;goto=news\" id=\"up_44287395\"><div class=\"votearrow\" title=\"upvote\"></div></a>, <a href=\"https://bowshock.nl/irc/\">Start your own Internet Resiliency Club</a>, <a href=\"from?site=bowshock.nl\"><span class=\"sitestr\">bowshock.nl</span></a>, <a class=\"hnuser\" href=\"user?id=todsacerdoti\">todsacerdoti</a>, <a href=\"item?id=44287395\">53 minutes ago</a>, <a href=\"hide?id=44287395&amp;goto=news\">hide</a>, <a href=\"item?id=44287395\">10 comments</a>, <a href=\"vote?id=44285781&amp;how=up&amp;goto=news\" id=\"up_44285781\"><div class=\"votearrow\" title=\"upvote\"></div></a>, <a href=\"https://voxelmanip.se/2025/06/14/jokes-and-humour-in-the-public-android-api/\">Jokes and Humour in the Public Android API</a>, <a href=\"from?site=voxelmanip.se\"><span class=\"sitestr\">voxelmanip.se</span></a>, <a class=\"hnuser\" href=\"user?id=todsacerdoti\">todsacerdoti</a>, <a href=\"item?id=44285781\">8 hours ago</a>, <a href=\"hide?id=44285781&amp;goto=news\">hide</a>, <a href=\"item?id=44285781\">37 comments</a>, <a href=\"vote?id=44286748&amp;how=up&amp;goto=news\" id=\"up_44286748\"><div class=\"votearrow\" title=\"upvote\"></div></a>, <a href=\"https://www.nesdev.org/\">NesDev.org – A community of homebrew game devs for NES and other retro consoles</a>, <a href=\"from?site=nesdev.org\"><span class=\"sitestr\">nesdev.org</span></a>, <a class=\"hnuser\" href=\"user?id=ibobev\">ibobev</a>, <a href=\"item?id=44286748\">3 hours ago</a>, <a href=\"hide?id=44286748&amp;goto=news\">hide</a>, <a href=\"item?id=44286748\">2 comments</a>, <a href=\"vote?id=44275679&amp;how=up&amp;goto=news\" id=\"up_44275679\"><div class=\"votearrow\" title=\"upvote\"></div></a>, <a href=\"https://lisp-stat.dev/about/\">Lisp-stat: Lisp environment for statistical computing</a>, <a href=\"from?site=lisp-stat.dev\"><span class=\"sitestr\">lisp-stat.dev</span></a>, <a class=\"hnuser\" href=\"user?id=oumua_don17\">oumua_don17</a>, <a href=\"item?id=44275679\">8 hours ago</a>, <a href=\"hide?id=44275679&amp;goto=news\">hide</a>, <a href=\"item?id=44275679\">15 comments</a>, <a href=\"vote?id=44285874&amp;how=up&amp;goto=news\" id=\"up_44285874\"><div class=\"votearrow\" title=\"upvote\"></div></a>, <a href=\"https://www.quantamagazine.org/is-gravity-just-entropy-rising-long-shot-idea-gets-another-look-20250613/\">Is Gravity Just Entropy Rising? Long-Shot Idea Gets Another Look</a>, <a href=\"from?site=quantamagazine.org\"><span class=\"sitestr\">quantamagazine.org</span></a>, <a class=\"hnuser\" href=\"user?id=pseudolus\">pseudolus</a>, <a href=\"item?id=44285874\">7 hours ago</a>, <a href=\"hide?id=44285874&amp;goto=news\">hide</a>, <a href=\"item?id=44285874\">16 comments</a>, <a href=\"vote?id=44282378&amp;how=up&amp;goto=news\" id=\"up_44282378\"><div class=\"votearrow\" title=\"upvote\"></div></a>, <a href=\"https://tim.dierks.org/2014/05/security-standards-and-name-changes-in.html\">Why SSL was renamed to TLS in late 90s (2014)</a>, <a href=\"from?site=dierks.org\"><span class=\"sitestr\">dierks.org</span></a>, <a class=\"hnuser\" href=\"user?id=Bogdanp\">Bogdanp</a>, <a href=\"item?id=44282378\">18 hours ago</a>, <a href=\"hide?id=44282378&amp;goto=news\">hide</a>, <a href=\"item?id=44282378\">135 comments</a>, <a href=\"vote?id=44282998&amp;how=up&amp;goto=news\" id=\"up_44282998\"><div class=\"votearrow\" title=\"upvote\"></div></a>, <a href=\"https://www.downtowndougbrown.com/2025/06/modifying-an-hdmi-dummy-plugs-edid-using-a-raspberry-pi/\">Modifying an HDMI dummy plug's EDID using a Raspberry Pi</a>, <a href=\"from?site=downtowndougbrown.com\"><span class=\"sitestr\">downtowndougbrown.com</span></a>, <a class=\"hnuser\" href=\"user?id=zdw\">zdw</a>, <a href=\"item?id=44282998\">16 hours ago</a>, <a href=\"hide?id=44282998&amp;goto=news\">hide</a>, <a href=\"item?id=44282998\">64 comments</a>, <a href=\"vote?id=44284657&amp;how=up&amp;goto=news\" id=\"up_44284657\"><div class=\"votearrow\" title=\"upvote\"></div></a>, <a href=\"https://github.com/cosmos72/twin\">Twin – A Textmode WINdow Environment</a>, <a href=\"from?site=github.com/cosmos72\"><span class=\"sitestr\">github.com/cosmos72</span></a>, <a class=\"hnuser\" href=\"user?id=kim_rutherford\">kim_rutherford</a>, <a href=\"item?id=44284657\">12 hours ago</a>, <a href=\"hide?id=44284657&amp;goto=news\">hide</a>, <a href=\"item?id=44284657\">12 comments</a>, <a href=\"vote?id=44282177&amp;how=up&amp;goto=news\" id=\"up_44282177\"><div class=\"votearrow\" title=\"upvote\"></div></a>, <a href=\"https://canyonmid.com/\">Canyon.mid</a>, <a href=\"from?site=canyonmid.com\"><span class=\"sitestr\">canyonmid.com</span></a>, <a class=\"hnuser\" href=\"user?id=LorenDB\">LorenDB</a>, <a href=\"item?id=44282177\">19 hours ago</a>, <a href=\"hide?id=44282177&amp;goto=news\">hide</a>, <a href=\"item?id=44282177\">163 comments</a>, <a href=\"vote?id=44282143&amp;how=up&amp;goto=news\" id=\"up_44282143\"><div class=\"votearrow\" title=\"upvote\"></div></a>, <a href=\"https://ourworldindata.org/childhood-leukemia-treatment-history\">Childhood leukemia: how a deadly cancer became treatable</a>, <a href=\"from?site=ourworldindata.org\"><span class=\"sitestr\">ourworldindata.org</span></a>, <a class=\"hnuser\" href=\"user?id=surprisetalk\">surprisetalk</a>, <a href=\"item?id=44282143\">19 hours ago</a>, <a href=\"hide?id=44282143&amp;goto=news\">hide</a>, <a href=\"item?id=44282143\">51 comments</a>, <a href=\"vote?id=44285440&amp;how=up&amp;goto=news\" id=\"up_44285440\"><div class=\"votearrow\" title=\"upvote\"></div></a>, <a href=\"https://www.darpa.mil/news/2025/darpa-program-distance-record-power-beaming\">DARPA program sets distance record for power beaming</a>, <a href=\"from?site=darpa.mil\"><span class=\"sitestr\">darpa.mil</span></a>, <a class=\"hnuser\" href=\"user?id=gnabgib\">gnabgib</a>, <a href=\"item?id=44285440\">9 hours ago</a>, <a href=\"hide?id=44285440&amp;goto=news\">hide</a>, <a href=\"item?id=44285440\">24 comments</a>, <a href=\"vote?id=44284466&amp;how=up&amp;goto=news\" id=\"up_44284466\"><div class=\"votearrow\" title=\"upvote\"></div></a>, <a href=\"https://telephone-exchanges.org.uk/\">Telephone Exchanges in the UK</a>, <a href=\"from?site=telephone-exchanges.org.uk\"><span class=\"sitestr\">telephone-exchanges.org.uk</span></a>, <a class=\"hnuser\" href=\"user?id=petecooper\">petecooper</a>, <a href=\"item?id=44284466\">12 hours ago</a>, <a href=\"hide?id=44284466&amp;goto=news\">hide</a>, <a href=\"item?id=44284466\">44 comments</a>, <a href=\"vote?id=44281727&amp;how=up&amp;goto=news\" id=\"up_44281727\"><div class=\"votearrow\" title=\"upvote\"></div></a>, <a href=\"https://github.com/frankmcsherry/blog/blob/master/posts/2025-06-03.md\">Datalog in Rust</a>, <a href=\"from?site=github.com/frankmcsherry\"><span class=\"sitestr\">github.com/frankmcsherry</span></a>, <a class=\"hnuser\" href=\"user?id=brson\">brson</a>, <a href=\"item?id=44281727\">21 hours ago</a>, <a href=\"hide?id=44281727&amp;goto=news\">hide</a>, <a href=\"item?id=44281727\">29 comments</a>, <a href=\"vote?id=44285392&amp;how=up&amp;goto=news\" id=\"up_44285392\"><div class=\"votearrow\" title=\"upvote\"></div></a>, <a href=\"https://news.kaist.ac.kr/newsen/html/news/?mode=V&amp;mng_no=47450\">Real-time CO2 monitoring without batteries or external power</a>, <a href=\"from?site=kaist.ac.kr\"><span class=\"sitestr\">kaist.ac.kr</span></a>, <a class=\"hnuser\" href=\"user?id=gnabgib\">gnabgib</a>, <a href=\"item?id=44285392\">10 hours ago</a>, <a href=\"hide?id=44285392&amp;goto=news\">hide</a>, <a href=\"item?id=44285392\">4 comments</a>, <a href=\"vote?id=44275471&amp;how=up&amp;goto=news\" id=\"up_44275471\"><div class=\"votearrow\" title=\"upvote\"></div></a>, <a href=\"https://www.nature.com/articles/s41557-025-01815-x\">Chemical knowledge and reasoning of large language models vs. chemist expertise</a>, <a href=\"from?site=nature.com\"><span class=\"sitestr\">nature.com</span></a>, <a class=\"hnuser\" href=\"user?id=bookofjoe\">bookofjoe</a>, <a href=\"item?id=44275471\">10 hours ago</a>, <a href=\"hide?id=44275471&amp;goto=news\">hide</a>, <a href=\"item?id=44275471\">17 comments</a>, <a href=\"vote?id=44261118&amp;how=up&amp;goto=news\" id=\"up_44261118\"><div class=\"votearrow\" title=\"upvote\"></div></a>, <a href=\"https://www.psu.edu/news/research/story/worlds-first-2d-non-silicon-computer-developed\">First 2D, non-silicon computer developed</a>, <a href=\"from?site=psu.edu\"><span class=\"sitestr\">psu.edu</span></a>, <a class=\"hnuser\" href=\"user?id=giuliomagnifico\">giuliomagnifico</a>, <a href=\"item?id=44261118\">13 hours ago</a>, <a href=\"hide?id=44261118&amp;goto=news\">hide</a>, <a href=\"item?id=44261118\">19 comments</a>, <a href=\"vote?id=44283614&amp;how=up&amp;goto=news\" id=\"up_44283614\"><div class=\"votearrow\" title=\"upvote\"></div></a>, <a href=\"https://blog.kowalczyk.info/a-stsj/simplest-c-callback-from-sumatrapdf.html\">Simplest C++ Callback, from SumatraPDF</a>, <a href=\"from?site=kowalczyk.info\"><span class=\"sitestr\">kowalczyk.info</span></a>, <a class=\"hnuser\" href=\"user?id=jandeboevrie\">jandeboevrie</a>, <a href=\"item?id=44283614\">15 hours ago</a>, <a href=\"hide?id=44283614&amp;goto=news\">hide</a>, <a href=\"item?id=44283614\">97 comments</a>, <a href=\"vote?id=44282017&amp;how=up&amp;goto=news\" id=\"up_44282017\"><div class=\"votearrow\" title=\"upvote\"></div></a>, <a href=\"https://olegkutkov.me/2025/06/15/how-to-modify-starlink-mini-to-run-without-the-built-in-wifi-router/\">How to modify Starlink Mini to run without the built-in WiFi router</a>, <a href=\"from?site=olegkutkov.me\"><span class=\"sitestr\">olegkutkov.me</span></a>, <a class=\"hnuser\" href=\"user?id=LorenDB\">LorenDB</a>, <a href=\"item?id=44282017\">19 hours ago</a>, <a href=\"hide?id=44282017&amp;goto=news\">hide</a>, <a href=\"item?id=44282017\">84 comments</a>, <a href=\"vote?id=44283093&amp;how=up&amp;goto=news\" id=\"up_44283093\"><div class=\"votearrow\" title=\"upvote\"></div></a>, <a href=\"https://deosjr.github.io/dynamicland/datalog.html\">Datalog in miniKanren</a>, <a href=\"from?site=deosjr.github.io\"><span class=\"sitestr\">deosjr.github.io</span></a>, <a class=\"hnuser\" href=\"user?id=deosjr\">deosjr</a>, <a href=\"item?id=44283093\">16 hours ago</a>, <a href=\"hide?id=44283093&amp;goto=news\">hide</a>, <a href=\"item?id=44283093\">9 comments</a>, <a href=\"vote?id=44286277&amp;how=up&amp;goto=news\" id=\"up_44286277\"><div class=\"votearrow\" title=\"upvote\"></div></a>, <a href=\"https://arxiv.org/abs/2506.08872\">Accumulation of cognitive debt when using an AI assistant for essay writing task</a>, <a href=\"from?site=arxiv.org\"><span class=\"sitestr\">arxiv.org</span></a>, <a class=\"hnuser\" href=\"user?id=stephen_g\">stephen_g</a>, <a href=\"item?id=44286277\">5 hours ago</a>, <a href=\"hide?id=44286277&amp;goto=news\">hide</a>, <a href=\"item?id=44286277\">94 comments</a>, <a href=\"vote?id=44287043&amp;how=up&amp;goto=news\" id=\"up_44287043\"><div class=\"votearrow\" title=\"upvote\"></div></a>, <a href=\"https://huggingface.co/nanonets/Nanonets-OCR-s\">Nanonets-OCR-s – OCR model transforms documents into structured markdown</a>, <a href=\"from?site=huggingface.co\"><span class=\"sitestr\">huggingface.co</span></a>, <a class=\"hnuser\" href=\"user?id=PixelPanda\">PixelPanda</a>, <a href=\"item?id=44287043\">2 hours ago</a>, <a href=\"hide?id=44287043&amp;goto=news\">hide</a>, <a href=\"item?id=44287043\">10 comments</a>, <a href=\"vote?id=44285521&amp;how=up&amp;goto=news\" id=\"up_44285521\"><div class=\"votearrow\" title=\"upvote\"></div></a>, <a href=\"https://spectrum.ieee.org/sf6-gas-replacement\">Reinventing circuit breakers with supercritical CO2</a>, <a href=\"from?site=ieee.org\"><span class=\"sitestr\">ieee.org</span></a>, <a class=\"hnuser\" href=\"user?id=rbanffy\">rbanffy</a>, <a href=\"item?id=44285521\">9 hours ago</a>, <a href=\"hide?id=44285521&amp;goto=news\">hide</a>, <a href=\"item?id=44285521\">28 comments</a>, <a href=\"vote?id=44264481&amp;how=up&amp;goto=news\" id=\"up_44264481\"><div class=\"votearrow\" title=\"upvote\"></div></a>, <a href=\"https://phys.org/news/2025-06-unprecedented-optical-clock-network-lays.html\" rel=\"nofollow\">Unprecedented optical clock network lays groundwork for redefining the second</a>, <a href=\"from?site=phys.org\"><span class=\"sitestr\">phys.org</span></a>, <a class=\"hnuser\" href=\"user?id=wglb\">wglb</a>, <a href=\"item?id=44264481\">4 hours ago</a>, <a href=\"hide?id=44264481&amp;goto=news\">hide</a>, <a href=\"item?id=44264481\">4 comments</a>, <a href=\"vote?id=44257422&amp;how=up&amp;goto=news\" id=\"up_44257422\"><div class=\"votearrow\" title=\"upvote\"></div></a>, <a href=\"https://www.smithsonianmag.com/smart-news/massive-field-where-native-american-farmers-grew-corn-beans-and-squash-1000-years-ago-discovered-in-michigan-180986758/\">Fields where Native Americans farmed a thousand years ago discovered in Michigan</a>, <a href=\"from?site=smithsonianmag.com\"><span class=\"sitestr\">smithsonianmag.com</span></a>, <a class=\"hnuser\" href=\"user?id=CoopaTroopa\">CoopaTroopa</a>, <a href=\"item?id=44257422\">21 hours ago</a>, <a href=\"hide?id=44257422&amp;goto=news\">hide</a>, <a href=\"item?id=44257422\">83 comments</a>, <a href=\"vote?id=44275900&amp;how=up&amp;goto=news\" id=\"up_44275900\"><div class=\"votearrow\" title=\"upvote\"></div></a>, <a href=\"https://pitr.ca/2025-06-14-queens\" rel=\"nofollow\">Solving LinkedIn Queens with APL</a>, <a href=\"from?site=pitr.ca\"><span class=\"sitestr\">pitr.ca</span></a>, <a class=\"hnuser\" href=\"user?id=pitr\">pitr</a>, <a href=\"item?id=44275900\">3 hours ago</a>, <a href=\"hide?id=44275900&amp;goto=news\">hide</a>, <a href=\"item?id=44275900\">discuss</a>, <a href=\"vote?id=44258199&amp;how=up&amp;goto=news\" id=\"up_44258199\"><div class=\"votearrow\" title=\"upvote\"></div></a>, <a href=\"https://www.math.uchicago.edu/~lawler/srwbook.pdf\">Random Walk: A Modern Introduction (2010) [pdf]</a>, <a href=\"from?site=uchicago.edu\"><span class=\"sitestr\">uchicago.edu</span></a>, <a class=\"hnuser\" href=\"user?id=Anon84\">Anon84</a>, <a href=\"item?id=44258199\">7 hours ago</a>, <a href=\"hide?id=44258199&amp;goto=news\">hide</a>, <a href=\"item?id=44258199\">4 comments</a>, <a href=\"vote?id=44281506&amp;how=up&amp;goto=news\" id=\"up_44281506\"><div class=\"votearrow\" title=\"upvote\"></div></a>, <a href=\"https://visionbook.mit.edu\">Foundations of Computer Vision (2024)</a>, <a href=\"from?site=visionbook.mit.edu\"><span class=\"sitestr\">visionbook.mit.edu</span></a>, <a class=\"hnuser\" href=\"user?id=tzury\">tzury</a>, <a href=\"item?id=44281506\">22 hours ago</a>, <a href=\"hide?id=44281506&amp;goto=news\">hide</a>, <a href=\"item?id=44281506\">10 comments</a>, <a href=\"vote?id=44286134&amp;how=up&amp;goto=news\" id=\"up_44286134\"><div class=\"votearrow\" title=\"upvote\"></div></a>, <a href=\"https://hparchive.com\">The Hewlett-Packard Archive</a>, <a href=\"from?site=hparchive.com\"><span class=\"sitestr\">hparchive.com</span></a>, <a class=\"hnuser\" href=\"user?id=joebig\">joebig</a>, <a href=\"item?id=44286134\">6 hours ago</a>, <a href=\"hide?id=44286134&amp;goto=news\">hide</a>, <a href=\"item?id=44286134\">2 comments</a>, <a href=\"vote?id=44255867&amp;how=up&amp;goto=news\" id=\"up_44255867\"><div class=\"votearrow\" title=\"upvote\"></div></a>, <a href=\"https://spectrum.ieee.org/embryo-electrode-array\">Cyborg Embryos Offer New Insights into Brain Growth</a>, <a href=\"from?site=ieee.org\"><span class=\"sitestr\">ieee.org</span></a>, <a class=\"hnuser\" href=\"user?id=rbanffy\">rbanffy</a>, <a href=\"item?id=44255867\">11 hours ago</a>, <a href=\"hide?id=44255867&amp;goto=news\">hide</a>, <a href=\"item?id=44255867\">2 comments</a>, <a href=\"vote?id=44281016&amp;how=up&amp;goto=news\" id=\"up_44281016\"><div class=\"votearrow\" title=\"upvote\"></div></a>, <a href=\"https://www.dreamsongs.com/ArtOfLisp.html\">The Art of Lisp and Writing (2003)</a>, <a href=\"from?site=dreamsongs.com\"><span class=\"sitestr\">dreamsongs.com</span></a>, <a class=\"hnuser\" href=\"user?id=Bogdanp\">Bogdanp</a>, <a href=\"item?id=44281016\">1 day ago</a>, <a href=\"hide?id=44281016&amp;goto=news\">hide</a>, <a href=\"item?id=44281016\">70 comments</a>, <a class=\"morelink\" href=\"?p=2\" rel=\"next\">More</a>, <a href=\"https://www.ycombinator.com/apply/\">Consider applying for YC's Fall 2025 batch! Applications are open till Aug 4</a>, <a href=\"newsguidelines.html\">Guidelines</a>, <a href=\"newsfaq.html\">FAQ</a>, <a href=\"lists\">Lists</a>, <a href=\"https://github.com/HackerNews/API\">API</a>, <a href=\"security.html\">Security</a>, <a href=\"https://www.ycombinator.com/legal/\">Legal</a>, <a href=\"https://www.ycombinator.com/apply/\">Apply to YC</a>, <a href=\"mailto:hn@ycombinator.com\">Contact</a>]\n",
      "\n",
      "https://news.ycombinator.com\n",
      "Hacker News\n",
      "news\n",
      "new\n",
      "newest\n",
      "past\n",
      "front\n",
      "comments\n",
      "newcomments\n",
      "ask\n",
      "ask\n",
      "show\n",
      "show\n",
      "jobs\n",
      "jobs\n",
      "submit\n",
      "submit\n",
      "login\n",
      "login?goto=news\n",
      "\n",
      "vote?id=44287395&how=up&goto=news\n",
      "Start your own Internet Resiliency Club\n",
      "https://bowshock.nl/irc/\n",
      "bowshock.nl\n",
      "from?site=bowshock.nl\n",
      "todsacerdoti\n",
      "user?id=todsacerdoti\n",
      "53 minutes ago\n",
      "item?id=44287395\n",
      "hide\n",
      "hide?id=44287395&goto=news\n",
      "10 comments\n",
      "item?id=44287395\n",
      "\n",
      "vote?id=44285781&how=up&goto=news\n",
      "Jokes and Humour in the Public Android API\n",
      "https://voxelmanip.se/2025/06/14/jokes-and-humour-in-the-public-android-api/\n",
      "voxelmanip.se\n",
      "from?site=voxelmanip.se\n",
      "todsacerdoti\n",
      "user?id=todsacerdoti\n",
      "8 hours ago\n",
      "item?id=44285781\n",
      "hide\n",
      "hide?id=44285781&goto=news\n",
      "37 comments\n",
      "item?id=44285781\n",
      "\n",
      "vote?id=44286748&how=up&goto=news\n",
      "NesDev.org – A community of homebrew game devs for NES and other retro consoles\n",
      "https://www.nesdev.org/\n",
      "nesdev.org\n",
      "from?site=nesdev.org\n",
      "ibobev\n",
      "user?id=ibobev\n",
      "3 hours ago\n",
      "item?id=44286748\n",
      "hide\n",
      "hide?id=44286748&goto=news\n",
      "2 comments\n",
      "item?id=44286748\n",
      "\n",
      "vote?id=44275679&how=up&goto=news\n",
      "Lisp-stat: Lisp environment for statistical computing\n",
      "https://lisp-stat.dev/about/\n",
      "lisp-stat.dev\n",
      "from?site=lisp-stat.dev\n",
      "oumua_don17\n",
      "user?id=oumua_don17\n",
      "8 hours ago\n",
      "item?id=44275679\n",
      "hide\n",
      "hide?id=44275679&goto=news\n",
      "15 comments\n",
      "item?id=44275679\n",
      "\n",
      "vote?id=44285874&how=up&goto=news\n",
      "Is Gravity Just Entropy Rising? Long-Shot Idea Gets Another Look\n",
      "https://www.quantamagazine.org/is-gravity-just-entropy-rising-long-shot-idea-gets-another-look-20250613/\n",
      "quantamagazine.org\n",
      "from?site=quantamagazine.org\n",
      "pseudolus\n",
      "user?id=pseudolus\n",
      "7 hours ago\n",
      "item?id=44285874\n",
      "hide\n",
      "hide?id=44285874&goto=news\n",
      "16 comments\n",
      "item?id=44285874\n",
      "\n",
      "vote?id=44282378&how=up&goto=news\n",
      "Why SSL was renamed to TLS in late 90s (2014)\n",
      "https://tim.dierks.org/2014/05/security-standards-and-name-changes-in.html\n",
      "dierks.org\n",
      "from?site=dierks.org\n",
      "Bogdanp\n",
      "user?id=Bogdanp\n",
      "18 hours ago\n",
      "item?id=44282378\n",
      "hide\n",
      "hide?id=44282378&goto=news\n",
      "135 comments\n",
      "item?id=44282378\n",
      "\n",
      "vote?id=44282998&how=up&goto=news\n",
      "Modifying an HDMI dummy plug's EDID using a Raspberry Pi\n",
      "https://www.downtowndougbrown.com/2025/06/modifying-an-hdmi-dummy-plugs-edid-using-a-raspberry-pi/\n",
      "downtowndougbrown.com\n",
      "from?site=downtowndougbrown.com\n",
      "zdw\n",
      "user?id=zdw\n",
      "16 hours ago\n",
      "item?id=44282998\n",
      "hide\n",
      "hide?id=44282998&goto=news\n",
      "64 comments\n",
      "item?id=44282998\n",
      "\n",
      "vote?id=44284657&how=up&goto=news\n",
      "Twin – A Textmode WINdow Environment\n",
      "https://github.com/cosmos72/twin\n",
      "github.com/cosmos72\n",
      "from?site=github.com/cosmos72\n",
      "kim_rutherford\n",
      "user?id=kim_rutherford\n",
      "12 hours ago\n",
      "item?id=44284657\n",
      "hide\n",
      "hide?id=44284657&goto=news\n",
      "12 comments\n",
      "item?id=44284657\n",
      "\n",
      "vote?id=44282177&how=up&goto=news\n",
      "Canyon.mid\n",
      "https://canyonmid.com/\n",
      "canyonmid.com\n",
      "from?site=canyonmid.com\n",
      "LorenDB\n",
      "user?id=LorenDB\n",
      "19 hours ago\n",
      "item?id=44282177\n",
      "hide\n",
      "hide?id=44282177&goto=news\n",
      "163 comments\n",
      "item?id=44282177\n",
      "\n",
      "vote?id=44282143&how=up&goto=news\n",
      "Childhood leukemia: how a deadly cancer became treatable\n",
      "https://ourworldindata.org/childhood-leukemia-treatment-history\n",
      "ourworldindata.org\n",
      "from?site=ourworldindata.org\n",
      "surprisetalk\n",
      "user?id=surprisetalk\n",
      "19 hours ago\n",
      "item?id=44282143\n",
      "hide\n",
      "hide?id=44282143&goto=news\n",
      "51 comments\n",
      "item?id=44282143\n",
      "\n",
      "vote?id=44285440&how=up&goto=news\n",
      "DARPA program sets distance record for power beaming\n",
      "https://www.darpa.mil/news/2025/darpa-program-distance-record-power-beaming\n",
      "darpa.mil\n",
      "from?site=darpa.mil\n",
      "gnabgib\n",
      "user?id=gnabgib\n",
      "9 hours ago\n",
      "item?id=44285440\n",
      "hide\n",
      "hide?id=44285440&goto=news\n",
      "24 comments\n",
      "item?id=44285440\n",
      "\n",
      "vote?id=44284466&how=up&goto=news\n",
      "Telephone Exchanges in the UK\n",
      "https://telephone-exchanges.org.uk/\n",
      "telephone-exchanges.org.uk\n",
      "from?site=telephone-exchanges.org.uk\n",
      "petecooper\n",
      "user?id=petecooper\n",
      "12 hours ago\n",
      "item?id=44284466\n",
      "hide\n",
      "hide?id=44284466&goto=news\n",
      "44 comments\n",
      "item?id=44284466\n",
      "\n",
      "vote?id=44281727&how=up&goto=news\n",
      "Datalog in Rust\n",
      "https://github.com/frankmcsherry/blog/blob/master/posts/2025-06-03.md\n",
      "github.com/frankmcsherry\n",
      "from?site=github.com/frankmcsherry\n",
      "brson\n",
      "user?id=brson\n",
      "21 hours ago\n",
      "item?id=44281727\n",
      "hide\n",
      "hide?id=44281727&goto=news\n",
      "29 comments\n",
      "item?id=44281727\n",
      "\n",
      "vote?id=44285392&how=up&goto=news\n",
      "Real-time CO2 monitoring without batteries or external power\n",
      "https://news.kaist.ac.kr/newsen/html/news/?mode=V&mng_no=47450\n",
      "kaist.ac.kr\n",
      "from?site=kaist.ac.kr\n",
      "gnabgib\n",
      "user?id=gnabgib\n",
      "10 hours ago\n",
      "item?id=44285392\n",
      "hide\n",
      "hide?id=44285392&goto=news\n",
      "4 comments\n",
      "item?id=44285392\n",
      "\n",
      "vote?id=44275471&how=up&goto=news\n",
      "Chemical knowledge and reasoning of large language models vs. chemist expertise\n",
      "https://www.nature.com/articles/s41557-025-01815-x\n",
      "nature.com\n",
      "from?site=nature.com\n",
      "bookofjoe\n",
      "user?id=bookofjoe\n",
      "10 hours ago\n",
      "item?id=44275471\n",
      "hide\n",
      "hide?id=44275471&goto=news\n",
      "17 comments\n",
      "item?id=44275471\n",
      "\n",
      "vote?id=44261118&how=up&goto=news\n",
      "First 2D, non-silicon computer developed\n",
      "https://www.psu.edu/news/research/story/worlds-first-2d-non-silicon-computer-developed\n",
      "psu.edu\n",
      "from?site=psu.edu\n",
      "giuliomagnifico\n",
      "user?id=giuliomagnifico\n",
      "13 hours ago\n",
      "item?id=44261118\n",
      "hide\n",
      "hide?id=44261118&goto=news\n",
      "19 comments\n",
      "item?id=44261118\n",
      "\n",
      "vote?id=44283614&how=up&goto=news\n",
      "Simplest C++ Callback, from SumatraPDF\n",
      "https://blog.kowalczyk.info/a-stsj/simplest-c-callback-from-sumatrapdf.html\n",
      "kowalczyk.info\n",
      "from?site=kowalczyk.info\n",
      "jandeboevrie\n",
      "user?id=jandeboevrie\n",
      "15 hours ago\n",
      "item?id=44283614\n",
      "hide\n",
      "hide?id=44283614&goto=news\n",
      "97 comments\n",
      "item?id=44283614\n",
      "\n",
      "vote?id=44282017&how=up&goto=news\n",
      "How to modify Starlink Mini to run without the built-in WiFi router\n",
      "https://olegkutkov.me/2025/06/15/how-to-modify-starlink-mini-to-run-without-the-built-in-wifi-router/\n",
      "olegkutkov.me\n",
      "from?site=olegkutkov.me\n",
      "LorenDB\n",
      "user?id=LorenDB\n",
      "19 hours ago\n",
      "item?id=44282017\n",
      "hide\n",
      "hide?id=44282017&goto=news\n",
      "84 comments\n",
      "item?id=44282017\n",
      "\n",
      "vote?id=44283093&how=up&goto=news\n",
      "Datalog in miniKanren\n",
      "https://deosjr.github.io/dynamicland/datalog.html\n",
      "deosjr.github.io\n",
      "from?site=deosjr.github.io\n",
      "deosjr\n",
      "user?id=deosjr\n",
      "16 hours ago\n",
      "item?id=44283093\n",
      "hide\n",
      "hide?id=44283093&goto=news\n",
      "9 comments\n",
      "item?id=44283093\n",
      "\n",
      "vote?id=44286277&how=up&goto=news\n",
      "Accumulation of cognitive debt when using an AI assistant for essay writing task\n",
      "https://arxiv.org/abs/2506.08872\n",
      "arxiv.org\n",
      "from?site=arxiv.org\n",
      "stephen_g\n",
      "user?id=stephen_g\n",
      "5 hours ago\n",
      "item?id=44286277\n",
      "hide\n",
      "hide?id=44286277&goto=news\n",
      "94 comments\n",
      "item?id=44286277\n",
      "\n",
      "vote?id=44287043&how=up&goto=news\n",
      "Nanonets-OCR-s – OCR model transforms documents into structured markdown\n",
      "https://huggingface.co/nanonets/Nanonets-OCR-s\n",
      "huggingface.co\n",
      "from?site=huggingface.co\n",
      "PixelPanda\n",
      "user?id=PixelPanda\n",
      "2 hours ago\n",
      "item?id=44287043\n",
      "hide\n",
      "hide?id=44287043&goto=news\n",
      "10 comments\n",
      "item?id=44287043\n",
      "\n",
      "vote?id=44285521&how=up&goto=news\n",
      "Reinventing circuit breakers with supercritical CO2\n",
      "https://spectrum.ieee.org/sf6-gas-replacement\n",
      "ieee.org\n",
      "from?site=ieee.org\n",
      "rbanffy\n",
      "user?id=rbanffy\n",
      "9 hours ago\n",
      "item?id=44285521\n",
      "hide\n",
      "hide?id=44285521&goto=news\n",
      "28 comments\n",
      "item?id=44285521\n",
      "\n",
      "vote?id=44264481&how=up&goto=news\n",
      "Unprecedented optical clock network lays groundwork for redefining the second\n",
      "https://phys.org/news/2025-06-unprecedented-optical-clock-network-lays.html\n",
      "phys.org\n",
      "from?site=phys.org\n",
      "wglb\n",
      "user?id=wglb\n",
      "4 hours ago\n",
      "item?id=44264481\n",
      "hide\n",
      "hide?id=44264481&goto=news\n",
      "4 comments\n",
      "item?id=44264481\n",
      "\n",
      "vote?id=44257422&how=up&goto=news\n",
      "Fields where Native Americans farmed a thousand years ago discovered in Michigan\n",
      "https://www.smithsonianmag.com/smart-news/massive-field-where-native-american-farmers-grew-corn-beans-and-squash-1000-years-ago-discovered-in-michigan-180986758/\n",
      "smithsonianmag.com\n",
      "from?site=smithsonianmag.com\n",
      "CoopaTroopa\n",
      "user?id=CoopaTroopa\n",
      "21 hours ago\n",
      "item?id=44257422\n",
      "hide\n",
      "hide?id=44257422&goto=news\n",
      "83 comments\n",
      "item?id=44257422\n",
      "\n",
      "vote?id=44275900&how=up&goto=news\n",
      "Solving LinkedIn Queens with APL\n",
      "https://pitr.ca/2025-06-14-queens\n",
      "pitr.ca\n",
      "from?site=pitr.ca\n",
      "pitr\n",
      "user?id=pitr\n",
      "3 hours ago\n",
      "item?id=44275900\n",
      "hide\n",
      "hide?id=44275900&goto=news\n",
      "discuss\n",
      "item?id=44275900\n",
      "\n",
      "vote?id=44258199&how=up&goto=news\n",
      "Random Walk: A Modern Introduction (2010) [pdf]\n",
      "https://www.math.uchicago.edu/~lawler/srwbook.pdf\n",
      "uchicago.edu\n",
      "from?site=uchicago.edu\n",
      "Anon84\n",
      "user?id=Anon84\n",
      "7 hours ago\n",
      "item?id=44258199\n",
      "hide\n",
      "hide?id=44258199&goto=news\n",
      "4 comments\n",
      "item?id=44258199\n",
      "\n",
      "vote?id=44281506&how=up&goto=news\n",
      "Foundations of Computer Vision (2024)\n",
      "https://visionbook.mit.edu\n",
      "visionbook.mit.edu\n",
      "from?site=visionbook.mit.edu\n",
      "tzury\n",
      "user?id=tzury\n",
      "22 hours ago\n",
      "item?id=44281506\n",
      "hide\n",
      "hide?id=44281506&goto=news\n",
      "10 comments\n",
      "item?id=44281506\n",
      "\n",
      "vote?id=44286134&how=up&goto=news\n",
      "The Hewlett-Packard Archive\n",
      "https://hparchive.com\n",
      "hparchive.com\n",
      "from?site=hparchive.com\n",
      "joebig\n",
      "user?id=joebig\n",
      "6 hours ago\n",
      "item?id=44286134\n",
      "hide\n",
      "hide?id=44286134&goto=news\n",
      "2 comments\n",
      "item?id=44286134\n",
      "\n",
      "vote?id=44255867&how=up&goto=news\n",
      "Cyborg Embryos Offer New Insights into Brain Growth\n",
      "https://spectrum.ieee.org/embryo-electrode-array\n",
      "ieee.org\n",
      "from?site=ieee.org\n",
      "rbanffy\n",
      "user?id=rbanffy\n",
      "11 hours ago\n",
      "item?id=44255867\n",
      "hide\n",
      "hide?id=44255867&goto=news\n",
      "2 comments\n",
      "item?id=44255867\n",
      "\n",
      "vote?id=44281016&how=up&goto=news\n",
      "The Art of Lisp and Writing (2003)\n",
      "https://www.dreamsongs.com/ArtOfLisp.html\n",
      "dreamsongs.com\n",
      "from?site=dreamsongs.com\n",
      "Bogdanp\n",
      "user?id=Bogdanp\n",
      "1 day ago\n",
      "item?id=44281016\n",
      "hide\n",
      "hide?id=44281016&goto=news\n",
      "70 comments\n",
      "item?id=44281016\n",
      "More\n",
      "?p=2\n",
      "Consider applying for YC's Fall 2025 batch! Applications are open till Aug 4\n",
      "https://www.ycombinator.com/apply/\n",
      "Guidelines\n",
      "newsguidelines.html\n",
      "FAQ\n",
      "newsfaq.html\n",
      "Lists\n",
      "lists\n",
      "API\n",
      "https://github.com/HackerNews/API\n",
      "Security\n",
      "security.html\n",
      "Legal\n",
      "https://www.ycombinator.com/legal/\n",
      "Apply to YC\n",
      "https://www.ycombinator.com/apply/\n",
      "Contact\n",
      "mailto:hn@ycombinator.com\n"
     ]
    }
   ],
   "source": [
    "soup = BeautifulSoup(response.text, 'html.parser')\n",
    "print(soup.find_all('a'))\n",
    "\n",
    "for item in soup.find_all('a'):\n",
    "    href = item.get('href')\n",
    "    if href:\n",
    "        print(item.get_text(strip=True))\n",
    "        print(href)"
   ]
  },
  {
   "cell_type": "code",
   "execution_count": 11,
   "id": "a04a1975",
   "metadata": {},
   "outputs": [],
   "source": [
    "url = \"https://news.naver.com/main/list.naver?mode=LSD&mid=sec&sid1=105\"\n",
    "\n",
    "# 요청 헤더 설정 (크롤링 방지 우회를 위해 User-Agent 추가)\n",
    "headers = {\n",
    "    \"User-Agent\": \"Mozilla/5.0 (Windows NT 10.0; Win64; x64) AppleWebKit/537.36 (KHTML, like Gecko) Chrome/114.0.0.0 Safari/537.36\"\n",
    "}"
   ]
  },
  {
   "cell_type": "code",
   "execution_count": 12,
   "id": "01322ce2",
   "metadata": {},
   "outputs": [
    {
     "name": "stdout",
     "output_type": "stream",
     "text": [
      "title: 헥토파이낸셜, 자사주 70만주 처분 결정…\"신사업·주식 유동성 확대\"\n",
      "href: https://n.news.naver.com/mnews/article/008/0005208241?sid=105\n",
      "title: 과기정통부 공무원노조, 차기 장관으로 조승래 민주당 의원 추천\n",
      "href: https://n.news.naver.com/mnews/article/584/0000032863?sid=105\n",
      "title: 섬으로 간 대웅…\"AI로 의료 사각지대 해소\"\n",
      "href: https://n.news.naver.com/mnews/article/015/0005145230?sid=105\n",
      "title: 불면증 환자, 병원 안 가도 된다…웰트 \"앱으로 비대면 진료\"\n",
      "href: https://n.news.naver.com/mnews/article/015/0005145229?sid=105\n",
      "title: '한 달 만에 10kg 빠졌어요'…위고비보다 더 센 놈 온다\n",
      "href: https://n.news.naver.com/mnews/article/015/0005145228?sid=105\n",
      "title: 성장 멈춘 편의점…초저가 상품·체험형 콘텐츠 승부수\n",
      "href: https://n.news.naver.com/mnews/article/092/0002378361?sid=105\n",
      "title: 4배 성장한 숏드라마, 中 플랫폼이 '싹쓸이'\n",
      "href: https://n.news.naver.com/mnews/article/015/0005145227?sid=105\n",
      "title: 바이넥스, 셀트리온 임상물질 2종 위탁생산\n",
      "href: https://n.news.naver.com/mnews/article/015/0005145226?sid=105\n",
      "title: 과기정통부 노조, 차기 장관에 '조승래 의원' 추천\n",
      "href: https://n.news.naver.com/mnews/article/138/0002198665?sid=105\n",
      "title: 이엔셀, 샤리코마리투스 치료제 임상 1상 장기추적 결과 발표\n",
      "href: https://n.news.naver.com/mnews/article/009/0005509649?sid=105\n"
     ]
    }
   ],
   "source": [
    "response = requests.get(url, headers=headers)\n",
    "\n",
    "soup = BeautifulSoup(response.text, 'html.parser')\n",
    "\n",
    "news_items = soup.select(\"ul.type06_headline li dt:not(.photo) a\")\n",
    "\n",
    "for item in news_items:\n",
    "    title = item.get_text(strip=True)\n",
    "    link = item['href']\n",
    "    print('title:', title)\n",
    "    print('href:', link)"
   ]
  },
  {
   "cell_type": "markdown",
   "id": "37f5a3c5",
   "metadata": {},
   "source": [
    "#### 3. Selenium"
   ]
  },
  {
   "cell_type": "code",
   "execution_count": 13,
   "id": "78df0199",
   "metadata": {},
   "outputs": [],
   "source": [
    "from selenium import webdriver"
   ]
  },
  {
   "cell_type": "markdown",
   "id": "1a2e1984",
   "metadata": {},
   "source": [
    "##### 브라우저 실행"
   ]
  },
  {
   "cell_type": "code",
   "execution_count": 14,
   "id": "ee669dec",
   "metadata": {},
   "outputs": [],
   "source": [
    "# 브라우저 실행\n",
    "driver = webdriver.Chrome()\n",
    "\n",
    "# 특정 url 열기\n",
    "driver.get('https://www.google.com')\n",
    "\n",
    "# 브라우저 종료\n",
    "driver.quit()"
   ]
  },
  {
   "cell_type": "markdown",
   "id": "dee84533",
   "metadata": {},
   "source": [
    "##### 브라우저에 특정 작업 수행하기"
   ]
  },
  {
   "cell_type": "code",
   "execution_count": 15,
   "id": "3980c204",
   "metadata": {},
   "outputs": [],
   "source": [
    "from selenium import webdriver\n",
    "from selenium.webdriver.common.by import By\n",
    "from selenium.webdriver.common.keys import Keys\n",
    "import time"
   ]
  },
  {
   "cell_type": "code",
   "execution_count": 37,
   "id": "d320ff4e",
   "metadata": {},
   "outputs": [
    {
     "name": "stdout",
     "output_type": "stream",
     "text": [
      "1. Welcome to Python.org\n",
      "2. Downloads\n",
      "3. Python Releases for Windows\n",
      "4. Documentation\n",
      "5. Python 3.13.2\n"
     ]
    }
   ],
   "source": [
    "# 브라우저 실행\n",
    "driver = webdriver.Chrome()\n",
    "\n",
    "# 특정 url 열기\n",
    "driver.get('https://www.google.com')\n",
    "\n",
    "# 검색창 찾기\n",
    "search_box = driver.find_element(By.NAME, 'q')\n",
    "# 검색어 입력\n",
    "search_box .send_keys('python')\n",
    "# Enter 키\n",
    "search_box.send_keys(Keys.RETURN)\n",
    "\n",
    "# 입력 결과가 나올 때까지 대기\n",
    "time.sleep(20)\n",
    "\n",
    "# 검색 결과 출력\n",
    "results = driver.find_elements(By.XPATH, '//h3')\n",
    "for index, result in enumerate(results[:5]):  # 상위 5개 결과만 출력\n",
    "    print(f\"{index + 1}. {result.text}\")\n",
    " \n",
    "# 브라우저 닫기\n",
    "driver.quit()"
   ]
  },
  {
   "cell_type": "code",
   "execution_count": 17,
   "id": "71e9d359",
   "metadata": {},
   "outputs": [
    {
     "name": "stdout",
     "output_type": "stream",
     "text": [
      "[<selenium.webdriver.remote.webelement.WebElement (session=\"bf7bff8bee9f58bc266434558136ff4d\", element=\"f.A1E3DC1754AD56003DF3DE88F5B4FC0F.d.D3D3B1F6DC644339ADF51E865C54104B.e.92\")>, <selenium.webdriver.remote.webelement.WebElement (session=\"bf7bff8bee9f58bc266434558136ff4d\", element=\"f.A1E3DC1754AD56003DF3DE88F5B4FC0F.d.D3D3B1F6DC644339ADF51E865C54104B.e.93\")>, <selenium.webdriver.remote.webelement.WebElement (session=\"bf7bff8bee9f58bc266434558136ff4d\", element=\"f.A1E3DC1754AD56003DF3DE88F5B4FC0F.d.D3D3B1F6DC644339ADF51E865C54104B.e.94\")>, <selenium.webdriver.remote.webelement.WebElement (session=\"bf7bff8bee9f58bc266434558136ff4d\", element=\"f.A1E3DC1754AD56003DF3DE88F5B4FC0F.d.D3D3B1F6DC644339ADF51E865C54104B.e.95\")>, <selenium.webdriver.remote.webelement.WebElement (session=\"bf7bff8bee9f58bc266434558136ff4d\", element=\"f.A1E3DC1754AD56003DF3DE88F5B4FC0F.d.D3D3B1F6DC644339ADF51E865C54104B.e.96\")>, <selenium.webdriver.remote.webelement.WebElement (session=\"bf7bff8bee9f58bc266434558136ff4d\", element=\"f.A1E3DC1754AD56003DF3DE88F5B4FC0F.d.D3D3B1F6DC644339ADF51E865C54104B.e.97\")>, <selenium.webdriver.remote.webelement.WebElement (session=\"bf7bff8bee9f58bc266434558136ff4d\", element=\"f.A1E3DC1754AD56003DF3DE88F5B4FC0F.d.D3D3B1F6DC644339ADF51E865C54104B.e.98\")>, <selenium.webdriver.remote.webelement.WebElement (session=\"bf7bff8bee9f58bc266434558136ff4d\", element=\"f.A1E3DC1754AD56003DF3DE88F5B4FC0F.d.D3D3B1F6DC644339ADF51E865C54104B.e.99\")>, <selenium.webdriver.remote.webelement.WebElement (session=\"bf7bff8bee9f58bc266434558136ff4d\", element=\"f.A1E3DC1754AD56003DF3DE88F5B4FC0F.d.D3D3B1F6DC644339ADF51E865C54104B.e.100\")>, <selenium.webdriver.remote.webelement.WebElement (session=\"bf7bff8bee9f58bc266434558136ff4d\", element=\"f.A1E3DC1754AD56003DF3DE88F5B4FC0F.d.D3D3B1F6DC644339ADF51E865C54104B.e.101\")>]\n",
      "헥토파이낸셜, 자사주 70만주 처분 결정…\"신사업·주식 유동성 확대\"\n",
      "https://n.news.naver.com/mnews/article/008/0005208241?sid=105\n",
      "과기정통부 공무원노조, 차기 장관으로 조승래 민주당 의원 추천\n",
      "https://n.news.naver.com/mnews/article/584/0000032863?sid=105\n",
      "섬으로 간 대웅…\"AI로 의료 사각지대 해소\"\n",
      "https://n.news.naver.com/mnews/article/015/0005145230?sid=105\n",
      "불면증 환자, 병원 안 가도 된다…웰트 \"앱으로 비대면 진료\"\n",
      "https://n.news.naver.com/mnews/article/015/0005145229?sid=105\n",
      "'한 달 만에 10kg 빠졌어요'…위고비보다 더 센 놈 온다\n",
      "https://n.news.naver.com/mnews/article/015/0005145228?sid=105\n",
      "성장 멈춘 편의점…초저가 상품·체험형 콘텐츠 승부수\n",
      "https://n.news.naver.com/mnews/article/092/0002378361?sid=105\n",
      "4배 성장한 숏드라마, 中 플랫폼이 '싹쓸이'\n",
      "https://n.news.naver.com/mnews/article/015/0005145227?sid=105\n",
      "바이넥스, 셀트리온 임상물질 2종 위탁생산\n",
      "https://n.news.naver.com/mnews/article/015/0005145226?sid=105\n",
      "과기정통부 노조, 차기 장관에 '조승래 의원' 추천\n",
      "https://n.news.naver.com/mnews/article/138/0002198665?sid=105\n",
      "이엔셀, 샤리코마리투스 치료제 임상 1상 장기추적 결과 발표\n",
      "https://n.news.naver.com/mnews/article/009/0005509649?sid=105\n"
     ]
    }
   ],
   "source": [
    "# 브라우저 실행\n",
    "driver = webdriver.Chrome()\n",
    "\n",
    "\"https://news.naver.com/main/list.naver?mode=LSD&mid=sec&sid1=105\"\n",
    "# 특정 url 열기\n",
    "driver.get(url)\n",
    "\n",
    "time.sleep(3)\n",
    "\n",
    "# 검색 결과 출력\n",
    "results = driver.find_elements(By.CSS_SELECTOR, 'ul.type06_headline li dt:not(.photo) a')\n",
    "print(results)\n",
    "for item in results:\n",
    "    print(item.text)\n",
    "    print(item.get_attribute('href'))\n",
    " \n",
    "# 브라우저 닫기\n",
    "driver.quit()"
   ]
  },
  {
   "cell_type": "markdown",
   "id": "354d79c9",
   "metadata": {},
   "source": [
    "### 2. 데이터 저장"
   ]
  },
  {
   "cell_type": "markdown",
   "id": "72911dde",
   "metadata": {},
   "source": [
    "#### csv 형식으로 저장"
   ]
  },
  {
   "cell_type": "code",
   "execution_count": 18,
   "id": "152bfb06",
   "metadata": {},
   "outputs": [],
   "source": [
    "import csv"
   ]
  },
  {
   "cell_type": "code",
   "execution_count": 19,
   "id": "3b48cd8f",
   "metadata": {},
   "outputs": [],
   "source": [
    "# 데이터 준비\n",
    "data = [\n",
    "    ['Name', 'Age', 'City'],\n",
    "    ['Alice', 30, 'New York'],\n",
    "    ['Bob', 25, 'Los Angeles'],\n",
    "    ['Charlie', 35, 'Chicago']\n",
    "]\n",
    "\n",
    "# 데이터 csv 형식으로 저장\n",
    "with open('data/data1.csv', mode='w',  newline='', encoding='utf-8') as file:\n",
    "    writer = csv.writer(file)\n",
    "    writer.writerows(data)"
   ]
  },
  {
   "cell_type": "code",
   "execution_count": 20,
   "id": "34c820a3",
   "metadata": {},
   "outputs": [],
   "source": [
    "import pandas as pd"
   ]
  },
  {
   "cell_type": "code",
   "execution_count": 21,
   "id": "0ac74a22",
   "metadata": {},
   "outputs": [
    {
     "name": "stdout",
     "output_type": "stream",
     "text": [
      "      Name  Age         City\n",
      "0    Alice   30     New York\n",
      "1      Bob   25  Los Angeles\n",
      "2  Charlie   35      Chicago\n"
     ]
    }
   ],
   "source": [
    "# 데이터 읽어오기\n",
    "data = pd.read_csv('data/data1.csv')\n",
    "print(data)"
   ]
  },
  {
   "cell_type": "markdown",
   "id": "864faea9",
   "metadata": {},
   "source": [
    "#### excel 형식으로 저장"
   ]
  },
  {
   "cell_type": "code",
   "execution_count": 22,
   "id": "86734ae2",
   "metadata": {},
   "outputs": [],
   "source": [
    "# 데이터 준비\n",
    "data = {\n",
    "    'Name': ['Alice', 'Bob', 'Charlie'],\n",
    "    'Age': [30, 25, 35],\n",
    "    'City': ['New York', 'Los Angeles', 'Chicago']\n",
    "}\n",
    "\n",
    "df = pd.DataFrame(data)\n",
    "# 데이터 excel 형식으로 저장\n",
    "df.to_excel('data/data1.xlsx', index=False)"
   ]
  },
  {
   "cell_type": "code",
   "execution_count": 23,
   "id": "2c73a6fe",
   "metadata": {},
   "outputs": [
    {
     "data": {
      "text/html": [
       "<div>\n",
       "<style scoped>\n",
       "    .dataframe tbody tr th:only-of-type {\n",
       "        vertical-align: middle;\n",
       "    }\n",
       "\n",
       "    .dataframe tbody tr th {\n",
       "        vertical-align: top;\n",
       "    }\n",
       "\n",
       "    .dataframe thead th {\n",
       "        text-align: right;\n",
       "    }\n",
       "</style>\n",
       "<table border=\"1\" class=\"dataframe\">\n",
       "  <thead>\n",
       "    <tr style=\"text-align: right;\">\n",
       "      <th></th>\n",
       "      <th>Name</th>\n",
       "      <th>Age</th>\n",
       "      <th>City</th>\n",
       "    </tr>\n",
       "  </thead>\n",
       "  <tbody>\n",
       "    <tr>\n",
       "      <th>0</th>\n",
       "      <td>Alice</td>\n",
       "      <td>30</td>\n",
       "      <td>New York</td>\n",
       "    </tr>\n",
       "    <tr>\n",
       "      <th>1</th>\n",
       "      <td>Bob</td>\n",
       "      <td>25</td>\n",
       "      <td>Los Angeles</td>\n",
       "    </tr>\n",
       "    <tr>\n",
       "      <th>2</th>\n",
       "      <td>Charlie</td>\n",
       "      <td>35</td>\n",
       "      <td>Chicago</td>\n",
       "    </tr>\n",
       "  </tbody>\n",
       "</table>\n",
       "</div>"
      ],
      "text/plain": [
       "      Name  Age         City\n",
       "0    Alice   30     New York\n",
       "1      Bob   25  Los Angeles\n",
       "2  Charlie   35      Chicago"
      ]
     },
     "execution_count": 23,
     "metadata": {},
     "output_type": "execute_result"
    }
   ],
   "source": [
    "# 데이터 읽어오기\n",
    "data2 = pd.read_excel('data/data1.xlsx')\n",
    "data2"
   ]
  },
  {
   "cell_type": "markdown",
   "id": "8f7a6b31",
   "metadata": {},
   "source": [
    "#### Json 형식으로 저장"
   ]
  },
  {
   "cell_type": "code",
   "execution_count": 24,
   "id": "90c09733",
   "metadata": {},
   "outputs": [],
   "source": [
    "import json"
   ]
  },
  {
   "cell_type": "code",
   "execution_count": 25,
   "id": "6cec5dce",
   "metadata": {},
   "outputs": [],
   "source": [
    "# 데이터 준비\n",
    "data = {\n",
    "    'people': [\n",
    "        {'name': 'Alice', 'age': 30, 'city': 'New York'},\n",
    "        {'name': 'Bob', 'age': 25, 'city': 'Los Angeles'},\n",
    "        {'name': 'Charlie', 'age': 35, 'city': 'Chicago'}\n",
    "    ]\n",
    "}\n",
    "\n",
    "# 데이터 json 형식으로 저장\n",
    "with open('data/data1.json', mode='w', encoding='utf-8') as file:\n",
    "    json.dump(data, file, indent=2)"
   ]
  },
  {
   "cell_type": "code",
   "execution_count": 26,
   "id": "adc020d3",
   "metadata": {},
   "outputs": [
    {
     "name": "stdout",
     "output_type": "stream",
     "text": [
      "{'people': [{'name': 'Alice', 'age': 30, 'city': 'New York'}, {'name': 'Bob', 'age': 25, 'city': 'Los Angeles'}, {'name': 'Charlie', 'age': 35, 'city': 'Chicago'}]}\n"
     ]
    }
   ],
   "source": [
    "# 데이터 읽어오기\n",
    "with open('data/data1.json', mode='r') as file:\n",
    "    data_result = json.load(file)\n",
    "    print(data_result)"
   ]
  },
  {
   "cell_type": "markdown",
   "id": "5e1c4132",
   "metadata": {},
   "source": [
    "### 3. SQLite를 활용한 데이터베이스 관리\n",
    "- SQLite : 관계형 데이터베이스"
   ]
  },
  {
   "cell_type": "code",
   "execution_count": 27,
   "id": "6ff0dcf6",
   "metadata": {},
   "outputs": [],
   "source": [
    "import sqlite3"
   ]
  },
  {
   "cell_type": "markdown",
   "id": "e38a997e",
   "metadata": {},
   "source": [
    "#### SQLite와 Python 연동"
   ]
  },
  {
   "cell_type": "code",
   "execution_count": 28,
   "id": "12227ce3",
   "metadata": {},
   "outputs": [
    {
     "name": "stdout",
     "output_type": "stream",
     "text": [
      "데이터베이스에 연결되었습니다!\n"
     ]
    }
   ],
   "source": [
    "# SQLite 데이터베이스 연결 (파일 생성)\n",
    "connection = sqlite3.connect(\"data/example.db\")\n",
    "print(\"데이터베이스에 연결되었습니다!\")\n",
    "\n",
    "# 연결 닫기\n",
    "connection.close()"
   ]
  },
  {
   "cell_type": "markdown",
   "id": "ac24be91",
   "metadata": {},
   "source": [
    "#### 테이블 생성\n",
    "- 관계형 데이터베이스는 테이블 구조로 데이터를 저장\n",
    "- 저장할 수 있는 공간인 테이블 생성"
   ]
  },
  {
   "cell_type": "code",
   "execution_count": 29,
   "id": "2f73eeeb",
   "metadata": {},
   "outputs": [],
   "source": [
    "# 데이터베이스 연결\n",
    "connection = sqlite3.connect(\"data/first.db\")\n",
    "cursor = connection.cursor()\n",
    "\n",
    "sql_create = \"\"\"\n",
    "CREATE TABLE IF NOT EXISTS users (\n",
    "    id INTEGER PRIMARY KEY AUTOINCREMENT,\n",
    "    name TEXT NOT NULL,\n",
    "    age INTEGER,\n",
    "    city TEXT\n",
    ")\n",
    "\"\"\"\n",
    "\n",
    "# SQL 명령어로 테이블 생성\n",
    "cursor.execute(sql_create)\n",
    "\n",
    "# 연결 종료\n",
    "connection.close()"
   ]
  },
  {
   "cell_type": "markdown",
   "id": "912fa55d",
   "metadata": {},
   "source": [
    "#### 데이터 삽입\n",
    "- INSERT into user (name, age, city) values ( , , )"
   ]
  },
  {
   "cell_type": "code",
   "execution_count": 30,
   "id": "6c323c08",
   "metadata": {},
   "outputs": [],
   "source": [
    "connection.close()"
   ]
  },
  {
   "cell_type": "code",
   "execution_count": 31,
   "id": "0cc5d4a6",
   "metadata": {},
   "outputs": [],
   "source": [
    "# 데이터베이스 연결\n",
    "connection = sqlite3.connect(\"data/first.db\")\n",
    "cursor = connection.cursor()\n",
    "\n",
    "sql_insert = \"INSERT INTO users (name, age, city) VALUES (?, ?, ?)\"\n",
    "\n",
    "# 데이터 삽입\n",
    "cursor.execute(sql_insert, (\"Alice\", 30, \"New York\"))\n",
    "\n",
    "# 여러 데이터 삽입\n",
    "data = [\n",
    "    (\"Bob\", 25, \"Los Angeles\"),\n",
    "    (\"Charlie\", 35, \"Chicago\"),\n",
    "    (\"Diana\", 28, \"Houston\")\n",
    "]\n",
    "\n",
    "cursor.executemany(sql_insert, data)\n",
    "\n",
    "# 변경사항 저장\n",
    "connection.commit()\n",
    "\n",
    "# 연결 종료\n",
    "connection.close()"
   ]
  },
  {
   "cell_type": "markdown",
   "id": "13c45d6f",
   "metadata": {},
   "source": [
    "#### 데이터 질의 (데이터 검색)\n",
    "- SELECT 컬럼이름들, ... FROM 테이블이름 [WHERE 컬럼이름 기준으로 비교 연산]"
   ]
  },
  {
   "cell_type": "code",
   "execution_count": 32,
   "id": "3d53e84c",
   "metadata": {},
   "outputs": [
    {
     "name": "stdout",
     "output_type": "stream",
     "text": [
      "('Charlie', 35)\n",
      "('Diana', 28)\n"
     ]
    }
   ],
   "source": [
    "# 데이터베이스 연결\n",
    "connection = sqlite3.connect(\"data/first.db\")\n",
    "cursor = connection.cursor()\n",
    "\n",
    "# sql_select = \"SELECT * FROM users\"\n",
    "# sql_select = \"SELECT * FROM users WHERE id >= 3\"\n",
    "sql_select = \"SELECT name, age FROM users WHERE id >= 3\"\n",
    "\n",
    "# 데이터 조회\n",
    "cursor.execute(sql_select)\n",
    "# select 결과를 튜플로 반환\n",
    "rows = cursor.fetchall()\n",
    "\n",
    "# 조회된 데이터 출력\n",
    "for row in rows:\n",
    "    print(row)\n",
    "\n",
    "# 연결 종료\n",
    "connection.close()"
   ]
  },
  {
   "cell_type": "markdown",
   "id": "4e43dec9",
   "metadata": {},
   "source": [
    "#### 데이터 수정\n",
    "- UPDATE 테이블이름 SET 컬럼이름=값, 컬럼이름=값,... [WHERE 조건식]"
   ]
  },
  {
   "cell_type": "code",
   "execution_count": 33,
   "id": "7d0b2a7c",
   "metadata": {},
   "outputs": [],
   "source": [
    "# 데이터베이스 연결\n",
    "connection = sqlite3.connect(\"data/first.db\")\n",
    "cursor = connection.cursor()\n",
    "\n",
    "sql_update = \"UPDATE users SET age=? WHERE id=?\"\n",
    "\n",
    "# 데이터 수정\n",
    "cursor.execute(sql_update, (60, 4))\n",
    "\n",
    "# 변경사항 저장\n",
    "connection.commit()\n",
    "\n",
    "# 연결 종료\n",
    "connection.close()"
   ]
  },
  {
   "cell_type": "code",
   "execution_count": 34,
   "id": "f125613c",
   "metadata": {},
   "outputs": [
    {
     "name": "stdout",
     "output_type": "stream",
     "text": [
      "(4, 'Diana', 60, 'Houston')\n"
     ]
    }
   ],
   "source": [
    "# 데이터베이스 연결\n",
    "connection = sqlite3.connect(\"data/first.db\")\n",
    "cursor = connection.cursor()\n",
    "\n",
    "sql_select = \"SELECT * FROM users WHERE id = ?\"\n",
    "\n",
    "# 데이터 조회\n",
    "cursor.execute(sql_select, (4, ))\n",
    "# select 결과를 튜플로 반환\n",
    "rows = cursor.fetchall()\n",
    "\n",
    "# 조회된 데이터 출력\n",
    "for row in rows:\n",
    "    print(row)\n",
    "\n",
    "# 연결 종료\n",
    "connection.close()"
   ]
  },
  {
   "cell_type": "markdown",
   "id": "0aacfe78",
   "metadata": {},
   "source": [
    "#### 데이터 삭제\n",
    "- DELETE FROM 테이블명 WHERE 조건식"
   ]
  },
  {
   "cell_type": "code",
   "execution_count": 35,
   "id": "bb336d15",
   "metadata": {},
   "outputs": [],
   "source": [
    "# 데이터베이스 연결\n",
    "connection = sqlite3.connect(\"data/first.db\")\n",
    "cursor = connection.cursor()\n",
    "\n",
    "sql_delete = \"DELETE FROM users WHERE id = ?\"\n",
    "\n",
    "# 데이터 삭제\n",
    "cursor.execute(sql_delete, (4, ))\n",
    "\n",
    "# 변경사항 저장\n",
    "connection.commit()\n",
    "\n",
    "# 연결 종료\n",
    "connection.close()"
   ]
  },
  {
   "cell_type": "code",
   "execution_count": 36,
   "id": "5935ddcf",
   "metadata": {},
   "outputs": [
    {
     "name": "stdout",
     "output_type": "stream",
     "text": [
      "(1, 'Alice', 30, 'New York')\n",
      "(2, 'Bob', 25, 'Los Angeles')\n",
      "(3, 'Charlie', 35, 'Chicago')\n"
     ]
    }
   ],
   "source": [
    "# 데이터베이스 연결\n",
    "connection = sqlite3.connect(\"data/first.db\")\n",
    "cursor = connection.cursor()\n",
    "\n",
    "sql_select = \"SELECT * FROM users\"\n",
    "\n",
    "# 데이터 조회\n",
    "cursor.execute(sql_select)\n",
    "# select 결과를 튜플로 반환\n",
    "rows = cursor.fetchall()\n",
    "\n",
    "# 조회된 데이터 출력\n",
    "for row in rows:\n",
    "    print(row)\n",
    "\n",
    "# 연결 종료\n",
    "connection.close()"
   ]
  }
 ],
 "metadata": {
  "kernelspec": {
   "display_name": ".venv",
   "language": "python",
   "name": "python3"
  },
  "language_info": {
   "codemirror_mode": {
    "name": "ipython",
    "version": 3
   },
   "file_extension": ".py",
   "mimetype": "text/x-python",
   "name": "python",
   "nbconvert_exporter": "python",
   "pygments_lexer": "ipython3",
   "version": "3.13.4"
  }
 },
 "nbformat": 4,
 "nbformat_minor": 5
}
