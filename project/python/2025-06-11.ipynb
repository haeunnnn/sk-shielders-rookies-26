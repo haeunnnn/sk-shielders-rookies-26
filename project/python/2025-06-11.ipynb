{
 "cells": [
  {
   "cell_type": "markdown",
   "id": "6e9e1bbf",
   "metadata": {},
   "source": [
    "## 파이썬 기본 문법 정리 3"
   ]
  },
  {
   "cell_type": "markdown",
   "id": "9e73b8a2",
   "metadata": {},
   "source": [
    "### 함수, 입출력, 예외 처리 실습 노트 (2025.06.11)\n",
    "\n",
    "#### 함수 (Function)\n",
    "- 데이터를 받아서 처리 후 결과를 반환하는 코드의 묶음\n",
    "- 코드 재사용, 유지보수, 가독성 향상"
   ]
  },
  {
   "cell_type": "code",
   "execution_count": null,
   "id": "1f7ffeb6",
   "metadata": {},
   "outputs": [],
   "source": [
    "def add(n1, n2) : # 함수 정의 : 이름, 매개변수\n",
    "    result = n1 + n2 # 연산, 처리, 작업\n",
    "    return result   # 결과 값 반환\n",
    "\n",
    "print(type(add))\n",
    "add(10, 20) # 호출 : 이름과 괄호()안에 매개변수가 받을 수 있는 데이터를 함께 전달"
   ]
  },
  {
   "cell_type": "markdown",
   "id": "63e6905f",
   "metadata": {},
   "source": [
    "#### 함수의 다양한 형태\n",
    "- 매개변수 O, 반환값 O\n",
    "- 매개변수 X, 반환값 O\n",
    "- 매개변수 O, 반환값 X\n",
    "- 매개변수 X, 반환값 X"
   ]
  },
  {
   "cell_type": "code",
   "execution_count": null,
   "id": "bc5f8d06",
   "metadata": {},
   "outputs": [],
   "source": [
    "# 매개변수가 없는 함수\n",
    "def alert_msg():\n",
    "    # ....\n",
    "    msg = '''\n",
    "    안녕하세요.\n",
    "    회원님\n",
    "    반갑습니다.!!!!\n",
    "    '''\n",
    "    return msg\n",
    "\n",
    "print(alert_msg())"
   ]
  },
  {
   "cell_type": "code",
   "execution_count": null,
   "id": "c4499f4e",
   "metadata": {},
   "outputs": [],
   "source": [
    "# 매개변수는 있고, 반환값이 없는 함수\n",
    "# 숫자 두개를 받아 \n",
    "# 덧셈연산의, 결과를 출력하는 함수\n",
    "def add_print(n1, n2):\n",
    "    result = n1 + n2\n",
    "    print(f'{n1}+{n2}={n1+n2}')\n",
    "\n",
    "add_print(100, 20)"
   ]
  },
  {
   "cell_type": "code",
   "execution_count": null,
   "id": "e79d95e1",
   "metadata": {},
   "outputs": [],
   "source": [
    "result_add_print = add_print(10, 200)\n",
    "print(result_add_print)"
   ]
  },
  {
   "cell_type": "code",
   "execution_count": null,
   "id": "6721d649",
   "metadata": {},
   "outputs": [],
   "source": [
    "# 매개변수도 없고, 반환도 없는 함수\n",
    "def display_menu() :\n",
    "    menu = '''\n",
    "    1. 아메리카노\n",
    "    2. 라떼\n",
    "    3. 에스프레소\n",
    "    '''\n",
    "    print(menu)\n",
    "\n",
    "display_menu()"
   ]
  },
  {
   "cell_type": "markdown",
   "id": "14c8e4b9",
   "metadata": {},
   "source": [
    "#### 매개변수 활용\n",
    "- 위치 인자, 키워드 인자\n",
    "- 가변 인자 (*args, **kwargs)\n",
    "- 매개변수 기본값 지정\n",
    "- 여러 개 리턴 시 튜플로 반환"
   ]
  },
  {
   "cell_type": "code",
   "execution_count": null,
   "id": "fe24a50a",
   "metadata": {},
   "outputs": [],
   "source": [
    "len('hello')"
   ]
  },
  {
   "cell_type": "code",
   "execution_count": null,
   "id": "7516dadc",
   "metadata": {},
   "outputs": [],
   "source": [
    "def sub(n1, n2):\n",
    "    return n1-n2\n",
    "\n",
    "sub(n2=3, n1=10)"
   ]
  },
  {
   "cell_type": "code",
   "execution_count": null,
   "id": "7222ec7f",
   "metadata": {},
   "outputs": [],
   "source": [
    "print('KING', 'hello', sep='\\t', end='\\t' )   \n",
    "print('hi~!!')"
   ]
  },
  {
   "cell_type": "code",
   "execution_count": null,
   "id": "06ef6ea5",
   "metadata": {},
   "outputs": [],
   "source": [
    "# 매개변수에서 전달되는 숫자들(몇개?)을 모두 더한 값을 반환 하는 함수\n",
    "def add_sum(*args) :\n",
    "    print(type(args))\n",
    "    print(args)\n",
    "    sum = 0\n",
    "    for num in args:\n",
    "        sum += num\n",
    "    return sum\n",
    "\n",
    "add_sum(1,2,3,4,5,6,7,8,9,10)"
   ]
  },
  {
   "cell_type": "code",
   "execution_count": null,
   "id": "9c070f7c",
   "metadata": {},
   "outputs": [],
   "source": [
    "# 연산의 타입을 전달 받고 전달되는 숫자들을 연산한 결과를 반환하는 함수\n",
    "def add_type(type, *args):\n",
    "    # add, mul\n",
    "    if type=='add':\n",
    "        result = 0\n",
    "        for num in args:\n",
    "            result += num\n",
    "        return result\n",
    "    elif type=='mul':\n",
    "        result = 1\n",
    "        for num in args:\n",
    "            result *= num\n",
    "        return result\n",
    "    else :\n",
    "        print('사용가능한 타입을 입력해주세요!')\n",
    "\n",
    "add_type('add', 1,2,3,4,5,6,7,8,9)\n",
    "add_type('mul', 1,2,3,4)\n",
    "add_type('sub', 1,2,3,4)"
   ]
  },
  {
   "cell_type": "code",
   "execution_count": null,
   "id": "94707029",
   "metadata": {},
   "outputs": [],
   "source": [
    "def print_args(**args):\n",
    "    print(args)\n",
    "    print(type(args))\n",
    "    return args\n",
    "\n",
    "print_args(name='손흥민', age=20)\n",
    "\n",
    "player1 = {\n",
    "    'name' : '손흥민',\n",
    "    'age' : 20\n",
    "}\n",
    "player2 = print_args(name='메시', age=30)\n",
    "\n",
    "print(player1)\n",
    "print(player2)"
   ]
  },
  {
   "cell_type": "code",
   "execution_count": null,
   "id": "3e48edbe",
   "metadata": {},
   "outputs": [],
   "source": [
    "def add_mul_return(n1, n2):\n",
    "    add_result = n1 + n2\n",
    "    mul_result = n1 * n2\n",
    "    return (add_result, mul_result)\n",
    "\n",
    "result1, result2 =  add_mul_return(10,20)\n",
    "print(result1, result2)"
   ]
  },
  {
   "cell_type": "code",
   "execution_count": null,
   "id": "abf6255f",
   "metadata": {},
   "outputs": [],
   "source": [
    "add_mul_return()"
   ]
  },
  {
   "cell_type": "code",
   "execution_count": null,
   "id": "3d15e3bd",
   "metadata": {},
   "outputs": [],
   "source": [
    "# 매개변수의 기본값 설정\n",
    "def add2(n1=0, n2=0):\n",
    "    return n1+n2\n",
    "\n",
    "add2(1)"
   ]
  },
  {
   "cell_type": "code",
   "execution_count": null,
   "id": "8b4ebe28",
   "metadata": {},
   "outputs": [],
   "source": [
    "# 이름, 나이, 성별 받아서 출력 함수\n",
    "def say_hi(name, age, gender=True) : # Gender=True => 여성\n",
    "    print(f'안녕하세요. 저는 {name}입니다. 나이는 {age} 입니다.')\n",
    "    if gender:\n",
    "        print('여성입니다.')\n",
    "    else :\n",
    "        print('남성입니다.')\n",
    "\n",
    "say_hi('king', 20, False)"
   ]
  },
  {
   "cell_type": "markdown",
   "id": "ea1f0469",
   "metadata": {},
   "source": [
    "#### 변수 범위\n",
    "- 지역 변수와 전역 변수\n",
    "- global 키워드"
   ]
  },
  {
   "cell_type": "code",
   "execution_count": 2,
   "id": "09351821",
   "metadata": {},
   "outputs": [
    {
     "name": "stdout",
     "output_type": "stream",
     "text": [
      "함수 내부의 a :  10\n",
      "1\n"
     ]
    }
   ],
   "source": [
    "# 변수의 사용 범위\n",
    "\n",
    "a = 1\n",
    "\n",
    "def var_test(a):\n",
    "    print('함수 내부의 a : ', a)\n",
    "\n",
    "var_test(10)\n",
    "print(a)"
   ]
  },
  {
   "cell_type": "code",
   "execution_count": null,
   "id": "862331a6",
   "metadata": {},
   "outputs": [],
   "source": [
    "def var_test2():\n",
    "    global a\n",
    "    a = a + 1\n",
    "    print(a)\n",
    "\n",
    "var_test2()\n",
    "print(a)"
   ]
  },
  {
   "cell_type": "markdown",
   "id": "21bab2a5",
   "metadata": {},
   "source": [
    "#### lambda 표현식\n",
    "- 한 줄로 정의하는 익명 함수\n",
    "- 함수이름 = lambda arg1, arg2 ... : 연산\n",
    "- 숫자 두개를 전달받아 덧셈한 결과를 반환하는 함수"
   ]
  },
  {
   "cell_type": "code",
   "execution_count": null,
   "id": "71d611a0",
   "metadata": {},
   "outputs": [],
   "source": [
    "add3 = lambda n1, n2 : n1+n2\n",
    "\n",
    "add3(100, 10)\n",
    "print(type(add3))"
   ]
  },
  {
   "cell_type": "markdown",
   "id": "473aef54",
   "metadata": {},
   "source": [
    "#### 내장 함수 및 고차 함수\n",
    "- enumerate, map, filter 등"
   ]
  },
  {
   "cell_type": "code",
   "execution_count": null,
   "id": "8b0b0f1f",
   "metadata": {},
   "outputs": [],
   "source": [
    "st_names = ['king', 'cool', 'hot', 'scott']"
   ]
  },
  {
   "cell_type": "code",
   "execution_count": null,
   "id": "b2d647b8",
   "metadata": {},
   "outputs": [],
   "source": [
    "# 학생들의 index 값을 함께 출력\n",
    "num = 0\n",
    "for name in st_names:\n",
    "    print(num, name)\n",
    "    num += 1"
   ]
  },
  {
   "cell_type": "code",
   "execution_count": null,
   "id": "60ff2605",
   "metadata": {},
   "outputs": [],
   "source": [
    "for index, name in enumerate(st_names, start=10):\n",
    "    print(index, name)"
   ]
  },
  {
   "cell_type": "code",
   "execution_count": null,
   "id": "da4341d5",
   "metadata": {},
   "outputs": [],
   "source": [
    "# filter : 필터링(매개변수로 전달되는 함수 : 요소값을 판단해서 논리값 반환)을 통해 새로운 리스트를 생성 반환\n",
    "# filter(fn, itr)\n",
    "def positive(l) :\n",
    "    result = []\n",
    "    for n in l :\n",
    "        if n > 0 :\n",
    "            result.append(n)\n",
    "    return result\n",
    "\n",
    "positive([3, 1, -1, -3, 0, 9, 10, 4])"
   ]
  },
  {
   "cell_type": "code",
   "execution_count": null,
   "id": "5f82a0fc",
   "metadata": {},
   "outputs": [],
   "source": [
    "# filter\n",
    "# 판별함수\n",
    "def positive_fn(x):\n",
    "    return x > 0\n",
    "\n",
    "def pos_fn2(x):\n",
    "    return x%2==1"
   ]
  },
  {
   "cell_type": "code",
   "execution_count": null,
   "id": "7d023e74",
   "metadata": {},
   "outputs": [],
   "source": [
    "list(filter(pos_fn2, [3, 1, -1, -3, 0, 9, 10, 4]))"
   ]
  },
  {
   "cell_type": "code",
   "execution_count": null,
   "id": "58f54103",
   "metadata": {},
   "outputs": [],
   "source": [
    "list(filter(lambda x : x%2==1, [3, 1, -1, -3, 0, 9, 10, 4]))"
   ]
  },
  {
   "cell_type": "code",
   "execution_count": null,
   "id": "49ba9269",
   "metadata": {},
   "outputs": [],
   "source": [
    "list(map(lambda x: x*10, [1,2,3,4,5]))"
   ]
  },
  {
   "cell_type": "markdown",
   "id": "be991e27",
   "metadata": {},
   "source": [
    "#### 파일 입출력 (I/O)\n",
    "- 표준 입출력 => input, print\n",
    "- 텍스트 파일(자원) : 입출력 I/O\n",
    "- 파일 단위 입출력 : open(자원의경로, 모드)  모드 => r(read), w(write), a(append)"
   ]
  },
  {
   "cell_type": "code",
   "execution_count": null,
   "id": "c713097a",
   "metadata": {},
   "outputs": [],
   "source": [
    "f = open('new_text.txt', 'w')\n",
    "f.close()"
   ]
  },
  {
   "cell_type": "code",
   "execution_count": null,
   "id": "661e6550",
   "metadata": {},
   "outputs": [],
   "source": [
    "f = open('new_text.txt', 'w') #1.파일 오픈 : w\n",
    "f.write('안녕하세요!!!') # 3. 텍스트 쓰기\n",
    "f.close()"
   ]
  },
  {
   "cell_type": "code",
   "execution_count": null,
   "id": "d65f45d7",
   "metadata": {},
   "outputs": [],
   "source": [
    "f = open('new_text.txt', 'w')\n",
    "for i in range(1, 11):\n",
    "    f.write(f'{i}번째 줄 입력 \\n')\n",
    "f.close()"
   ]
  },
  {
   "cell_type": "code",
   "execution_count": null,
   "id": "6b7c3f9e",
   "metadata": {},
   "outputs": [],
   "source": [
    "# 파일 내용 읽어오기\n",
    "f = open('new_text.txt', 'r') # 1. 파일 열고 , Read -> r\n",
    "line1 = f.readline()\n",
    "print(line1)\n",
    "line2 = f.readline()\n",
    "print(line2)\n",
    "f.close()"
   ]
  },
  {
   "cell_type": "code",
   "execution_count": null,
   "id": "0849fe36",
   "metadata": {},
   "outputs": [],
   "source": [
    "# 파일 내용 읽어오기\n",
    "f = open('new_text.txt', 'r') # 1. 파일 열고 , Read -> r\n",
    "\n",
    "while 1:\n",
    "    line = f.readline()\n",
    "    if not line:\n",
    "        break\n",
    "    print(line, end='')\n",
    "\n",
    "f.close()"
   ]
  },
  {
   "cell_type": "code",
   "execution_count": null,
   "id": "8cbe1480",
   "metadata": {},
   "outputs": [],
   "source": [
    "f = open('new_text.txt', 'r')\n",
    "lines = f.readlines()\n",
    "print(lines)\n",
    "for line in lines:\n",
    "    print(line, end='')\n",
    "f.close()"
   ]
  },
  {
   "cell_type": "code",
   "execution_count": null,
   "id": "3456caf1",
   "metadata": {},
   "outputs": [],
   "source": [
    "# append : 데이터 추가\n",
    "f = open('new_text.txt', 'a')\n",
    "f.write('새로운 행이 추가됩니다. \\n')\n",
    "f.close()"
   ]
  },
  {
   "cell_type": "code",
   "execution_count": null,
   "id": "5a4adaca",
   "metadata": {},
   "outputs": [],
   "source": [
    "# append : 데이터 추가\n",
    "f = open('new_text.txt', 'a')\n",
    "for i in range(16, 21):\n",
    "    f.write(f'새로운 행{i}이 추가됩니다. \\n')\n",
    "f.close()"
   ]
  },
  {
   "cell_type": "code",
   "execution_count": null,
   "id": "a3c2da67",
   "metadata": {},
   "outputs": [],
   "source": [
    "# close 생략 가능한구현 => with\n",
    "with open('new_text.txt', 'r') as file :\n",
    "    lines = file.readlines()\n",
    "    print(lines)"
   ]
  },
  {
   "cell_type": "markdown",
   "id": "f2b5229d",
   "metadata": {},
   "source": [
    "#### 예외 처리 (Exception Handling)\n",
    "- 에러 발생시에 비정상적인 종료 막기 위한 처리"
   ]
  },
  {
   "cell_type": "code",
   "execution_count": null,
   "id": "7bbd6731",
   "metadata": {},
   "outputs": [],
   "source": [
    "print(10/0)\n",
    "print('프로그램 종료')"
   ]
  },
  {
   "cell_type": "code",
   "execution_count": null,
   "id": "bea0b18d",
   "metadata": {},
   "outputs": [],
   "source": [
    "list_t = [1,2,3]\n",
    "print(list_t[3])"
   ]
  },
  {
   "cell_type": "code",
   "execution_count": null,
   "id": "2be059a4",
   "metadata": {},
   "outputs": [],
   "source": [
    "f = open('new_text1.txt', 'r')\n",
    "f. close()"
   ]
  },
  {
   "cell_type": "code",
   "execution_count": null,
   "id": "989d10b5",
   "metadata": {},
   "outputs": [],
   "source": [
    "add()"
   ]
  },
  {
   "cell_type": "code",
   "execution_count": null,
   "id": "d4564b90",
   "metadata": {},
   "outputs": [],
   "source": [
    "try :\n",
    "    print(10/5)  # 에러 예상 위치\n",
    "except:\n",
    "    print('에러가 발생했습니다. 에러에대한 처리를 합니다.')\n",
    "\n",
    "print('프로그램을 종료합니다.')"
   ]
  },
  {
   "cell_type": "code",
   "execution_count": null,
   "id": "f818d1ce",
   "metadata": {},
   "outputs": [],
   "source": [
    "try :\n",
    "    print(10/2)\n",
    "    print(list_t[1]) # <=======\n",
    "    print(uname)\n",
    "except ZeroDivisionError as e :\n",
    "    print('0으로 나누는 연산을 불가능합니다.')\n",
    "    print(e)\n",
    "except (NameError, IndexError) as e:\n",
    "    #print('정의되지 않은 식별자 입니다.')\n",
    "    print('에러가 발생했습니다.')\n",
    "    print(e)\n",
    "# except IndexError as e:\n",
    "#     print('리스트의 index 범위에서 벗어납니다')\n",
    "#     print(e)\n",
    "except :\n",
    "    print('에러발생!!!')"
   ]
  },
  {
   "cell_type": "code",
   "execution_count": null,
   "id": "83bdcfd9",
   "metadata": {},
   "outputs": [],
   "source": [
    "# try: except: finally: -> 에러 발생여부와 상관없이 실행되어야 하는 블록\n",
    "try:\n",
    "    print('hello')\n",
    "    print(10/2)\n",
    "except:\n",
    "    print('error!!')\n",
    "finally:\n",
    "    print('!!!!!')"
   ]
  },
  {
   "cell_type": "code",
   "execution_count": null,
   "id": "dfc03c24",
   "metadata": {},
   "outputs": [],
   "source": [
    "try :\n",
    "    age = int(input('나이를 입력하세요'))\n",
    "except:\n",
    "    print('숫자형식으로 입력해주세요!!!!!!')\n",
    "else :\n",
    "    if age > 18 :\n",
    "        print('입장')\n",
    "    else :\n",
    "        print('불가')"
   ]
  },
  {
   "cell_type": "markdown",
   "id": "b4dc9753",
   "metadata": {},
   "source": [
    "#### 사용자 정의 예외 타입 정의\n",
    "- 논리적인 오류 발생 -> 예외로 처리"
   ]
  },
  {
   "cell_type": "code",
   "execution_count": null,
   "id": "1fd3a9bb",
   "metadata": {},
   "outputs": [],
   "source": [
    "# age => 음수, 500 : 논리적 오류\n",
    "\n",
    "class MyError(Exception):\n",
    "    pass"
   ]
  },
  {
   "cell_type": "code",
   "execution_count": null,
   "id": "9aaf30b2",
   "metadata": {},
   "outputs": [],
   "source": [
    "# 에러 강제 발생\n",
    "raise MyError()"
   ]
  },
  {
   "cell_type": "code",
   "execution_count": null,
   "id": "748a07e0",
   "metadata": {},
   "outputs": [],
   "source": [
    "try:\n",
    "    age = int(input('나이를 입력하세요!'))\n",
    "        \n",
    "    if age<1 or age>200:\n",
    "        raise MyError()\n",
    "    \n",
    "except MyError :\n",
    "    print('나이의 입력 범위는 1~200 까지입니다.\\n다시입력하세요!')\n",
    "except:\n",
    "    print('다시입력하세요!')\n",
    "else :\n",
    "    print(age)"
   ]
  }
 ],
 "metadata": {
  "kernelspec": {
   "display_name": ".venv",
   "language": "python",
   "name": "python3"
  },
  "language_info": {
   "codemirror_mode": {
    "name": "ipython",
    "version": 3
   },
   "file_extension": ".py",
   "mimetype": "text/x-python",
   "name": "python",
   "nbconvert_exporter": "python",
   "pygments_lexer": "ipython3",
   "version": "3.13.4"
  }
 },
 "nbformat": 4,
 "nbformat_minor": 5
}
