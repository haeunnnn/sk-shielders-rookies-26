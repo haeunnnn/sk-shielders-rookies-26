{
 "cells": [
  {
   "cell_type": "markdown",
   "id": "824c549b",
   "metadata": {},
   "source": [
    "## 파이썬 기본 문법 정리 5"
   ]
  },
  {
   "cell_type": "markdown",
   "id": "2599da88",
   "metadata": {},
   "source": [
    "### 1. Numpy"
   ]
  },
  {
   "cell_type": "markdown",
   "id": "c90eb330",
   "metadata": {},
   "source": [
    "#### 주요 기능과 문법"
   ]
  },
  {
   "cell_type": "markdown",
   "id": "75ee8a00",
   "metadata": {},
   "source": [
    "##### 인덱싱 / 슬라이싱\n",
    "- list와 사용 방법이 같다"
   ]
  },
  {
   "cell_type": "code",
   "execution_count": 424,
   "id": "9780ca48",
   "metadata": {},
   "outputs": [],
   "source": [
    "import numpy as np"
   ]
  },
  {
   "cell_type": "code",
   "execution_count": 425,
   "id": "3ed7946a",
   "metadata": {},
   "outputs": [
    {
     "name": "stdout",
     "output_type": "stream",
     "text": [
      "10 20 30 40\n",
      "40\n"
     ]
    }
   ],
   "source": [
    "# 1차원 배열의 인덱싱\n",
    "arr = np.array([10, 20, 30, 40])\n",
    "\n",
    "print(arr[0], arr[1], arr[2], arr[3])\n",
    "print(arr[-1])"
   ]
  },
  {
   "cell_type": "code",
   "execution_count": 426,
   "id": "34335722",
   "metadata": {},
   "outputs": [
    {
     "name": "stdout",
     "output_type": "stream",
     "text": [
      "[1 2 3]\n",
      "1 2 3\n"
     ]
    }
   ],
   "source": [
    "# 2차원 배열의 인덱싱\n",
    "arr = np.array([[1, 2, 3], [4, 5, 6]])\n",
    "\n",
    "print(arr[0])\n",
    "print(arr[0][0], arr[0][1], arr[0][2])"
   ]
  },
  {
   "cell_type": "code",
   "execution_count": 427,
   "id": "9395d73e",
   "metadata": {},
   "outputs": [
    {
     "name": "stdout",
     "output_type": "stream",
     "text": [
      "[10 20 30 40 50]\n",
      "[20 30 40]\n",
      "[40 50]\n"
     ]
    }
   ],
   "source": [
    "# 1차원 배열의 슬라이싱\n",
    "arr = np.array([10, 20, 30, 40, 50])\n",
    "\n",
    "print(arr[:])\n",
    "print(arr[1:4])\n",
    "print(arr[3:])"
   ]
  },
  {
   "cell_type": "code",
   "execution_count": 428,
   "id": "565acd95",
   "metadata": {},
   "outputs": [
    {
     "name": "stdout",
     "output_type": "stream",
     "text": [
      "[[1 2 3]\n",
      " [4 5 6]\n",
      " [7 8 9]]\n",
      "[3 6]\n",
      "[[2 3]\n",
      " [5 6]]\n"
     ]
    }
   ],
   "source": [
    "# 2차원 배열의 슬라이싱\n",
    "arr = np.array([[1, 2, 3], [4, 5, 6], [7, 8, 9]])\n",
    "\n",
    "# array[행, 열]\n",
    "print(arr[:])\n",
    "print(arr[:2, 2])\n",
    "print(arr[:2, 1:])"
   ]
  },
  {
   "cell_type": "markdown",
   "id": "d4448f9a",
   "metadata": {},
   "source": [
    "##### 배열의 연산"
   ]
  },
  {
   "cell_type": "code",
   "execution_count": 429,
   "id": "22857f4b",
   "metadata": {},
   "outputs": [
    {
     "name": "stdout",
     "output_type": "stream",
     "text": [
      "[5 7 9]\n",
      "[ 4 10 18]\n",
      "[1 4 9]\n"
     ]
    }
   ],
   "source": [
    "arr1 = np.array([1, 2, 3])\n",
    "arr2 = np.array([4, 5, 6])\n",
    "\n",
    "# 배열 요소들끼리의 덧셈\n",
    "print(arr1 + arr2)\n",
    "# 배열 요소들끼리의 곱셈\n",
    "print(arr1 * arr2)\n",
    "# 배열 요소들의 제곱\n",
    "print(arr1 ** 2)"
   ]
  },
  {
   "cell_type": "code",
   "execution_count": 430,
   "id": "cd151187",
   "metadata": {},
   "outputs": [
    {
     "name": "stdout",
     "output_type": "stream",
     "text": [
      "[[11 12 13]\n",
      " [14 15 16]]\n"
     ]
    }
   ],
   "source": [
    "# 2차원 배열의 연산\n",
    "arr3 = np.array([[1, 2, 3], [4, 5, 6]])\n",
    "\n",
    "print(arr3 + 10)"
   ]
  },
  {
   "cell_type": "markdown",
   "id": "6a5ef385",
   "metadata": {},
   "source": [
    "##### 형 변환\n",
    "- 구조 변환 : 1차원 → 다차원, 다차원 → 1차원\n",
    "- 요소를 필터링"
   ]
  },
  {
   "cell_type": "code",
   "execution_count": 431,
   "id": "f795624e",
   "metadata": {},
   "outputs": [
    {
     "name": "stdout",
     "output_type": "stream",
     "text": [
      "[[1 2 3]\n",
      " [4 5 6]]\n"
     ]
    }
   ],
   "source": [
    "# 구조 변경 : 1 → 2\n",
    "arr = np.array([1, 2, 3, 4, 5, 6])\n",
    "\n",
    "# [[1, 2, 3], [4, 5, 6]]으로 변환\n",
    "reshape = arr.reshape(2, 3)\n",
    "print(reshape)"
   ]
  },
  {
   "cell_type": "code",
   "execution_count": 432,
   "id": "6fd47d2d",
   "metadata": {},
   "outputs": [
    {
     "name": "stdout",
     "output_type": "stream",
     "text": [
      "[1 2 3 4 5 6]\n"
     ]
    }
   ],
   "source": [
    "# 구조 변경 : 2 → 1\n",
    "arr = np.array([[1, 2, 3], [4, 5, 6]])\n",
    "\n",
    "# [1, 2, 3, 4, 5, 6]으로 변환\n",
    "flat_arr = arr.flatten()\n",
    "print(flat_arr)"
   ]
  },
  {
   "cell_type": "markdown",
   "id": "fa3abbb3",
   "metadata": {},
   "source": [
    "##### 필터링"
   ]
  },
  {
   "cell_type": "code",
   "execution_count": 433,
   "id": "f9c355e7",
   "metadata": {},
   "outputs": [
    {
     "name": "stdout",
     "output_type": "stream",
     "text": [
      "[4 5 6]\n"
     ]
    }
   ],
   "source": [
    "arr = np.array([1, 2, 3, 4, 5, 6])\n",
    "\n",
    "filter_arr = arr[arr > 3]\n",
    "print(filter_arr)"
   ]
  },
  {
   "cell_type": "markdown",
   "id": "4162e46b",
   "metadata": {},
   "source": [
    "##### 난수 생성\n",
    "- 난수를 가진 배열 생성"
   ]
  },
  {
   "cell_type": "code",
   "execution_count": 434,
   "id": "804071cc",
   "metadata": {},
   "outputs": [
    {
     "name": "stdout",
     "output_type": "stream",
     "text": [
      "[0.12939016 0.06236928 0.1249249  0.86663896 0.6497901 ]\n"
     ]
    }
   ],
   "source": [
    "ran_val = np.random.rand(5)\n",
    "print(ran_val)"
   ]
  },
  {
   "cell_type": "code",
   "execution_count": 435,
   "id": "2a8e2aed",
   "metadata": {},
   "outputs": [
    {
     "name": "stdout",
     "output_type": "stream",
     "text": [
      "[[93 89 77 95 62 99 68 66 75 65]]\n"
     ]
    }
   ],
   "source": [
    "ran_int = np.random.randint(50, 100, size=(1, 10))\n",
    "print(ran_int)"
   ]
  },
  {
   "cell_type": "markdown",
   "id": "9f73d2f1",
   "metadata": {},
   "source": [
    "### 2. Pandas"
   ]
  },
  {
   "cell_type": "markdown",
   "id": "8cb6f78e",
   "metadata": {},
   "source": [
    "- pip install pandas로 설치하기"
   ]
  },
  {
   "cell_type": "code",
   "execution_count": 436,
   "id": "ab8c45c6",
   "metadata": {},
   "outputs": [],
   "source": [
    "import pandas as pd"
   ]
  },
  {
   "cell_type": "markdown",
   "id": "9fb92612",
   "metadata": {},
   "source": [
    "#### DataFrame"
   ]
  },
  {
   "cell_type": "markdown",
   "id": "cb064546",
   "metadata": {},
   "source": [
    "##### DataFrame 데이터 생성\n",
    "- 2차원 형식의 데이터 구조"
   ]
  },
  {
   "cell_type": "code",
   "execution_count": 437,
   "id": "7ba4fefd",
   "metadata": {},
   "outputs": [
    {
     "name": "stdout",
     "output_type": "stream",
     "text": [
      "  name  age\n",
      "0   하이   20\n",
      "1   헬로   30\n",
      "2   바이   35\n"
     ]
    }
   ],
   "source": [
    "data = {\n",
    "    'name': [\"하이\", \"헬로\", \"바이\"],\n",
    "    'age' : [20, 30, 35]\n",
    "}\n",
    "\n",
    "df = pd.DataFrame(data)\n",
    "print(df)"
   ]
  },
  {
   "cell_type": "code",
   "execution_count": 438,
   "id": "6bc01318",
   "metadata": {},
   "outputs": [
    {
     "name": "stdout",
     "output_type": "stream",
     "text": [
      "  name  age\n",
      "0   하이   20\n",
      "  name  age\n",
      "1   헬로   30\n",
      "2   바이   35\n"
     ]
    }
   ],
   "source": [
    "# 상위 n개의 데이터 출력 (default: 5)\n",
    "print(df.head(n=1))\n",
    "\n",
    "# 하위 n개의 데이터 출력 (default: 5)\n",
    "print(df.tail(n=2))"
   ]
  },
  {
   "cell_type": "markdown",
   "id": "457fc87c",
   "metadata": {},
   "source": [
    "##### filter"
   ]
  },
  {
   "cell_type": "code",
   "execution_count": 439,
   "id": "64433cfb",
   "metadata": {},
   "outputs": [
    {
     "name": "stdout",
     "output_type": "stream",
     "text": [
      "  name  age\n",
      "0   하이   20\n",
      "1   헬로   30\n"
     ]
    }
   ],
   "source": [
    "filter_df = df[df['age'] < 35]\n",
    "print(filter_df)"
   ]
  },
  {
   "cell_type": "markdown",
   "id": "3839b9c1",
   "metadata": {},
   "source": [
    "##### 기초 통계 - 합, 평균"
   ]
  },
  {
   "cell_type": "code",
   "execution_count": 440,
   "id": "febbbfbc",
   "metadata": {},
   "outputs": [
    {
     "name": "stdout",
     "output_type": "stream",
     "text": [
      "85\n",
      "28.333333333333332\n"
     ]
    }
   ],
   "source": [
    "# 총 합\n",
    "print(df['age'].sum())\n",
    "\n",
    "# 평균\n",
    "print(df['age'].mean())"
   ]
  },
  {
   "cell_type": "markdown",
   "id": "9181733b",
   "metadata": {},
   "source": [
    "##### 데이터 구조 확인"
   ]
  },
  {
   "cell_type": "code",
   "execution_count": 441,
   "id": "dbc16557",
   "metadata": {},
   "outputs": [
    {
     "name": "stdout",
     "output_type": "stream",
     "text": [
      "(3, 2)\n",
      "<class 'pandas.core.frame.DataFrame'>\n",
      "RangeIndex: 3 entries, 0 to 2\n",
      "Data columns (total 2 columns):\n",
      " #   Column  Non-Null Count  Dtype \n",
      "---  ------  --------------  ----- \n",
      " 0   name    3 non-null      object\n",
      " 1   age     3 non-null      int64 \n",
      "dtypes: int64(1), object(1)\n",
      "memory usage: 180.0+ bytes\n",
      "None\n"
     ]
    }
   ],
   "source": [
    "# 데이터의 (행, 열) 출력\n",
    "print(df.shape)\n",
    "# 데이터에 대한 자세한 정보 출력\n",
    "print(df.info())"
   ]
  },
  {
   "cell_type": "code",
   "execution_count": 442,
   "id": "2334560c",
   "metadata": {},
   "outputs": [
    {
     "data": {
      "text/html": [
       "<div>\n",
       "<style scoped>\n",
       "    .dataframe tbody tr th:only-of-type {\n",
       "        vertical-align: middle;\n",
       "    }\n",
       "\n",
       "    .dataframe tbody tr th {\n",
       "        vertical-align: top;\n",
       "    }\n",
       "\n",
       "    .dataframe thead th {\n",
       "        text-align: right;\n",
       "    }\n",
       "</style>\n",
       "<table border=\"1\" class=\"dataframe\">\n",
       "  <thead>\n",
       "    <tr style=\"text-align: right;\">\n",
       "      <th></th>\n",
       "      <th>age</th>\n",
       "    </tr>\n",
       "  </thead>\n",
       "  <tbody>\n",
       "    <tr>\n",
       "      <th>count</th>\n",
       "      <td>3.000000</td>\n",
       "    </tr>\n",
       "    <tr>\n",
       "      <th>mean</th>\n",
       "      <td>28.333333</td>\n",
       "    </tr>\n",
       "    <tr>\n",
       "      <th>std</th>\n",
       "      <td>7.637626</td>\n",
       "    </tr>\n",
       "    <tr>\n",
       "      <th>min</th>\n",
       "      <td>20.000000</td>\n",
       "    </tr>\n",
       "    <tr>\n",
       "      <th>25%</th>\n",
       "      <td>25.000000</td>\n",
       "    </tr>\n",
       "    <tr>\n",
       "      <th>50%</th>\n",
       "      <td>30.000000</td>\n",
       "    </tr>\n",
       "    <tr>\n",
       "      <th>75%</th>\n",
       "      <td>32.500000</td>\n",
       "    </tr>\n",
       "    <tr>\n",
       "      <th>max</th>\n",
       "      <td>35.000000</td>\n",
       "    </tr>\n",
       "  </tbody>\n",
       "</table>\n",
       "</div>"
      ],
      "text/plain": [
       "             age\n",
       "count   3.000000\n",
       "mean   28.333333\n",
       "std     7.637626\n",
       "min    20.000000\n",
       "25%    25.000000\n",
       "50%    30.000000\n",
       "75%    32.500000\n",
       "max    35.000000"
      ]
     },
     "execution_count": 442,
     "metadata": {},
     "output_type": "execute_result"
    }
   ],
   "source": [
    "# 요약된 통계값 출력\n",
    "df.describe()"
   ]
  },
  {
   "cell_type": "code",
   "execution_count": 443,
   "id": "690fc7cc",
   "metadata": {},
   "outputs": [
    {
     "name": "stdout",
     "output_type": "stream",
     "text": [
      "0    20\n",
      "1    30\n",
      "2    35\n",
      "Name: age, dtype: int64\n"
     ]
    },
    {
     "data": {
      "text/html": [
       "<div>\n",
       "<style scoped>\n",
       "    .dataframe tbody tr th:only-of-type {\n",
       "        vertical-align: middle;\n",
       "    }\n",
       "\n",
       "    .dataframe tbody tr th {\n",
       "        vertical-align: top;\n",
       "    }\n",
       "\n",
       "    .dataframe thead th {\n",
       "        text-align: right;\n",
       "    }\n",
       "</style>\n",
       "<table border=\"1\" class=\"dataframe\">\n",
       "  <thead>\n",
       "    <tr style=\"text-align: right;\">\n",
       "      <th></th>\n",
       "      <th>age</th>\n",
       "      <th>name</th>\n",
       "    </tr>\n",
       "  </thead>\n",
       "  <tbody>\n",
       "    <tr>\n",
       "      <th>0</th>\n",
       "      <td>20</td>\n",
       "      <td>하이</td>\n",
       "    </tr>\n",
       "    <tr>\n",
       "      <th>1</th>\n",
       "      <td>30</td>\n",
       "      <td>헬로</td>\n",
       "    </tr>\n",
       "    <tr>\n",
       "      <th>2</th>\n",
       "      <td>35</td>\n",
       "      <td>바이</td>\n",
       "    </tr>\n",
       "  </tbody>\n",
       "</table>\n",
       "</div>"
      ],
      "text/plain": [
       "   age name\n",
       "0   20   하이\n",
       "1   30   헬로\n",
       "2   35   바이"
      ]
     },
     "execution_count": 443,
     "metadata": {},
     "output_type": "execute_result"
    }
   ],
   "source": [
    "print(df['age'])\n",
    "# 열 순서 바꾸기\n",
    "df[['age', 'name']]"
   ]
  },
  {
   "cell_type": "code",
   "execution_count": 444,
   "id": "cd1b3268",
   "metadata": {},
   "outputs": [],
   "source": [
    "data = {\n",
    "    'name' : ['하이', '헬로', '바이'],\n",
    "    'age' : [30, 25, 40],\n",
    "    'score' : [90, 85, 95]\n",
    "}\n",
    "\n",
    "df = pd.DataFrame(data)"
   ]
  },
  {
   "cell_type": "code",
   "execution_count": 445,
   "id": "f862611b",
   "metadata": {},
   "outputs": [
    {
     "name": "stdout",
     "output_type": "stream",
     "text": [
      "  name  age  score\n",
      "0   하이   30     90\n",
      "1   헬로   25     85\n",
      "2   바이   40     95\n",
      "  name  age  score\n",
      "0   하이   30     90\n",
      "2   바이   40     95\n"
     ]
    }
   ],
   "source": [
    "chk_score = df[df['score'] >= 90]\n",
    "print(df)\n",
    "print(chk_score)"
   ]
  },
  {
   "cell_type": "markdown",
   "id": "22b482f6",
   "metadata": {},
   "source": [
    "##### Column(열) 추가"
   ]
  },
  {
   "cell_type": "code",
   "execution_count": 446,
   "id": "607ba93a",
   "metadata": {},
   "outputs": [
    {
     "name": "stdout",
     "output_type": "stream",
     "text": [
      "  name  age  score  passed\n",
      "0   하이   30     90    True\n",
      "1   헬로   25     85   False\n",
      "2   바이   40     95    True\n"
     ]
    }
   ],
   "source": [
    "df['passed'] = df['score'] >= 90\n",
    "print(df)"
   ]
  },
  {
   "cell_type": "markdown",
   "id": "bc3b4238",
   "metadata": {},
   "source": [
    "##### Row(행) 추가"
   ]
  },
  {
   "cell_type": "code",
   "execution_count": 447,
   "id": "c0b4e625",
   "metadata": {},
   "outputs": [
    {
     "name": "stdout",
     "output_type": "stream",
     "text": [
      "  name  age  score  passed\n",
      "0   하이   30     90    True\n",
      "1   헬로   25     85   False\n",
      "2   바이   40     95    True\n",
      "3   씨야   20     88   False\n"
     ]
    }
   ],
   "source": [
    "new_row = {\n",
    "    'name': ['씨야'],\n",
    "    'age': 20,\n",
    "    'score': 88,\n",
    "    'passed': False\n",
    "}\n",
    "\n",
    "df2 = pd.DataFrame(new_row)\n",
    "df3 = pd.concat([df, df2], ignore_index=True)\n",
    "print(df3)"
   ]
  },
  {
   "cell_type": "markdown",
   "id": "8d95f34a",
   "metadata": {},
   "source": [
    "##### 데이터 수정"
   ]
  },
  {
   "cell_type": "code",
   "execution_count": 448,
   "id": "08eef395",
   "metadata": {},
   "outputs": [
    {
     "data": {
      "text/html": [
       "<div>\n",
       "<style scoped>\n",
       "    .dataframe tbody tr th:only-of-type {\n",
       "        vertical-align: middle;\n",
       "    }\n",
       "\n",
       "    .dataframe tbody tr th {\n",
       "        vertical-align: top;\n",
       "    }\n",
       "\n",
       "    .dataframe thead th {\n",
       "        text-align: right;\n",
       "    }\n",
       "</style>\n",
       "<table border=\"1\" class=\"dataframe\">\n",
       "  <thead>\n",
       "    <tr style=\"text-align: right;\">\n",
       "      <th></th>\n",
       "      <th>name</th>\n",
       "      <th>age</th>\n",
       "      <th>score</th>\n",
       "      <th>passed</th>\n",
       "    </tr>\n",
       "  </thead>\n",
       "  <tbody>\n",
       "    <tr>\n",
       "      <th>0</th>\n",
       "      <td>하이</td>\n",
       "      <td>30</td>\n",
       "      <td>75</td>\n",
       "      <td>False</td>\n",
       "    </tr>\n",
       "    <tr>\n",
       "      <th>1</th>\n",
       "      <td>헬로</td>\n",
       "      <td>25</td>\n",
       "      <td>85</td>\n",
       "      <td>True</td>\n",
       "    </tr>\n",
       "    <tr>\n",
       "      <th>2</th>\n",
       "      <td>바이</td>\n",
       "      <td>40</td>\n",
       "      <td>95</td>\n",
       "      <td>True</td>\n",
       "    </tr>\n",
       "    <tr>\n",
       "      <th>3</th>\n",
       "      <td>씨야</td>\n",
       "      <td>20</td>\n",
       "      <td>88</td>\n",
       "      <td>True</td>\n",
       "    </tr>\n",
       "  </tbody>\n",
       "</table>\n",
       "</div>"
      ],
      "text/plain": [
       "  name  age  score  passed\n",
       "0   하이   30     75   False\n",
       "1   헬로   25     85    True\n",
       "2   바이   40     95    True\n",
       "3   씨야   20     88    True"
      ]
     },
     "execution_count": 448,
     "metadata": {},
     "output_type": "execute_result"
    }
   ],
   "source": [
    "# 특정 값 수정\n",
    "df3.loc[0, 'score'] = 75\n",
    "# 전체 행 수정\n",
    "df3['passed'] = df3['score'] >= 80\n",
    "\n",
    "df3"
   ]
  },
  {
   "cell_type": "markdown",
   "id": "ba0f8e7e",
   "metadata": {},
   "source": [
    "##### 결측 값 처리"
   ]
  },
  {
   "cell_type": "code",
   "execution_count": 449,
   "id": "2f6482fa",
   "metadata": {},
   "outputs": [
    {
     "name": "stdout",
     "output_type": "stream",
     "text": [
      "  name  age  score  passed\n",
      "0   하이   30   75.0   False\n",
      "1   헬로   25    NaN    True\n",
      "2   바이   40   95.0    True\n",
      "3   씨야   20   88.0    True\n",
      "    name    age  score  passed\n",
      "0  False  False  False   False\n",
      "1  False  False   True   False\n",
      "2  False  False  False   False\n",
      "3  False  False  False   False\n",
      "  name  age  score  passed\n",
      "0   하이   30   75.0   False\n",
      "1   헬로   25    0.0    True\n",
      "2   바이   40   95.0    True\n",
      "3   씨야   20   88.0    True\n"
     ]
    }
   ],
   "source": [
    "# 결측 값 생성\n",
    "df3.loc[1, 'score'] = None\n",
    "print(df3)\n",
    "\n",
    "# 결측 값 확인\n",
    "print(df3.isnull())\n",
    "\n",
    "# 결측 값 채우기\n",
    "df3['score'] = df3['score'].fillna(0)\n",
    "print(df3)"
   ]
  },
  {
   "cell_type": "code",
   "execution_count": 450,
   "id": "0fcdb999",
   "metadata": {},
   "outputs": [
    {
     "name": "stdout",
     "output_type": "stream",
     "text": [
      "  name  age  score  passed\n",
      "0   하이   30   75.0   False\n",
      "1   헬로   25    NaN    True\n",
      "2   바이   40   95.0    True\n",
      "3   씨야   20   88.0    True\n",
      "    name    age  score  passed\n",
      "0  False  False  False   False\n",
      "1  False  False   True   False\n",
      "2  False  False  False   False\n",
      "3  False  False  False   False\n",
      "  name  age  score  passed\n",
      "0   하이   30   75.0   False\n",
      "2   바이   40   95.0    True\n",
      "3   씨야   20   88.0    True\n"
     ]
    }
   ],
   "source": [
    "# 결측 값 생성\n",
    "df3.loc[1, 'score'] = None\n",
    "print(df3)\n",
    "\n",
    "# 결측 값 확인\n",
    "print(df3.isnull())\n",
    "\n",
    "# 결측 값 삭제\n",
    "df3 = df3.dropna()\n",
    "print(df3)"
   ]
  },
  {
   "cell_type": "markdown",
   "id": "fa9218d9",
   "metadata": {},
   "source": [
    "#### Series\n",
    "- 1차원 구조를 표현하는 타입"
   ]
  },
  {
   "cell_type": "markdown",
   "id": "58ad73a7",
   "metadata": {},
   "source": [
    "##### Series 데이터 생성"
   ]
  },
  {
   "cell_type": "code",
   "execution_count": 451,
   "id": "76eb0c05",
   "metadata": {},
   "outputs": [
    {
     "name": "stdout",
     "output_type": "stream",
     "text": [
      "a    100\n",
      "b    200\n",
      "c    300\n",
      "dtype: int64\n",
      "200 300\n",
      "Index(['a', 'b', 'c'], dtype='object')\n",
      "[100 200 300]\n"
     ]
    }
   ],
   "source": [
    "s1 = pd.Series([100, 200, 300], index=['a', 'b', 'c'])\n",
    "print(s1)\n",
    "\n",
    "# 각 요소 값에 접근\n",
    "print(s1['b'], s1['c'])\n",
    "\n",
    "# 인덱스만 출력\n",
    "print(s1.index)\n",
    "# 값들만 출력\n",
    "print(s1.values)"
   ]
  },
  {
   "cell_type": "code",
   "execution_count": 452,
   "id": "f5e8ac75",
   "metadata": {},
   "outputs": [
    {
     "name": "stdout",
     "output_type": "stream",
     "text": [
      "a    100\n",
      "b    200\n",
      "c    300\n",
      "dtype: int64\n",
      "a    100\n",
      "dtype: int64\n",
      "a    100\n",
      "b    200\n",
      "c    300\n",
      "dtype: int64\n",
      "c    300\n",
      "dtype: int64\n"
     ]
    }
   ],
   "source": [
    "# 상위 n개의 데이터 출력 (default: 5)\n",
    "print(s1.head())\n",
    "print(s1.head(1))\n",
    "# 하위 n개의 데이터 출력 (default: 5)\n",
    "print(s1.tail())\n",
    "print(s1.tail(1))"
   ]
  },
  {
   "cell_type": "markdown",
   "id": "d00f659f",
   "metadata": {},
   "source": [
    "##### 데이터 정렬"
   ]
  },
  {
   "cell_type": "code",
   "execution_count": 453,
   "id": "2273ebd3",
   "metadata": {},
   "outputs": [
    {
     "name": "stdout",
     "output_type": "stream",
     "text": [
      "  name  age  score  passed\n",
      "1   헬로   25     85   False\n",
      "0   하이   30     90    True\n",
      "2   바이   40     95    True\n"
     ]
    }
   ],
   "source": [
    "# 오름차순 정령\n",
    "sorted_df = df.sort_values(by='score', ascending=True)\n",
    "print(sorted_df)"
   ]
  },
  {
   "cell_type": "markdown",
   "id": "6be0deb0",
   "metadata": {},
   "source": [
    "##### 데이터 그룹화"
   ]
  },
  {
   "cell_type": "code",
   "execution_count": 454,
   "id": "f1e89395",
   "metadata": {},
   "outputs": [
    {
     "data": {
      "text/html": [
       "<div>\n",
       "<style scoped>\n",
       "    .dataframe tbody tr th:only-of-type {\n",
       "        vertical-align: middle;\n",
       "    }\n",
       "\n",
       "    .dataframe tbody tr th {\n",
       "        vertical-align: top;\n",
       "    }\n",
       "\n",
       "    .dataframe thead th {\n",
       "        text-align: right;\n",
       "    }\n",
       "</style>\n",
       "<table border=\"1\" class=\"dataframe\">\n",
       "  <thead>\n",
       "    <tr style=\"text-align: right;\">\n",
       "      <th></th>\n",
       "      <th>team</th>\n",
       "      <th>score</th>\n",
       "    </tr>\n",
       "  </thead>\n",
       "  <tbody>\n",
       "    <tr>\n",
       "      <th>0</th>\n",
       "      <td>A</td>\n",
       "      <td>80</td>\n",
       "    </tr>\n",
       "    <tr>\n",
       "      <th>1</th>\n",
       "      <td>A</td>\n",
       "      <td>90</td>\n",
       "    </tr>\n",
       "    <tr>\n",
       "      <th>2</th>\n",
       "      <td>B</td>\n",
       "      <td>78</td>\n",
       "    </tr>\n",
       "    <tr>\n",
       "      <th>3</th>\n",
       "      <td>B</td>\n",
       "      <td>88</td>\n",
       "    </tr>\n",
       "    <tr>\n",
       "      <th>4</th>\n",
       "      <td>C</td>\n",
       "      <td>70</td>\n",
       "    </tr>\n",
       "  </tbody>\n",
       "</table>\n",
       "</div>"
      ],
      "text/plain": [
       "  team  score\n",
       "0    A     80\n",
       "1    A     90\n",
       "2    B     78\n",
       "3    B     88\n",
       "4    C     70"
      ]
     },
     "execution_count": 454,
     "metadata": {},
     "output_type": "execute_result"
    }
   ],
   "source": [
    "data = {\n",
    "    'team': ['A', 'A', 'B', 'B', 'C'],\n",
    "    'score': [80, 90, 78, 88, 70]\n",
    "}\n",
    "\n",
    "df = pd.DataFrame(data)\n",
    "df"
   ]
  },
  {
   "cell_type": "code",
   "execution_count": 455,
   "id": "4bb0ab1c",
   "metadata": {},
   "outputs": [
    {
     "name": "stdout",
     "output_type": "stream",
     "text": [
      "team\n",
      "A    85.0\n",
      "B    83.0\n",
      "C    70.0\n",
      "Name: score, dtype: float64\n"
     ]
    }
   ],
   "source": [
    "group_data = df.groupby('team')['score'].mean()\n",
    "print(group_data)"
   ]
  },
  {
   "cell_type": "markdown",
   "id": "46a44bb7",
   "metadata": {},
   "source": [
    "##### csv 파일로 데이터 저장하기"
   ]
  },
  {
   "cell_type": "code",
   "execution_count": 456,
   "id": "229f81b4",
   "metadata": {},
   "outputs": [],
   "source": [
    "df.to_csv('data/output.csv', index=False)\n",
    "\n",
    "# output.csv\n",
    "# team,score\n",
    "# A,80\n",
    "# A,90\n",
    "# B,78\n",
    "# B,88\n",
    "# C,70"
   ]
  },
  {
   "cell_type": "code",
   "execution_count": 457,
   "id": "8bc43b19",
   "metadata": {},
   "outputs": [],
   "source": [
    "group_data.to_csv('data/result.csv')\n",
    "\n",
    "# result.csv\n",
    "# team,score\n",
    "# A,87.5\n",
    "# B,83.0\n",
    "# C,70.0"
   ]
  },
  {
   "cell_type": "markdown",
   "id": "82355d7f",
   "metadata": {},
   "source": [
    "##### csv 파일 데이터 읽기"
   ]
  },
  {
   "cell_type": "code",
   "execution_count": 458,
   "id": "60ae256d",
   "metadata": {},
   "outputs": [
    {
     "name": "stdout",
     "output_type": "stream",
     "text": [
      "  team  score\n",
      "0    A     80\n",
      "1    A     90\n",
      "2    B     78\n",
      "3    B     88\n",
      "4    C     70 <class 'pandas.core.frame.DataFrame'>\n"
     ]
    }
   ],
   "source": [
    "data_csv = pd.read_csv('data/output.csv')\n",
    "print(data_csv, type(data_csv))"
   ]
  },
  {
   "cell_type": "markdown",
   "id": "fb33e0a7",
   "metadata": {},
   "source": [
    "### 3. 데이터 시각화"
   ]
  },
  {
   "cell_type": "markdown",
   "id": "95bd6a38",
   "metadata": {},
   "source": [
    "#### Matplotlib"
   ]
  },
  {
   "cell_type": "code",
   "execution_count": 459,
   "id": "99cd122d",
   "metadata": {},
   "outputs": [],
   "source": [
    "import matplotlib.pyplot as plt"
   ]
  },
  {
   "cell_type": "markdown",
   "id": "7c48164f",
   "metadata": {},
   "source": [
    "##### 선형 그래프 생성"
   ]
  },
  {
   "cell_type": "code",
   "execution_count": 460,
   "id": "04584f1a",
   "metadata": {},
   "outputs": [
    {
     "data": {
      "image/png": "[encoded data removed]",
      "text/plain": [
       "<Figure size 640x480 with 1 Axes>"
      ]
     },
     "metadata": {},
     "output_type": "display_data"
    }
   ],
   "source": [
    "# 데이터\n",
    "x = [1, 2, 3, 4, 5]\n",
    "y = [2, 3, 5, 7, 13]\n",
    "\n",
    "# 그래프 생성\n",
    "plt.plot(x, y, \n",
    "         marker='o', \n",
    "         linestyle='-', \n",
    "         color='b', \n",
    "         label='Prime Numbers')\n",
    " \n",
    "# 그래프 꾸미기\n",
    "plt.title(\"Line Graph Example\")  # 제목\n",
    "plt.xlabel(\"X-axis\")             # x축 레이블\n",
    "plt.ylabel(\"Y-axis\")             # y축 레이블\n",
    "plt.legend()                     # 범례 표시\n",
    "\n",
    "# 그래프 출력\n",
    "plt.grid(True)  # 격자 추가\n",
    "plt.show()"
   ]
  },
  {
   "cell_type": "markdown",
   "id": "252efbfe",
   "metadata": {},
   "source": [
    "##### 막대 그래프 (Bar Chart) 생성"
   ]
  },
  {
   "cell_type": "code",
   "execution_count": 461,
   "id": "a8b9f264",
   "metadata": {},
   "outputs": [
    {
     "data": {
      "image/png": "[encoded data removed]",
      "text/plain": [
       "<Figure size 640x480 with 1 Axes>"
      ]
     },
     "metadata": {},
     "output_type": "display_data"
    }
   ],
   "source": [
    "# 데이터\n",
    "categories = ['A', 'B', 'C', 'D', 'E']\n",
    "values = [5, 7, 3, 8, 4]\n",
    "\n",
    "# 막대 그래프 생성\n",
    "plt.bar(categories, values, \n",
    "        color='skyblue', \n",
    "        edgecolor='black' )\n",
    "\n",
    "# 수평 막대 그래프\n",
    "# plt.barh(categories, values, \n",
    "#          color='lightgreen', \n",
    "#          edgecolor='black')\n",
    "\n",
    "# 그래프 꾸미기\n",
    "plt.title(\"Bar Chart Example\")  # 제목\n",
    "plt.xlabel(\"Categories\")  # x축 레이블\n",
    "plt.ylabel(\"Values\")  # y축 레이블\n",
    "\n",
    "# 그래프 출력\n",
    "plt.show()"
   ]
  },
  {
   "cell_type": "code",
   "execution_count": 462,
   "id": "8dbd335a",
   "metadata": {},
   "outputs": [
    {
     "data": {
      "image/png": "[encoded data removed]",
      "text/plain": [
       "<Figure size 640x480 with 1 Axes>"
      ]
     },
     "metadata": {},
     "output_type": "display_data"
    }
   ],
   "source": [
    "# 데이터\n",
    "data = np.random.randn(1000)\n",
    "\n",
    "# 히스토그램 생성\n",
    "plt.hist(data, bins=20, color='orange', \n",
    "edgecolor='black', alpha=0.7)\n",
    "\n",
    "# 그래프 꾸미기\n",
    "plt.title(\"Histogram Example\")  # 제목\n",
    "plt.xlabel(\"Value Range\")       # x축 레이블\n",
    "plt.ylabel(\"Frequency\")         # y축 레이블\n",
    "\n",
    "# 그래프 출력\n",
    "plt.show()"
   ]
  },
  {
   "cell_type": "markdown",
   "id": "b38dab6e",
   "metadata": {},
   "source": [
    "#### Seaborn"
   ]
  },
  {
   "cell_type": "code",
   "execution_count": 463,
   "id": "47adc616",
   "metadata": {},
   "outputs": [],
   "source": [
    "import seaborn as sns"
   ]
  },
  {
   "cell_type": "markdown",
   "id": "285aef51",
   "metadata": {},
   "source": [
    "##### 히트맵 (Heatmap)"
   ]
  },
  {
   "cell_type": "code",
   "execution_count": 464,
   "id": "a4dd9579",
   "metadata": {},
   "outputs": [
    {
     "data": {
      "image/png": "[encoded data removed]",
      "text/plain": [
       "<Figure size 640x480 with 2 Axes>"
      ]
     },
     "metadata": {},
     "output_type": "display_data"
    }
   ],
   "source": [
    "# 데이터\n",
    "data = np.random.rand(10, 10)\n",
    "\n",
    "mask = np.triu(np.ones_like(data, dtype=bool))    # 상단 삼각형을 마스킹\n",
    "sns.heatmap(data, annot=True, mask=mask, cmap='coolwarm')\n",
    "\n",
    "plt.title(\"Heatmap Example\")\n",
    "plt.show()"
   ]
  },
  {
   "cell_type": "markdown",
   "id": "4e3b728e",
   "metadata": {},
   "source": [
    "##### 박스 플롯 (Boxplot)"
   ]
  },
  {
   "cell_type": "code",
   "execution_count": 465,
   "id": "25e8df7e",
   "metadata": {},
   "outputs": [
    {
     "name": "stderr",
     "output_type": "stream",
     "text": [
      "C:\\Users\\ez\\AppData\\Local\\Temp\\ipykernel_936\\2305859413.py:4: FutureWarning: \n",
      "\n",
      "Passing `palette` without assigning `hue` is deprecated and will be removed in v0.14.0. Assign the `x` variable to `hue` and set `legend=False` for the same effect.\n",
      "\n",
      "  sns.boxplot(x=\"day\", y=\"total_bill\", data=tips, palette=\"Set2\")\n"
     ]
    },
    {
     "data": {
      "image/png": "[encoded data removed]",
      "text/plain": [
       "<Figure size 640x480 with 1 Axes>"
      ]
     },
     "metadata": {},
     "output_type": "display_data"
    }
   ],
   "source": [
    "# 데이터\n",
    "tips = sns.load_dataset(\"tips\")\n",
    "\n",
    "sns.boxplot(x=\"day\", y=\"total_bill\", data=tips, palette=\"Set2\")\n",
    "\n",
    "plt.title(\"Boxplot Example: Total Bill by Day\")\n",
    "plt.show()"
   ]
  },
  {
   "cell_type": "markdown",
   "id": "e5fc3d98",
   "metadata": {},
   "source": [
    "##### 바이올린 플롯 (Violin Plot)"
   ]
  },
  {
   "cell_type": "code",
   "execution_count": 466,
   "id": "094cabac",
   "metadata": {},
   "outputs": [
    {
     "name": "stderr",
     "output_type": "stream",
     "text": [
      "C:\\Users\\ez\\AppData\\Local\\Temp\\ipykernel_936\\1824537317.py:4: FutureWarning: \n",
      "\n",
      "Passing `palette` without assigning `hue` is deprecated and will be removed in v0.14.0. Assign the `x` variable to `hue` and set `legend=False` for the same effect.\n",
      "\n",
      "  sns.violinplot(x=\"day\", y=\"total_bill\", data=tips, palette=\"muted\", split=True)\n"
     ]
    },
    {
     "data": {
      "image/png": "[encoded data removed]",
      "text/plain": [
       "<Figure size 640x480 with 1 Axes>"
      ]
     },
     "metadata": {},
     "output_type": "display_data"
    }
   ],
   "source": [
    "# 데이터\n",
    "tips = sns.load_dataset(\"tips\")\n",
    "\n",
    "sns.violinplot(x=\"day\", y=\"total_bill\", data=tips, palette=\"muted\", split=True)\n",
    "\n",
    "plt.title(\"Violin Plot Example: Total Bill by Day\")\n",
    "plt.show()"
   ]
  }
 ],
 "metadata": {
  "language_info": {
   "name": "python"
  }
 },
 "nbformat": 4,
 "nbformat_minor": 5
}
