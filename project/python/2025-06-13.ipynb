{
 "cells": [
  {
   "cell_type": "markdown",
   "id": "743d4c15",
   "metadata": {},
   "source": [
    "## 파이썬 기본 문법 정리 5"
   ]
  },
  {
   "cell_type": "markdown",
   "id": "ef1185d3",
   "metadata": {},
   "source": [
    "### 1. "
   ]
  }
 ],
 "metadata": {
  "language_info": {
   "name": "python"
  }
 },
 "nbformat": 4,
 "nbformat_minor": 5
}
